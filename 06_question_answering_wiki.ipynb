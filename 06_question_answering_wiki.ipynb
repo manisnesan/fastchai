{
 "cells": [
  {
   "cell_type": "code",
   "execution_count": null,
   "metadata": {},
   "outputs": [
    {
     "name": "stdout",
     "output_type": "stream",
     "text": [
      "\u001b[?25l\r\u001b[K     |██▍                             | 10kB 25.7MB/s eta 0:00:01\r\u001b[K     |████▊                           | 20kB 17.5MB/s eta 0:00:01\r\u001b[K     |███████                         | 30kB 14.5MB/s eta 0:00:01\r\u001b[K     |█████████▌                      | 40kB 13.1MB/s eta 0:00:01\r\u001b[K     |███████████▉                    | 51kB 7.0MB/s eta 0:00:01\r\u001b[K     |██████████████▏                 | 61kB 6.8MB/s eta 0:00:01\r\u001b[K     |████████████████▋               | 71kB 7.7MB/s eta 0:00:01\r\u001b[K     |███████████████████             | 81kB 8.1MB/s eta 0:00:01\r\u001b[K     |█████████████████████▎          | 92kB 8.4MB/s eta 0:00:01\r\u001b[K     |███████████████████████▋        | 102kB 6.7MB/s eta 0:00:01\r\u001b[K     |██████████████████████████      | 112kB 6.7MB/s eta 0:00:01\r\u001b[K     |████████████████████████████▍   | 122kB 6.7MB/s eta 0:00:01\r\u001b[K     |██████████████████████████████▊ | 133kB 6.7MB/s eta 0:00:01\r\u001b[K     |████████████████████████████████| 143kB 6.7MB/s \n",
      "\u001b[31mERROR: requests 2.23.0 has requirement urllib3!=1.25.0,!=1.25.1,<1.26,>=1.21.1, but you'll have urllib3 1.26.6 which is incompatible.\u001b[0m\n",
      "\u001b[31mERROR: konoha 4.6.5 has requirement importlib-metadata<4.0.0,>=3.7.0, but you'll have importlib-metadata 4.5.0 which is incompatible.\u001b[0m\n",
      "\u001b[31mERROR: konoha 4.6.5 has requirement requests<3.0.0,>=2.25.1, but you'll have requests 2.23.0 which is incompatible.\u001b[0m\n",
      "\u001b[31mERROR: flair 0.8.0.post1 has requirement torch<=1.7.1,>=1.5.0, but you'll have torch 1.9.0+cu102 which is incompatible.\u001b[0m\n",
      "\u001b[31mERROR: datascience 0.10.6 has requirement folium==0.2.1, but you'll have folium 0.8.3 which is incompatible.\u001b[0m\n",
      "\u001b[?25h"
     ]
    }
   ],
   "source": [
    "%pip install adaptnlp -q"
   ]
  },
  {
   "cell_type": "markdown",
   "metadata": {},
   "source": [
    "Survey Paper on Question Answering Systems:\n",
    " [A Review of Question Answering Systems](https://www.riverpublishers.com/journal/journal_articles/RP_Journal_1540-9589_1785.pdf)"
   ]
  },
  {
   "cell_type": "markdown",
   "metadata": {},
   "source": [
    "## Span based Question Answering"
   ]
  },
  {
   "cell_type": "markdown",
   "metadata": {},
   "source": [
    "This is a type of task in NLP where you have two texts 1. Context typically a paragraph 2. Question. **The goal is to extract the answer of the question in the text if it is present**.  \n",
    "\n",
    "What are the applications?\n",
    " These are primarily used for reading comprehension based questions from a long paragraph containing 3-10 sentences."
   ]
  },
  {
   "cell_type": "markdown",
   "metadata": {},
   "source": []
  },
  {
   "cell_type": "code",
   "execution_count": null,
   "metadata": {},
   "outputs": [],
   "source": [
    "from adaptnlp import EasyQuestionAnswering #Default = uses transformer model bert-large-uncased-whole-word-masking-finetuned-squad\n",
    "from pprint import pprint # Pretty-print a Python object to a stream"
   ]
  },
  {
   "cell_type": "code",
   "execution_count": null,
   "metadata": {},
   "outputs": [],
   "source": [
    "## Example Query and Context\n",
    "query = \"What is the meaning of Life\"\n",
    "context = \"Machine Learning is the meaning of life.\"\n",
    "top_n = 5"
   ]
  },
  {
   "cell_type": "code",
   "execution_count": null,
   "metadata": {},
   "outputs": [],
   "source": [
    "## Load the QA module and run inference on results\n",
    "qa = EasyQuestionAnswering()"
   ]
  },
  {
   "cell_type": "code",
   "execution_count": null,
   "metadata": {},
   "outputs": [
    {
     "name": "stderr",
     "output_type": "stream",
     "text": [
      "convert squad examples to features: 100%|██████████| 1/1 [00:00<00:00, 595.61it/s]\n",
      "add example index and unique id: 100%|██████████| 1/1 [00:00<00:00, 410.72it/s]\n"
     ]
    },
    {
     "data": {
      "text/html": [
       ""
      ],
      "text/plain": [
       "<IPython.core.display.HTML object>"
      ]
     },
     "metadata": {},
     "output_type": "display_data"
    }
   ],
   "source": [
    "best_answer, best_n_answers = qa.predict_qa(query=query, context=context, n_best_size=top_n, mini_batch_size=1)"
   ]
  },
  {
   "cell_type": "code",
   "execution_count": null,
   "metadata": {},
   "outputs": [
    {
     "name": "stdout",
     "output_type": "stream",
     "text": [
      "Machine Learning\n"
     ]
    }
   ],
   "source": [
    "print(best_answer)"
   ]
  },
  {
   "cell_type": "code",
   "execution_count": null,
   "metadata": {},
   "outputs": [
    {
     "name": "stdout",
     "output_type": "stream",
     "text": [
      "[OrderedDict([('text', 'Machine Learning'),\n",
      "              ('probability', 0.974163562861556),\n",
      "              ('start_logit', 7.8729153),\n",
      "              ('end_logit', 7.17391),\n",
      "              ('start_index', 0),\n",
      "              ('end_index', 1)]),\n",
      " OrderedDict([('text', 'Machine Learning is the meaning of life.'),\n",
      "              ('probability', 0.02188429973778737),\n",
      "              ('start_logit', 7.8729153),\n",
      "              ('end_logit', 3.3781006),\n",
      "              ('start_index', 0),\n",
      "              ('end_index', 6)]),\n",
      " OrderedDict([('text', 'Learning'),\n",
      "              ('probability', 0.003853539848989407),\n",
      "              ('start_logit', 2.3403282),\n",
      "              ('end_logit', 7.17391),\n",
      "              ('start_index', 1),\n",
      "              ('end_index', 1)]),\n",
      " OrderedDict([('text', 'Learning is the meaning of life.'),\n",
      "              ('probability', 8.65686465002561e-05),\n",
      "              ('start_logit', 2.3403282),\n",
      "              ('end_logit', 3.3781006),\n",
      "              ('start_index', 1),\n",
      "              ('end_index', 6)]),\n",
      " OrderedDict([('text', 'life'),\n",
      "              ('probability', 1.2028905166679688e-05),\n",
      "              ('start_logit', 0.36670247),\n",
      "              ('end_logit', 3.3781006),\n",
      "              ('start_index', 6),\n",
      "              ('end_index', 6)])]\n"
     ]
    }
   ],
   "source": [
    "pprint(best_n_answers)"
   ]
  },
  {
   "cell_type": "code",
   "execution_count": null,
   "metadata": {},
   "outputs": [],
   "source": [
    "\n"
   ]
  },
  {
   "cell_type": "markdown",
   "metadata": {},
   "source": [
    "## Red Hat Insights FAQ"
   ]
  },
  {
   "cell_type": "code",
   "execution_count": null,
   "metadata": {},
   "outputs": [],
   "source": [
    "context = '''\n",
    " Insights includes the following complimentary services: advisor (formerly known as Insights), vulnerability, compliance, patch, drift, and policies. More details about these capabilities are below. In addition, you can access subscription watch for subscription management from the Insights dashboard.\n",
    "\n",
    "Let’s quickly review each of the services offered by Red Hat Insights:\n",
    "\n",
    "Advisor identifies known configuration risks in the operating system, underlying infrastructure, or workloads that impact performance, stability, availability or security best practices. This previously was the single service known as Insights, renamed to Advisor.\n",
    "\n",
    "Vulnerability assesses, remediates, and reports on CVEs that impact Red Hat Enterprise Linux environments in the cloud or on-premises.\n",
    "\n",
    "Compliance analyzes the level of compliance of a Red Hat Enterprise Linux environment to an OpenSCAP policy, based on the corresponding and supported version of the SCAP Security Guide.\n",
    "\n",
    "Patch determines which Red Hat product advisories apply to an organization’s specific Red Hat Enterprise Linux instances. It provides guidance for remediation either manually or via Ansible Playbooks for patching.\n",
    "\n",
    "Drift compares systems to baselines, system histories and to each other to troubleshoot or identify differences.\n",
    "\n",
    "Policies enable organizations to define and monitor for policies that are important internally, with alerts for environments that are not aligned to a policy.\n",
    "\n",
    "Inventory lists the complete inventory of all hosts that are registered to Insights.\n",
    "\n",
    "Remediations shows all Remediation playbooks that have been created for the purpose of simplifying remediation of issues found by Red Hat Insights.\n",
    "'''"
   ]
  },
  {
   "cell_type": "code",
   "execution_count": null,
   "metadata": {},
   "outputs": [
    {
     "name": "stderr",
     "output_type": "stream",
     "text": [
      "convert squad examples to features: 100%|██████████| 1/1 [00:00<00:00, 39.55it/s]\n",
      "add example index and unique id: 100%|██████████| 1/1 [00:00<00:00, 1146.92it/s]\n"
     ]
    },
    {
     "data": {
      "text/html": [
       ""
      ],
      "text/plain": [
       "<IPython.core.display.HTML object>"
      ]
     },
     "metadata": {},
     "output_type": "display_data"
    }
   ],
   "source": [
    "query = \"what are the complimentary services with Insights\"\n",
    "best_answer, best_n_answers = qa.predict_qa(query=query, context=context, n_best_size=top_n, mini_batch_size=1)"
   ]
  },
  {
   "cell_type": "code",
   "execution_count": null,
   "metadata": {},
   "outputs": [
    {
     "data": {
      "text/plain": [
       "'vulnerability, compliance, patch, drift, and policies'"
      ]
     },
     "execution_count": null,
     "metadata": {},
     "output_type": "execute_result"
    }
   ],
   "source": [
    "best_answer"
   ]
  },
  {
   "cell_type": "code",
   "execution_count": null,
   "metadata": {},
   "outputs": [
    {
     "name": "stderr",
     "output_type": "stream",
     "text": [
      "convert squad examples to features: 100%|██████████| 1/1 [00:00<00:00, 38.44it/s]\n",
      "add example index and unique id: 100%|██████████| 1/1 [00:00<00:00, 1244.97it/s]\n"
     ]
    },
    {
     "data": {
      "text/html": [
       ""
      ],
      "text/plain": [
       "<IPython.core.display.HTML object>"
      ]
     },
     "metadata": {},
     "output_type": "display_data"
    }
   ],
   "source": [
    "query = \"What is an Advisor?\"\n",
    "best_answer, best_n_answers = qa.predict_qa(query=query, context=context, n_best_size=top_n, mini_batch_size=1)"
   ]
  },
  {
   "cell_type": "code",
   "execution_count": null,
   "metadata": {},
   "outputs": [
    {
     "data": {
      "text/plain": [
       "'identifies known configuration risks'"
      ]
     },
     "execution_count": null,
     "metadata": {},
     "output_type": "execute_result"
    }
   ],
   "source": [
    "best_answer"
   ]
  },
  {
   "cell_type": "code",
   "execution_count": null,
   "metadata": {},
   "outputs": [
    {
     "name": "stderr",
     "output_type": "stream",
     "text": [
      "convert squad examples to features: 100%|██████████| 1/1 [00:00<00:00, 39.84it/s]\n",
      "add example index and unique id: 100%|██████████| 1/1 [00:00<00:00, 415.65it/s]\n"
     ]
    },
    {
     "data": {
      "text/html": [
       ""
      ],
      "text/plain": [
       "<IPython.core.display.HTML object>"
      ]
     },
     "metadata": {},
     "output_type": "display_data"
    }
   ],
   "source": [
    "query = \"What type of Compliance service provided by Insights?\"\n",
    "best_answer, best_n_answers = qa.predict_qa(query=query, context=context, n_best_size=top_n, mini_batch_size=1)"
   ]
  },
  {
   "cell_type": "code",
   "execution_count": null,
   "metadata": {},
   "outputs": [
    {
     "data": {
      "text/plain": [
       "'OpenSCAP policy,'"
      ]
     },
     "execution_count": null,
     "metadata": {},
     "output_type": "execute_result"
    }
   ],
   "source": [
    "best_answer"
   ]
  },
  {
   "cell_type": "markdown",
   "metadata": {},
   "source": [
    "## Question Answering using Streamlit\n",
    "\n",
    "https://www.mihaileric.com/posts/state-of-the-art-question-answering-streamlit-huggingface/"
   ]
  },
  {
   "cell_type": "markdown",
   "metadata": {},
   "source": [
    "Let's get some data from wikipedia"
   ]
  },
  {
   "cell_type": "code",
   "execution_count": null,
   "metadata": {},
   "outputs": [],
   "source": [
    "%pip install wikipedia -q"
   ]
  },
  {
   "cell_type": "code",
   "execution_count": null,
   "metadata": {},
   "outputs": [],
   "source": [
    "import wikipedia"
   ]
  },
  {
   "cell_type": "code",
   "execution_count": null,
   "metadata": {},
   "outputs": [
    {
     "data": {
      "text/plain": [
       "['Red Hat', 'Red Hat Enterprise Linux']"
      ]
     },
     "execution_count": null,
     "metadata": {},
     "output_type": "execute_result"
    }
   ],
   "source": [
    "wikipedia.search(\"RedHat\", results=2)"
   ]
  },
  {
   "cell_type": "code",
   "execution_count": null,
   "metadata": {},
   "outputs": [
    {
     "data": {
      "text/plain": [
       "'Red Hat, Inc. is an American multinational software company that provides open source software products to enterprises. Founded in 1993, Red Hat has its corporate headquarters in Raleigh, North Carolina, with other offices worldwide. It became a subsidiary of IBM on July 9, 2019.Red Hat has become associated to a large extent with its enterprise operating system Red Hat Enterprise Linux. With the acquisition of open-source enterprise middleware vendor JBoss, Red Hat also offers Red Hat Virtualization (RHV), an enterprise virtualization product. Red Hat provides storage, operating system platforms, middleware, applications, management products, and support, training, and consulting services.\\nRed Hat creates, maintains, and contributes to many free software projects. It has acquired several proprietary software product codebases through corporate mergers and acquisitions and has released such software under open source licenses. As of March 2016, Red Hat is the second largest corporate contributor to the Linux kernel version 4.14 after Intel.On October 28, 2018, IBM announced its intent to acquire Red Hat for $34 billion. The acquisition closed on July 9, 2019. It now operates as an independent subsidiary.\\n\\n'"
      ]
     },
     "execution_count": null,
     "metadata": {},
     "output_type": "execute_result"
    }
   ],
   "source": [
    "wikipedia.summary(\"RedHat\")"
   ]
  },
  {
   "cell_type": "code",
   "execution_count": null,
   "metadata": {},
   "outputs": [],
   "source": [
    "context = wikipedia.summary(\"OpenShift\", sentences=10)"
   ]
  },
  {
   "cell_type": "code",
   "execution_count": null,
   "metadata": {},
   "outputs": [
    {
     "data": {
      "text/plain": [
       "\"OpenShift is a family of containerization software products developed by Red Hat. Its flagship product is the OpenShift Container Platform — an on-premises platform as a service built around Docker containers orchestrated and managed by Kubernetes on a foundation of Red Hat Enterprise Linux. The family's other products provide this platform through different environments: OKD serves as the community-driven upstream (akin to the way that Fedora is upstream of Red Hat Enterprise Linux), OpenShift Online is the platform offered as software as a service, and Openshift Dedicated is the platform offered as a managed service.\\nThe OpenShift Console has developer and administrator oriented views. Administrator views allow one to monitor container resources and container health, manage users, work with operators, etc. Developer views are oriented around working with application resources within a namespace. OpenShift also provides a CLI that supports a superset of the actions that the Kubernetes CLI provides.\\n\\n\\n== History ==\\nOpenShift originally came from Red Hat's acquisition of Makara - a company with a proprietary PaaS solutionbased on Linux containers. Even though OpenShift was announced in May 2011, it was proprietary technology and did not become open-source until May of 2012. Up until v3, the container technology and container orchestration technology used custom developed technologies.\""
      ]
     },
     "execution_count": null,
     "metadata": {},
     "output_type": "execute_result"
    }
   ],
   "source": [
    "context"
   ]
  },
  {
   "cell_type": "code",
   "execution_count": null,
   "metadata": {},
   "outputs": [
    {
     "name": "stderr",
     "output_type": "stream",
     "text": [
      "convert squad examples to features: 100%|██████████| 1/1 [00:00<00:00, 59.59it/s]\n",
      "add example index and unique id: 100%|██████████| 1/1 [00:00<00:00, 2111.94it/s]\n"
     ]
    },
    {
     "data": {
      "text/html": [
       ""
      ],
      "text/plain": [
       "<IPython.core.display.HTML object>"
      ]
     },
     "metadata": {},
     "output_type": "display_data"
    }
   ],
   "source": [
    "query = \"What is the upstream of Red Hat?\"\n",
    "best_answer, _ = qa.predict_qa(query=query, context=context, n_best_size=top_n, mini_batch_size=1)"
   ]
  },
  {
   "cell_type": "code",
   "execution_count": null,
   "metadata": {},
   "outputs": [
    {
     "data": {
      "text/plain": [
       "'Fedora'"
      ]
     },
     "execution_count": null,
     "metadata": {},
     "output_type": "execute_result"
    }
   ],
   "source": [
    "best_answer"
   ]
  },
  {
   "cell_type": "code",
   "execution_count": null,
   "metadata": {},
   "outputs": [
    {
     "name": "stderr",
     "output_type": "stream",
     "text": [
      "convert squad examples to features: 100%|██████████| 1/1 [00:00<00:00, 55.83it/s]\n",
      "add example index and unique id: 100%|██████████| 1/1 [00:00<00:00, 788.70it/s]\n"
     ]
    },
    {
     "data": {
      "text/html": [
       ""
      ],
      "text/plain": [
       "<IPython.core.display.HTML object>"
      ]
     },
     "metadata": {},
     "output_type": "display_data"
    },
    {
     "data": {
      "text/plain": [
       "'a family of containerization software products'"
      ]
     },
     "execution_count": null,
     "metadata": {},
     "output_type": "execute_result"
    }
   ],
   "source": [
    "query = \"What is OpenShift\"\n",
    "best_answer, _ = qa.predict_qa(query=query, context=context, n_best_size=top_n, mini_batch_size=1);best_answer"
   ]
  },
  {
   "cell_type": "code",
   "execution_count": null,
   "metadata": {},
   "outputs": [
    {
     "name": "stderr",
     "output_type": "stream",
     "text": [
      "convert squad examples to features: 100%|██████████| 1/1 [00:00<00:00, 38.56it/s]\n",
      "add example index and unique id: 100%|██████████| 1/1 [00:00<00:00, 327.99it/s]\n"
     ]
    },
    {
     "data": {
      "text/html": [
       ""
      ],
      "text/plain": [
       "<IPython.core.display.HTML object>"
      ]
     },
     "metadata": {},
     "output_type": "display_data"
    },
    {
     "data": {
      "text/plain": [
       "'community-driven upstream'"
      ]
     },
     "execution_count": null,
     "metadata": {},
     "output_type": "execute_result"
    }
   ],
   "source": [
    "query = \"Why OKD?\"\n",
    "best_answer, _ = qa.predict_qa(query=query, context=context, n_best_size=top_n, mini_batch_size=1);best_answer"
   ]
  },
  {
   "cell_type": "code",
   "execution_count": null,
   "metadata": {},
   "outputs": [],
   "source": [
    "def get_context_from_wiki(query: str) -> str:\n",
    "  \"Given a query, return the summary about the query from wikipedia\"\n",
    "  results = wikipedia.search(query)\n",
    "  # There could be more than 1 due to Disambiguation issue\n",
    "  try:\n",
    "    summary = wikipedia.summary(results[0], sentences=10)\n",
    "  except wikipedia.DisambiguationError as e:\n",
    "    ambiguous_terms = e.options\n",
    "    # take the first one from the list of ambiguous terms and try again\n",
    "    return wikipedia.summary(ambiguous_terms[0], sentences=10)\n",
    "  return summary"
   ]
  },
  {
   "cell_type": "code",
   "execution_count": null,
   "metadata": {},
   "outputs": [
    {
     "data": {
      "text/plain": [
       "'Sir Isaac Newton  (25 December 1642 – 20 March 1726/27) was an English mathematician, physicist, astronomer, theologian, and author (described in his time as a \"natural philosopher\") who is widely recognised as one of the greatest mathematicians and most influential scientists of all time and as a key figure in the scientific revolution. His book Philosophiæ Naturalis Principia Mathematica (Mathematical Principles of Natural Philosophy), first published in 1687, established classical mechanics. Newton also made seminal contributions to optics, and shares credit with German mathematician Gottfried Wilhelm Leibniz for developing the infinitesimal calculus.\\nIn Principia, Newton formulated the laws of motion and universal gravitation that formed the dominant scientific viewpoint until it was superseded by the theory of relativity. Newton used his mathematical description of gravity to derive Kepler\\'s laws of planetary motion, account for tides, the trajectories of comets, the precession of the equinoxes and other phenomena, eradicating doubt about the Solar System\\'s heliocentricity. He demonstrated that the motion of objects on Earth and celestial bodies could be accounted for by the same principles. Newton\\'s inference that the Earth is an oblate spheroid was later confirmed by the geodetic measurements of Maupertuis, La Condamine, and others, convincing most European scientists of the superiority of Newtonian mechanics over earlier systems.\\nNewton built the first practical reflecting telescope and developed a sophisticated theory of colour based on the observation that a prism separates white light into the colours of the visible spectrum. His work on light was collected in his highly influential book Opticks, published in 1704. He also formulated an empirical law of cooling, made the first theoretical calculation of the speed of sound, and introduced the notion of a Newtonian fluid.'"
      ]
     },
     "execution_count": null,
     "metadata": {},
     "output_type": "execute_result"
    }
   ],
   "source": [
    "get_context_from_wiki(\"Issac Newton\")"
   ]
  },
  {
   "cell_type": "code",
   "execution_count": null,
   "metadata": {},
   "outputs": [],
   "source": [
    "from adaptnlp import EasyQuestionAnswering\n",
    "\n",
    "def get_qa_module():\n",
    "  qa = EasyQuestionAnswering()\n",
    "  _, _ = qa.predict_qa(query=\"NA\", context=\"NA\", model_name_or_path='distilbert-base-uncased-distilled-squad')\n",
    "  return qa\n",
    "\n",
    "def answer_question(module, question: str, context: str) -> str:\n",
    "  best_answer, best_n_answers = qa.predict_qa(query=question, context=context, n_best_size=1, mini_batch_size=1)\n",
    "  return best_answer"
   ]
  },
  {
   "cell_type": "code",
   "execution_count": null,
   "metadata": {},
   "outputs": [],
   "source": [
    "import warnings\n",
    "warnings.filterwarnings(\"ignore\")"
   ]
  },
  {
   "cell_type": "code",
   "execution_count": null,
   "metadata": {},
   "outputs": [
    {
     "name": "stderr",
     "output_type": "stream",
     "text": [
      "convert squad examples to features: 100%|██████████| 1/1 [00:00<00:00, 784.28it/s]\n",
      "add example index and unique id: 100%|██████████| 1/1 [00:00<00:00, 1415.56it/s]\n"
     ]
    },
    {
     "data": {
      "text/html": [
       ""
      ],
      "text/plain": [
       "<IPython.core.display.HTML object>"
      ]
     },
     "metadata": {},
     "output_type": "display_data"
    }
   ],
   "source": [
    "qa = get_qa_module()"
   ]
  },
  {
   "cell_type": "code",
   "execution_count": null,
   "metadata": {},
   "outputs": [
    {
     "data": {
      "text/plain": [
       "'Sir Isaac Newton  (25 December 1642 – 20 March 1726/27) was an English mathematician, physicist, astronomer, theologian, and author (described in his time as a \"natural philosopher\") who is widely recognised as one of the greatest mathematicians and most influential scientists of all time and as a key figure in the scientific revolution. His book Philosophiæ Naturalis Principia Mathematica (Mathematical Principles of Natural Philosophy), first published in 1687, established classical mechanics. Newton also made seminal contributions to optics, and shares credit with German mathematician Gottfried Wilhelm Leibniz for developing the infinitesimal calculus.\\nIn Principia, Newton formulated the laws of motion and universal gravitation that formed the dominant scientific viewpoint until it was superseded by the theory of relativity. Newton used his mathematical description of gravity to derive Kepler\\'s laws of planetary motion, account for tides, the trajectories of comets, the precession of the equinoxes and other phenomena, eradicating doubt about the Solar System\\'s heliocentricity. He demonstrated that the motion of objects on Earth and celestial bodies could be accounted for by the same principles. Newton\\'s inference that the Earth is an oblate spheroid was later confirmed by the geodetic measurements of Maupertuis, La Condamine, and others, convincing most European scientists of the superiority of Newtonian mechanics over earlier systems.\\nNewton built the first practical reflecting telescope and developed a sophisticated theory of colour based on the observation that a prism separates white light into the colours of the visible spectrum. His work on light was collected in his highly influential book Opticks, published in 1704. He also formulated an empirical law of cooling, made the first theoretical calculation of the speed of sound, and introduced the notion of a Newtonian fluid.'"
      ]
     },
     "execution_count": null,
     "metadata": {},
     "output_type": "execute_result"
    }
   ],
   "source": [
    "get_context_from_wiki(\"Newton\")"
   ]
  },
  {
   "cell_type": "code",
   "execution_count": null,
   "metadata": {},
   "outputs": [
    {
     "name": "stderr",
     "output_type": "stream",
     "text": [
      "convert squad examples to features: 100%|██████████| 1/1 [00:00<00:00, 35.94it/s]\n",
      "add example index and unique id: 100%|██████████| 1/1 [00:00<00:00, 2508.56it/s]\n"
     ]
    },
    {
     "data": {
      "text/html": [
       ""
      ],
      "text/plain": [
       "<IPython.core.display.HTML object>"
      ]
     },
     "metadata": {},
     "output_type": "display_data"
    },
    {
     "data": {
      "text/plain": [
       "'seminal contributions to optics'"
      ]
     },
     "execution_count": null,
     "metadata": {},
     "output_type": "execute_result"
    }
   ],
   "source": [
    "context = get_context_from_wiki(\"Newton\")\n",
    "answer_question(qa, question=\"What are the contributions of Newton?\", context=context)"
   ]
  },
  {
   "cell_type": "code",
   "execution_count": null,
   "metadata": {},
   "outputs": [
    {
     "name": "stderr",
     "output_type": "stream",
     "text": [
      "convert squad examples to features: 100%|██████████| 1/1 [00:00<00:00, 37.99it/s]\n",
      "add example index and unique id: 100%|██████████| 1/1 [00:00<00:00, 1395.78it/s]\n"
     ]
    },
    {
     "data": {
      "text/html": [
       ""
      ],
      "text/plain": [
       "<IPython.core.display.HTML object>"
      ]
     },
     "metadata": {},
     "output_type": "display_data"
    },
    {
     "data": {
      "text/plain": [
       "'mathematical description of gravity'"
      ]
     },
     "execution_count": null,
     "metadata": {},
     "output_type": "execute_result"
    }
   ],
   "source": [
    "answer_question(qa, question=\"What did he use for Kepler's laws?\", context=context)"
   ]
  },
  {
   "cell_type": "code",
   "execution_count": null,
   "metadata": {},
   "outputs": [
    {
     "name": "stderr",
     "output_type": "stream",
     "text": [
      "convert squad examples to features: 100%|██████████| 1/1 [00:00<00:00, 37.59it/s]\n",
      "add example index and unique id: 100%|██████████| 1/1 [00:00<00:00, 3021.83it/s]\n"
     ]
    },
    {
     "data": {
      "text/html": [
       ""
      ],
      "text/plain": [
       "<IPython.core.display.HTML object>"
      ]
     },
     "metadata": {},
     "output_type": "display_data"
    },
    {
     "data": {
      "text/plain": [
       "'1687'"
      ]
     },
     "execution_count": null,
     "metadata": {},
     "output_type": "execute_result"
    }
   ],
   "source": [
    "answer_question(qa, question=\"When did Newton publish the book?\", context=context)"
   ]
  },
  {
   "cell_type": "code",
   "execution_count": null,
   "metadata": {},
   "outputs": [],
   "source": []
  }
 ],
 "metadata": {
  "kernelspec": {
   "display_name": "Python 3",
   "name": "python3"
  }
 },
 "nbformat": 4,
 "nbformat_minor": 0
}
