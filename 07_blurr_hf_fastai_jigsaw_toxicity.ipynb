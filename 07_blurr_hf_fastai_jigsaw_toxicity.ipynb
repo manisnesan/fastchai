{
 "cells": [
  {
   "cell_type": "markdown",
   "metadata": {},
   "source": [
    "This notebook uses blurr, integration library between fastai and huggingface to train a multilabel classification model to identify the toxic comments from the dataset.\n",
    "\n",
    "DataSet: [Jigsaw Toxicity Prediction](https://huggingface.co/datasets/jigsaw_toxicity_pred)"
   ]
  },
  {
   "cell_type": "code",
   "execution_count": null,
   "metadata": {},
   "outputs": [
    {
     "name": "stdout",
     "output_type": "stream",
     "text": [
      "\u001b[?25l\r\u001b[K     |█▊                              | 10kB 25.2MB/s eta 0:00:01\r\u001b[K     |███▍                            | 20kB 32.3MB/s eta 0:00:01\r\u001b[K     |█████                           | 30kB 22.5MB/s eta 0:00:01\r\u001b[K     |██████▊                         | 40kB 17.5MB/s eta 0:00:01\r\u001b[K     |████████▍                       | 51kB 8.6MB/s eta 0:00:01\r\u001b[K     |██████████                      | 61kB 7.9MB/s eta 0:00:01\r\u001b[K     |███████████▉                    | 71kB 8.9MB/s eta 0:00:01\r\u001b[K     |█████████████▌                  | 81kB 9.8MB/s eta 0:00:01\r\u001b[K     |███████████████▏                | 92kB 10.3MB/s eta 0:00:01\r\u001b[K     |████████████████▉               | 102kB 7.2MB/s eta 0:00:01\r\u001b[K     |██████████████████▌             | 112kB 7.2MB/s eta 0:00:01\r\u001b[K     |████████████████████▏           | 122kB 7.2MB/s eta 0:00:01\r\u001b[K     |██████████████████████          | 133kB 7.2MB/s eta 0:00:01\r\u001b[K     |███████████████████████▋        | 143kB 7.2MB/s eta 0:00:01\r\u001b[K     |█████████████████████████▎      | 153kB 7.2MB/s eta 0:00:01\r\u001b[K     |███████████████████████████     | 163kB 7.2MB/s eta 0:00:01\r\u001b[K     |████████████████████████████▋   | 174kB 7.2MB/s eta 0:00:01\r\u001b[K     |██████████████████████████████▎ | 184kB 7.2MB/s eta 0:00:01\r\u001b[K     |████████████████████████████████| 194kB 7.2MB/s eta 0:00:01\r\u001b[K     |████████████████████████████████| 204kB 7.2MB/s \n",
      "\u001b[K     |████████████████████████████████| 61kB 8.8MB/s \n",
      "\u001b[K     |████████████████████████████████| 51kB 5.2MB/s \n",
      "\u001b[K     |████████████████████████████████| 61kB 8.1MB/s \n",
      "\u001b[K     |████████████████████████████████| 61kB 4.8MB/s \n",
      "\u001b[K     |████████████████████████████████| 245kB 12.8MB/s \n",
      "\u001b[K     |████████████████████████████████| 51kB 7.4MB/s \n",
      "\u001b[K     |████████████████████████████████| 2.3MB 12.9MB/s \n",
      "\u001b[K     |████████████████████████████████| 1.2MB 52.3MB/s \n",
      "\u001b[K     |████████████████████████████████| 122kB 58.7MB/s \n",
      "\u001b[K     |████████████████████████████████| 245kB 51.7MB/s \n",
      "\u001b[K     |████████████████████████████████| 3.3MB 54.0MB/s \n",
      "\u001b[K     |████████████████████████████████| 901kB 45.9MB/s \n",
      "\u001b[?25h  Building wheel for seqeval (setup.py) ... \u001b[?25l\u001b[?25hdone\n",
      "\u001b[31mERROR: transformers 4.6.1 has requirement huggingface-hub==0.0.8, but you'll have huggingface-hub 0.0.10 which is incompatible.\u001b[0m\n"
     ]
    }
   ],
   "source": [
    "#hide\n",
    "!pip install fastai -q --upgrade\n",
    "!pip install nbdev -q --upgrade\n",
    "!pip install -q huggingface-hub>0.0.10\n",
    "!pip install ohmeow-blurr -q --upgrade"
   ]
  },
  {
   "cell_type": "code",
   "execution_count": null,
   "metadata": {},
   "outputs": [],
   "source": [
    "#hide\n",
    "%pip install datasets -q --upgrade #datasets & evaluation metrics for nlp from HF"
   ]
  },
  {
   "cell_type": "markdown",
   "metadata": {},
   "source": [
    "# Imports"
   ]
  },
  {
   "cell_type": "code",
   "execution_count": null,
   "metadata": {},
   "outputs": [],
   "source": [
    "import torch\n",
    "from datasets import load_dataset\n",
    "\n",
    "from transformers import *\n",
    "from fastai.text.all import * \n",
    "\n",
    "from blurr.data.all import *\n",
    "from blurr.modeling.all import *"
   ]
  },
  {
   "cell_type": "code",
   "execution_count": null,
   "metadata": {},
   "outputs": [],
   "source": [
    "#hide\n",
    "from nbdev.showdoc import show_doc\n",
    "\n",
    "from fastai import __version__ as fastai_version\n",
    "from torch import __version__ as torch_version\n",
    "from transformers import __version__ as transformers_version"
   ]
  },
  {
   "cell_type": "code",
   "execution_count": null,
   "metadata": {},
   "outputs": [
    {
     "name": "stdout",
     "output_type": "stream",
     "text": [
      "Pytorch: 1.8.1+cu101 Fastai: 2.3.1 HF Transformers: 4.6.1\n"
     ]
    }
   ],
   "source": [
    "print(f'Pytorch: {torch_version} Fastai: {fastai_version} HF Transformers: {transformers_version}')"
   ]
  },
  {
   "cell_type": "code",
   "execution_count": null,
   "metadata": {},
   "outputs": [
    {
     "name": "stdout",
     "output_type": "stream",
     "text": [
      "Using GPU #0: Tesla T4\n"
     ]
    }
   ],
   "source": [
    "#cuda\n",
    "#torch.cuda.set_device(1)\n",
    "print(f'Using GPU #{torch.cuda.current_device()}: {torch.cuda.get_device_name()}')"
   ]
  },
  {
   "cell_type": "markdown",
   "metadata": {},
   "source": [
    "# Get your data"
   ]
  },
  {
   "cell_type": "code",
   "execution_count": null,
   "metadata": {},
   "outputs": [],
   "source": [
    "%mkdir data"
   ]
  },
  {
   "cell_type": "code",
   "execution_count": null,
   "metadata": {},
   "outputs": [
    {
     "data": {
      "application/vnd.jupyter.widget-view+json": {
       "model_id": "0d7963f9331d4e93ad58b308b808384d",
       "version_major": 2,
       "version_minor": 0
      },
      "text/plain": [
       "HBox(children=(FloatProgress(value=0.0, description='Downloading', max=2414.0, style=ProgressStyle(description…"
      ]
     },
     "metadata": {},
     "output_type": "display_data"
    },
    {
     "name": "stdout",
     "output_type": "stream",
     "text": [
      "\n"
     ]
    },
    {
     "data": {
      "application/vnd.jupyter.widget-view+json": {
       "model_id": "c7477b48f71c44408d440af3d48e360f",
       "version_major": 2,
       "version_minor": 0
      },
      "text/plain": [
       "HBox(children=(FloatProgress(value=0.0, description='Downloading', max=1377.0, style=ProgressStyle(description…"
      ]
     },
     "metadata": {},
     "output_type": "display_data"
    },
    {
     "name": "stderr",
     "output_type": "stream",
     "text": [
      "Using custom data configuration default\n"
     ]
    },
    {
     "name": "stdout",
     "output_type": "stream",
     "text": [
      "\n",
      "Downloading and preparing dataset civil_comments/default (download: 395.73 MiB, generated: 630.60 MiB, post-processed: Unknown size, total: 1.00 GiB) to /root/.cache/huggingface/datasets/civil_comments/default/0.9.0/e7a3aacd2ab7d135fa958e7209d10b1fa03807d44c486e3c34897aa08ea8ffab...\n"
     ]
    },
    {
     "data": {
      "application/vnd.jupyter.widget-view+json": {
       "model_id": "db5967db0d9b4fd3b89649a8ca8dff84",
       "version_major": 2,
       "version_minor": 0
      },
      "text/plain": [
       "HBox(children=(FloatProgress(value=0.0, description='Downloading', max=414947977.0, style=ProgressStyle(descri…"
      ]
     },
     "metadata": {},
     "output_type": "display_data"
    },
    {
     "name": "stdout",
     "output_type": "stream",
     "text": [
      "\n"
     ]
    },
    {
     "data": {
      "application/vnd.jupyter.widget-view+json": {
       "model_id": "4c42971e1ab14e96ae4f338e9ddc3e8a",
       "version_major": 2,
       "version_minor": 0
      },
      "text/plain": [
       "HBox(children=(FloatProgress(value=1.0, bar_style='info', max=1.0), HTML(value='')))"
      ]
     },
     "metadata": {},
     "output_type": "display_data"
    },
    {
     "name": "stdout",
     "output_type": "stream",
     "text": [
      "\r"
     ]
    },
    {
     "data": {
      "application/vnd.jupyter.widget-view+json": {
       "model_id": "27189f3fa6fa42efa27faa73cb9ad683",
       "version_major": 2,
       "version_minor": 0
      },
      "text/plain": [
       "HBox(children=(FloatProgress(value=1.0, bar_style='info', max=1.0), HTML(value='')))"
      ]
     },
     "metadata": {},
     "output_type": "display_data"
    },
    {
     "name": "stdout",
     "output_type": "stream",
     "text": [
      "\r"
     ]
    },
    {
     "data": {
      "application/vnd.jupyter.widget-view+json": {
       "model_id": "8de57d390633488abbb730171dcee66d",
       "version_major": 2,
       "version_minor": 0
      },
      "text/plain": [
       "HBox(children=(FloatProgress(value=1.0, bar_style='info', max=1.0), HTML(value='')))"
      ]
     },
     "metadata": {},
     "output_type": "display_data"
    },
    {
     "name": "stdout",
     "output_type": "stream",
     "text": [
      "\rDataset civil_comments downloaded and prepared to /root/.cache/huggingface/datasets/civil_comments/default/0.9.0/e7a3aacd2ab7d135fa958e7209d10b1fa03807d44c486e3c34897aa08ea8ffab. Subsequent calls will reuse this data.\n"
     ]
    }
   ],
   "source": [
    "raw_data = load_dataset('civil_comments', split='train[:1%]')"
   ]
  },
  {
   "cell_type": "code",
   "execution_count": null,
   "metadata": {},
   "outputs": [
    {
     "data": {
      "text/plain": [
       "18049"
      ]
     },
     "execution_count": null,
     "metadata": {},
     "output_type": "execute_result"
    }
   ],
   "source": [
    "len(raw_data)"
   ]
  },
  {
   "cell_type": "code",
   "execution_count": null,
   "metadata": {},
   "outputs": [
    {
     "data": {
      "text/html": [
       "<div>\n",
       "<style scoped>\n",
       "    .dataframe tbody tr th:only-of-type {\n",
       "        vertical-align: middle;\n",
       "    }\n",
       "\n",
       "    .dataframe tbody tr th {\n",
       "        vertical-align: top;\n",
       "    }\n",
       "\n",
       "    .dataframe thead th {\n",
       "        text-align: right;\n",
       "    }\n",
       "</style>\n",
       "<table border=\"1\" class=\"dataframe\">\n",
       "  <thead>\n",
       "    <tr style=\"text-align: right;\">\n",
       "      <th></th>\n",
       "      <th>identity_attack</th>\n",
       "      <th>insult</th>\n",
       "      <th>obscene</th>\n",
       "      <th>severe_toxicity</th>\n",
       "      <th>sexual_explicit</th>\n",
       "      <th>text</th>\n",
       "      <th>threat</th>\n",
       "      <th>toxicity</th>\n",
       "    </tr>\n",
       "  </thead>\n",
       "  <tbody>\n",
       "    <tr>\n",
       "      <th>0</th>\n",
       "      <td>0.000000</td>\n",
       "      <td>0.00000</td>\n",
       "      <td>0.0</td>\n",
       "      <td>0.000000</td>\n",
       "      <td>0.0</td>\n",
       "      <td>This is so cool. It's like, 'would you want your mother to read this??' Really great idea, well done!</td>\n",
       "      <td>0.0</td>\n",
       "      <td>0.000000</td>\n",
       "    </tr>\n",
       "    <tr>\n",
       "      <th>1</th>\n",
       "      <td>0.000000</td>\n",
       "      <td>0.00000</td>\n",
       "      <td>0.0</td>\n",
       "      <td>0.000000</td>\n",
       "      <td>0.0</td>\n",
       "      <td>Thank you!! This would make my life a lot less anxiety-inducing. Keep it up, and don't let anyone get in your way!</td>\n",
       "      <td>0.0</td>\n",
       "      <td>0.000000</td>\n",
       "    </tr>\n",
       "    <tr>\n",
       "      <th>2</th>\n",
       "      <td>0.000000</td>\n",
       "      <td>0.00000</td>\n",
       "      <td>0.0</td>\n",
       "      <td>0.000000</td>\n",
       "      <td>0.0</td>\n",
       "      <td>This is such an urgent design problem; kudos to you for taking it on. Very impressive!</td>\n",
       "      <td>0.0</td>\n",
       "      <td>0.000000</td>\n",
       "    </tr>\n",
       "    <tr>\n",
       "      <th>3</th>\n",
       "      <td>0.000000</td>\n",
       "      <td>0.00000</td>\n",
       "      <td>0.0</td>\n",
       "      <td>0.000000</td>\n",
       "      <td>0.0</td>\n",
       "      <td>Is this something I'll be able to install on my site? When will you be releasing it?</td>\n",
       "      <td>0.0</td>\n",
       "      <td>0.000000</td>\n",
       "    </tr>\n",
       "    <tr>\n",
       "      <th>4</th>\n",
       "      <td>0.021277</td>\n",
       "      <td>0.87234</td>\n",
       "      <td>0.0</td>\n",
       "      <td>0.021277</td>\n",
       "      <td>0.0</td>\n",
       "      <td>haha you guys are a bunch of losers.</td>\n",
       "      <td>0.0</td>\n",
       "      <td>0.893617</td>\n",
       "    </tr>\n",
       "  </tbody>\n",
       "</table>\n",
       "</div>"
      ],
      "text/plain": [
       "   identity_attack   insult  ...  threat  toxicity\n",
       "0         0.000000  0.00000  ...     0.0  0.000000\n",
       "1         0.000000  0.00000  ...     0.0  0.000000\n",
       "2         0.000000  0.00000  ...     0.0  0.000000\n",
       "3         0.000000  0.00000  ...     0.0  0.000000\n",
       "4         0.021277  0.87234  ...     0.0  0.893617\n",
       "\n",
       "[5 rows x 8 columns]"
      ]
     },
     "execution_count": null,
     "metadata": {},
     "output_type": "execute_result"
    }
   ],
   "source": [
    "toxic_df = pd.DataFrame(raw_data)\n",
    "toxic_df.head()"
   ]
  },
  {
   "cell_type": "code",
   "execution_count": null,
   "metadata": {},
   "outputs": [
    {
     "ename": "NameError",
     "evalue": "ignored",
     "output_type": "error",
     "traceback": [
      "\u001b[0;31m---------------------------------------------------------------------------\u001b[0m",
      "\u001b[0;31mNameError\u001b[0m                                 Traceback (most recent call last)",
      "\u001b[0;32m<ipython-input-4-e318b3d73f77>\u001b[0m in \u001b[0;36m<module>\u001b[0;34m()\u001b[0m\n\u001b[0;32m----> 1\u001b[0;31m \u001b[0mtoxic_df\u001b[0m\u001b[0;34m.\u001b[0m\u001b[0mcolumns\u001b[0m\u001b[0;34m\u001b[0m\u001b[0;34m\u001b[0m\u001b[0m\n\u001b[0m",
      "\u001b[0;31mNameError\u001b[0m: name 'toxic_df' is not defined"
     ]
    }
   ],
   "source": [
    "toxic_df.columns"
   ]
  },
  {
   "cell_type": "code",
   "execution_count": null,
   "metadata": {},
   "outputs": [
    {
     "data": {
      "text/plain": [
       "['insult',\n",
       " 'obscene',\n",
       " 'severe_toxicity',\n",
       " 'sexual_explicit',\n",
       " 'threat',\n",
       " 'toxicity']"
      ]
     },
     "execution_count": null,
     "metadata": {},
     "output_type": "execute_result"
    }
   ],
   "source": [
    "label_columns = list(toxic_df.columns[1:]);\n",
    "label_columns.remove('text');\n",
    "label_columns"
   ]
  },
  {
   "cell_type": "code",
   "execution_count": null,
   "metadata": {},
   "outputs": [
    {
     "data": {
      "text/html": [
       "<div>\n",
       "<style scoped>\n",
       "    .dataframe tbody tr th:only-of-type {\n",
       "        vertical-align: middle;\n",
       "    }\n",
       "\n",
       "    .dataframe tbody tr th {\n",
       "        vertical-align: top;\n",
       "    }\n",
       "\n",
       "    .dataframe thead th {\n",
       "        text-align: right;\n",
       "    }\n",
       "</style>\n",
       "<table border=\"1\" class=\"dataframe\">\n",
       "  <thead>\n",
       "    <tr style=\"text-align: right;\">\n",
       "      <th></th>\n",
       "      <th>identity_attack</th>\n",
       "      <th>insult</th>\n",
       "      <th>obscene</th>\n",
       "      <th>severe_toxicity</th>\n",
       "      <th>sexual_explicit</th>\n",
       "      <th>text</th>\n",
       "      <th>threat</th>\n",
       "      <th>toxicity</th>\n",
       "    </tr>\n",
       "  </thead>\n",
       "  <tbody>\n",
       "    <tr>\n",
       "      <th>0</th>\n",
       "      <td>0.000000</td>\n",
       "      <td>0.00000</td>\n",
       "      <td>0.0</td>\n",
       "      <td>0.000000</td>\n",
       "      <td>0.0</td>\n",
       "      <td>This is so cool. It's like, 'would you want your mother to read this??' Really great idea, well done!</td>\n",
       "      <td>0.0</td>\n",
       "      <td>0.000000</td>\n",
       "    </tr>\n",
       "    <tr>\n",
       "      <th>1</th>\n",
       "      <td>0.000000</td>\n",
       "      <td>0.00000</td>\n",
       "      <td>0.0</td>\n",
       "      <td>0.000000</td>\n",
       "      <td>0.0</td>\n",
       "      <td>Thank you!! This would make my life a lot less anxiety-inducing. Keep it up, and don't let anyone get in your way!</td>\n",
       "      <td>0.0</td>\n",
       "      <td>0.000000</td>\n",
       "    </tr>\n",
       "    <tr>\n",
       "      <th>2</th>\n",
       "      <td>0.000000</td>\n",
       "      <td>0.00000</td>\n",
       "      <td>0.0</td>\n",
       "      <td>0.000000</td>\n",
       "      <td>0.0</td>\n",
       "      <td>This is such an urgent design problem; kudos to you for taking it on. Very impressive!</td>\n",
       "      <td>0.0</td>\n",
       "      <td>0.000000</td>\n",
       "    </tr>\n",
       "    <tr>\n",
       "      <th>3</th>\n",
       "      <td>0.000000</td>\n",
       "      <td>0.00000</td>\n",
       "      <td>0.0</td>\n",
       "      <td>0.000000</td>\n",
       "      <td>0.0</td>\n",
       "      <td>Is this something I'll be able to install on my site? When will you be releasing it?</td>\n",
       "      <td>0.0</td>\n",
       "      <td>0.000000</td>\n",
       "    </tr>\n",
       "    <tr>\n",
       "      <th>4</th>\n",
       "      <td>0.021277</td>\n",
       "      <td>0.87234</td>\n",
       "      <td>0.0</td>\n",
       "      <td>0.021277</td>\n",
       "      <td>0.0</td>\n",
       "      <td>haha you guys are a bunch of losers.</td>\n",
       "      <td>0.0</td>\n",
       "      <td>0.893617</td>\n",
       "    </tr>\n",
       "  </tbody>\n",
       "</table>\n",
       "</div>"
      ],
      "text/plain": [
       "   identity_attack   insult  ...  threat  toxicity\n",
       "0         0.000000  0.00000  ...     0.0  0.000000\n",
       "1         0.000000  0.00000  ...     0.0  0.000000\n",
       "2         0.000000  0.00000  ...     0.0  0.000000\n",
       "3         0.000000  0.00000  ...     0.0  0.000000\n",
       "4         0.021277  0.87234  ...     0.0  0.893617\n",
       "\n",
       "[5 rows x 8 columns]"
      ]
     },
     "execution_count": null,
     "metadata": {},
     "output_type": "execute_result"
    }
   ],
   "source": [
    "toxic_df.round({col: 0 for col in label_columns}) #round the toxic dataframe to a var number of decimal places\n",
    "toxic_df = toxic_df.convert_dtypes()\n",
    "\n",
    "toxic_df.head()"
   ]
  },
  {
   "cell_type": "markdown",
   "metadata": {},
   "source": [
    "# Get your huggingface objects"
   ]
  },
  {
   "cell_type": "markdown",
   "metadata": {},
   "source": []
  },
  {
   "cell_type": "code",
   "execution_count": null,
   "metadata": {},
   "outputs": [],
   "source": [
    "model_cls = AutoModelForSequenceClassification"
   ]
  },
  {
   "cell_type": "code",
   "execution_count": null,
   "metadata": {},
   "outputs": [],
   "source": [
    "#Define the pretrained model that we want to use\n",
    "\n",
    "#The DistilRoBERTa model distilled from the RoBERTa model roberta-base checkpoint.\n",
    "#Compressed model from roberta  having 35% less params & runs twice faster & preserves 95%\n",
    "pretrained_model_name = 'distilroberta-base' "
   ]
  },
  {
   "cell_type": "markdown",
   "metadata": {},
   "source": [
    "Pretrained models from HuggingFace can be found here\n",
    "https://huggingface.co/transformers/pretrained_models.html\n",
    "\n",
    "Community uploaded models\n",
    "https://huggingface.co/models."
   ]
  },
  {
   "cell_type": "markdown",
   "metadata": {},
   "source": [
    "- `t5`: :class:`~transformers.T5Config` (T5 model)\n",
    "- `distilbert`: :class:`~transformers.DistilBertConfig` (DistilBERT model)\n",
    "- `albert`: :class:`~transformers.AlbertConfig` (ALBERT model)\n",
    "- `camembert`: :class:`~transformers.CamembertConfig` (CamemBERT model)\n",
    "- `xlm-roberta`: :class:`~transformers.XLMRobertaConfig` (XLM-RoBERTa model)\n",
    "- `longformer`: :class:`~transformers.LongformerConfig` (Longformer model)\n",
    "- `roberta`: :class:`~transformers.RobertaConfig` (RoBERTa model)\n",
    "- `reformer`: :class:`~transformers.ReformerConfig` (Reformer model)\n",
    "- `bert`: :class:`~transformers.BertConfig` (Bert model)\n",
    "- `openai-gpt`: :class:`~transformers.OpenAIGPTConfig` (OpenAI GPT model)\n",
    "- `gpt2`: :class:`~transformers.GPT2Config` (OpenAI GPT-2 model)\n",
    "- `transfo-xl`: :class:`~transformers.TransfoXLConfig` (Transformer-XL model)\n",
    "- `xlnet`: :class:`~transformers.XLNetConfig` (XLNet model)\n",
    "- `xlm`: :class:`~transformers.XLMConfig` (XLM model)\n",
    "- `ctrl` : :class:`~transformers.CTRLConfig` (CTRL model)\n",
    "- `flaubert` : :class:`~transformers.FlaubertConfig` (Flaubert model)\n",
    "- `electra` : :class:`~transformers.ElectraConfig` (ELECTRA model)"
   ]
  },
  {
   "cell_type": "code",
   "execution_count": null,
   "metadata": {},
   "outputs": [
    {
     "data": {
      "application/vnd.jupyter.widget-view+json": {
       "model_id": "1dc0cafbe3ff4450a4b3354cc8e493af",
       "version_major": 2,
       "version_minor": 0
      },
      "text/plain": [
       "HBox(children=(FloatProgress(value=0.0, description='Downloading', max=480.0, style=ProgressStyle(description_…"
      ]
     },
     "metadata": {},
     "output_type": "display_data"
    },
    {
     "name": "stdout",
     "output_type": "stream",
     "text": [
      "\n"
     ]
    }
   ],
   "source": [
    "config = AutoConfig.from_pretrained(pretrained_model_name)  # Download configuration from S3 and cache."
   ]
  },
  {
   "cell_type": "code",
   "execution_count": null,
   "metadata": {},
   "outputs": [
    {
     "data": {
      "text/plain": [
       "RobertaConfig {\n",
       "  \"architectures\": [\n",
       "    \"RobertaForMaskedLM\"\n",
       "  ],\n",
       "  \"attention_probs_dropout_prob\": 0.1,\n",
       "  \"bos_token_id\": 0,\n",
       "  \"eos_token_id\": 2,\n",
       "  \"gradient_checkpointing\": false,\n",
       "  \"hidden_act\": \"gelu\",\n",
       "  \"hidden_dropout_prob\": 0.1,\n",
       "  \"hidden_size\": 768,\n",
       "  \"initializer_range\": 0.02,\n",
       "  \"intermediate_size\": 3072,\n",
       "  \"layer_norm_eps\": 1e-05,\n",
       "  \"max_position_embeddings\": 514,\n",
       "  \"model_type\": \"roberta\",\n",
       "  \"num_attention_heads\": 12,\n",
       "  \"num_hidden_layers\": 6,\n",
       "  \"pad_token_id\": 1,\n",
       "  \"position_embedding_type\": \"absolute\",\n",
       "  \"transformers_version\": \"4.6.1\",\n",
       "  \"type_vocab_size\": 1,\n",
       "  \"use_cache\": true,\n",
       "  \"vocab_size\": 50265\n",
       "}"
      ]
     },
     "execution_count": null,
     "metadata": {},
     "output_type": "execute_result"
    }
   ],
   "source": [
    "config"
   ]
  },
  {
   "cell_type": "code",
   "execution_count": null,
   "metadata": {},
   "outputs": [
    {
     "ename": "NameError",
     "evalue": "ignored",
     "output_type": "error",
     "traceback": [
      "\u001b[0;31m---------------------------------------------------------------------------\u001b[0m",
      "\u001b[0;31mNameError\u001b[0m                                 Traceback (most recent call last)",
      "\u001b[0;32m<ipython-input-9-babecf6ae69b>\u001b[0m in \u001b[0;36m<module>\u001b[0;34m()\u001b[0m\n\u001b[0;32m----> 1\u001b[0;31m \u001b[0mconfig\u001b[0m\u001b[0;34m.\u001b[0m\u001b[0mnum_labels\u001b[0m \u001b[0;34m=\u001b[0m \u001b[0mlen\u001b[0m\u001b[0;34m(\u001b[0m\u001b[0mlabel_columns\u001b[0m\u001b[0;34m)\u001b[0m\u001b[0;34m\u001b[0m\u001b[0;34m\u001b[0m\u001b[0m\n\u001b[0m",
      "\u001b[0;31mNameError\u001b[0m: name 'label_columns' is not defined"
     ]
    }
   ],
   "source": [
    "config.num_labels = len(label_columns)"
   ]
  },
  {
   "cell_type": "code",
   "execution_count": null,
   "metadata": {},
   "outputs": [
    {
     "data": {
      "text/html": [
       "<h4 id=\"BlurrUtil.get_hf_objects\" class=\"doc_header\"><code>BlurrUtil.get_hf_objects</code><a href=\"https://github.com/ohmeow/blurr/tree/master/blurr/utils.py#L140\" class=\"source_link\" style=\"float:right\">[source]</a></h4><blockquote><p><code>BlurrUtil.get_hf_objects</code>(<strong><code>pretrained_model_name_or_path</code></strong>, <strong><code>task</code></strong>=<em><code>None</code></em>, <strong><code>config</code></strong>=<em><code>None</code></em>, <strong><code>tokenizer_cls</code></strong>=<em><code>None</code></em>, <strong><code>model_cls</code></strong>=<em><code>None</code></em>, <strong><code>config_kwargs</code></strong>=<em><code>{}</code></em>, <strong><code>tokenizer_kwargs</code></strong>=<em><code>{}</code></em>, <strong><code>model_kwargs</code></strong>=<em><code>{}</code></em>, <strong><code>cache_dir</code></strong>=<em><code>None</code></em>)</p>\n",
       "</blockquote>\n",
       "<p>Returns the architecture (str), config (obj), tokenizer (obj), and model (obj) given at minimum a\n",
       "<code>pre-trained model name or path</code>. Specify a <code>task</code> to ensure the right \"AutoModelFor<task>\" is used to\n",
       "create the model.</p>\n",
       "<p>Optionally, you can pass a config (obj), tokenizer (class), and/or model (class) (along with any\n",
       "related kwargs for each) to get as specific as you want w/r/t what huggingface objects are returned.</p>\n",
       "<p><a href=\"https://ohmeow.github.io/blurr/utils#BlurrUtil.get_hf_objects\" target=\"_blank\" rel=\"noreferrer noopener\">Show in docs</a></p>\n"
      ],
      "text/plain": [
       "<IPython.core.display.HTML object>"
      ]
     },
     "metadata": {},
     "output_type": "display_data"
    }
   ],
   "source": [
    "doc(BLURR.get_hf_objects)"
   ]
  },
  {
   "cell_type": "code",
   "execution_count": null,
   "metadata": {},
   "outputs": [],
   "source": [
    "AutoModelForSequenceClassification.from_pretrained(pretrained_model_name, )"
   ]
  },
  {
   "cell_type": "code",
   "execution_count": null,
   "metadata": {},
   "outputs": [],
   "source": [
    "\n",
    "BLURR.get_hf_objects()"
   ]
  },
  {
   "cell_type": "code",
   "execution_count": null,
   "metadata": {},
   "outputs": [],
   "source": [
    "#Returns the architecture (str), config (obj), tokenizer (obj), and model (obj) given at minimum a pre-trained model name or path. Specify a task to ensure the right \"AutoModelFor\" is used to create the model.\n",
    "\n",
    "hf_arch, hf_config, hf_tokenizer, hf_model = BLURR.get_hf_objects(\n",
    "    pretrained_model_name, \n",
    "    model_cls=model_cls,\n",
    "    config=config)"
   ]
  },
  {
   "cell_type": "code",
   "execution_count": null,
   "metadata": {},
   "outputs": [
    {
     "name": "stdout",
     "output_type": "stream",
     "text": [
      "roberta\n",
      "<class 'transformers.models.roberta.configuration_roberta.RobertaConfig'>\n",
      "<class 'transformers.models.roberta.tokenization_roberta_fast.RobertaTokenizerFast'>\n",
      "<class 'transformers.models.roberta.modeling_roberta.RobertaForSequenceClassification'>\n"
     ]
    },
    {
     "data": {
      "text/plain": [
       "(None, None, None, None)"
      ]
     },
     "execution_count": null,
     "metadata": {},
     "output_type": "execute_result"
    }
   ],
   "source": [
    "print(hf_arch), print(type(hf_config)), print(type(hf_tokenizer)), print(type(hf_model))"
   ]
  },
  {
   "cell_type": "markdown",
   "metadata": {},
   "source": [
    "# Build your DataBlock & DataLoaders"
   ]
  },
  {
   "cell_type": "code",
   "execution_count": null,
   "metadata": {},
   "outputs": [
    {
     "data": {
      "text/html": [
       "<h2 id=\"HF_TextBlock\" class=\"doc_header\"><code>class</code> <code>HF_TextBlock</code><a href=\"https://github.com/ohmeow/blurr/tree/master/blurr/data/core.py#L75\" class=\"source_link\" style=\"float:right\">[source]</a></h2><blockquote><p><code>HF_TextBlock</code>(<strong><code>hf_arch</code></strong>=<em><code>None</code></em>, <strong><code>hf_config</code></strong>=<em><code>None</code></em>, <strong><code>hf_tokenizer</code></strong>=<em><code>None</code></em>, <strong><code>hf_model</code></strong>=<em><code>None</code></em>, <strong><code>before_batch_tfm</code></strong>=<em><code>None</code></em>, <strong><code>after_batch_tfm</code></strong>=<em><code>None</code></em>, <strong><code>max_length</code></strong>=<em><code>None</code></em>, <strong><code>padding</code></strong>=<em><code>True</code></em>, <strong><code>truncation</code></strong>=<em><code>True</code></em>, <strong><code>is_split_into_words</code></strong>=<em><code>False</code></em>, <strong><code>input_return_type</code></strong>=<em><code>HF_BaseInput</code></em>, <strong><code>dl_type</code></strong>=<em><code>SortedDL</code></em>, <strong><code>before_batch_kwargs</code></strong>=<em><code>{}</code></em>, <strong><code>after_batch_kwargs</code></strong>=<em><code>{}</code></em>, <strong><code>tok_kwargs</code></strong>=<em><code>{}</code></em>, <strong>**<code>kwargs</code></strong>) :: <code>TransformBlock</code></p>\n",
       "</blockquote>\n",
       "<p>A basic wrapper that links defaults transforms for the data block API</p>\n",
       "<p><a href=\"https://ohmeow.github.io/blurr/data-core#HF_TextBlock\" target=\"_blank\" rel=\"noreferrer noopener\">Show in docs</a></p>\n"
      ],
      "text/plain": [
       "<IPython.core.display.HTML object>"
      ]
     },
     "metadata": {},
     "output_type": "display_data"
    }
   ],
   "source": [
    "doc(HF_TextBlock)"
   ]
  },
  {
   "cell_type": "markdown",
   "metadata": {},
   "source": [
    "HF_TextBlock handles setting up the HF_TokenizerTransform transforms and HF_BatchTransform transform regardless of data source (e.g., this will work with files, DataFrames, whatever).\n",
    "\n",
    "HF_TokenizerTransform was inspired by this [article](http://dev.fast.ai/tutorial.transformers). It handles both the tokenization and numericalization traditionally split apart in the fastai text DataBlock API. Addtionally, it's been updated to add a prefix space for the huggingface architectures that need it.\n",
    "\n",
    "You can pass a string or list into this Transform, the later being common in token classification tasks like named entity recognition.\n",
    "\n",
    "build_hf_input uses fastai's @typedispatched decorator to provide for complete flexibility in terms of how your numericalized tokens are assembled, and also what you return via HF_BaseInput and as your targets. You can override this implementation as needed by assigning a type to the task argument (and optionally the tokenizer argument as well).\n",
    "\n",
    "What you return here is what will be fed into your huggingface model.\n"
   ]
  },
  {
   "cell_type": "code",
   "execution_count": null,
   "metadata": {},
   "outputs": [],
   "source": [
    "# Note how we have to configure the num_labels to the number of labels we are predicting. Given that our labels are already encoded, we use a MultiCategoryBlock with encoded=True and vocab equal to the columns with our 1's and 0's.\n",
    "# single input \n",
    "# Define the datatypes of your item X,y\n",
    "X = HF_TextBlock(hf_arch,\n",
    "                 hf_config,\n",
    "                 hf_tokenizer,\n",
    "                 hf_model)\n",
    "y = MultiCategoryBlock(encoded=True, vocab=label_columns)\n",
    "blocks = (X, y)"
   ]
  },
  {
   "cell_type": "code",
   "execution_count": null,
   "metadata": {},
   "outputs": [
    {
     "data": {
      "text/plain": [
       "(<blurr.data.core.HF_TextBlock at 0x7fac41ef36d0>,\n",
       " <fastai.data.block.TransformBlock at 0x7fac66a73190>)"
      ]
     },
     "execution_count": null,
     "metadata": {},
     "output_type": "execute_result"
    }
   ],
   "source": [
    "blocks"
   ]
  },
  {
   "cell_type": "code",
   "execution_count": null,
   "metadata": {},
   "outputs": [
    {
     "data": {
      "text/html": [
       "<h2 id=\"DataBlock\" class=\"doc_header\"><code>class</code> <code>DataBlock</code><a href=\"https://github.com/fastai/fastai/tree/master/fastai/data/block.py#L58\" class=\"source_link\" style=\"float:right\">[source]</a></h2><blockquote><p><code>DataBlock</code>(<strong><code>blocks</code></strong>=<em><code>None</code></em>, <strong><code>dl_type</code></strong>=<em><code>None</code></em>, <strong><code>getters</code></strong>=<em><code>None</code></em>, <strong><code>n_inp</code></strong>=<em><code>None</code></em>, <strong><code>item_tfms</code></strong>=<em><code>None</code></em>, <strong><code>batch_tfms</code></strong>=<em><code>None</code></em>, <strong><code>get_items</code></strong>=<em><code>None</code></em>, <strong><code>splitter</code></strong>=<em><code>None</code></em>, <strong><code>get_y</code></strong>=<em><code>None</code></em>, <strong><code>get_x</code></strong>=<em><code>None</code></em>)</p>\n",
       "</blockquote>\n",
       "<p>Generic container to quickly build <code>Datasets</code> and <code>DataLoaders</code></p>\n",
       "<p><a href=\"https://docs.fast.ai/data.block#DataBlock\" target=\"_blank\" rel=\"noreferrer noopener\">Show in docs</a></p>\n"
      ],
      "text/plain": [
       "<IPython.core.display.HTML object>"
      ]
     },
     "metadata": {},
     "output_type": "display_data"
    }
   ],
   "source": [
    "doc(DataBlock)"
   ]
  },
  {
   "cell_type": "code",
   "execution_count": null,
   "metadata": {},
   "outputs": [
    {
     "data": {
      "text/plain": [
       "['insult',\n",
       " 'obscene',\n",
       " 'severe_toxicity',\n",
       " 'sexual_explicit',\n",
       " 'threat',\n",
       " 'toxicity']"
      ]
     },
     "execution_count": null,
     "metadata": {},
     "output_type": "execute_result"
    }
   ],
   "source": [
    "label_columns"
   ]
  },
  {
   "cell_type": "code",
   "execution_count": null,
   "metadata": {},
   "outputs": [
    {
     "data": {
      "text/plain": [
       "identity_attack    float64\n",
       "insult             float64\n",
       "obscene            float64\n",
       "severe_toxicity    float64\n",
       "sexual_explicit    float64\n",
       "text                string\n",
       "threat             float64\n",
       "toxicity           float64\n",
       "dtype: object"
      ]
     },
     "execution_count": null,
     "metadata": {},
     "output_type": "execute_result"
    }
   ],
   "source": [
    "toxic_df.dtypes"
   ]
  },
  {
   "cell_type": "code",
   "execution_count": null,
   "metadata": {},
   "outputs": [],
   "source": [
    "dblock = DataBlock(blocks=blocks, # Define the datatypes of your item\n",
    "                   get_x=ColReader('text'), #where to get the X from\n",
    "                   get_y=ColReader(label_columns), #where to get the y from\n",
    "                   splitter=RandomSplitter(valid_pct=0.2, seed=42)) #how to split the data for training & validation"
   ]
  },
  {
   "cell_type": "code",
   "execution_count": null,
   "metadata": {},
   "outputs": [
    {
     "name": "stdout",
     "output_type": "stream",
     "text": [
      "Setting-up type transforms pipelines\n",
      "Collecting items from        identity_attack    insult  ...  threat  toxicity\n",
      "0             0.000000  0.000000  ...     0.0  0.000000\n",
      "1             0.000000  0.000000  ...     0.0  0.000000\n",
      "2             0.000000  0.000000  ...     0.0  0.000000\n",
      "3             0.000000  0.000000  ...     0.0  0.000000\n",
      "4             0.021277  0.872340  ...     0.0  0.893617\n",
      "...                ...       ...  ...     ...       ...\n",
      "18044         0.000000  0.000000  ...     0.2  0.200000\n",
      "18045         0.000000  0.000000  ...     0.0  0.000000\n",
      "18046         0.000000  0.000000  ...     0.0  0.000000\n",
      "18047         0.000000  0.000000  ...     0.0  0.000000\n",
      "18048         0.000000  0.166667  ...     0.0  0.166667\n",
      "\n",
      "[18049 rows x 8 columns]\n",
      "Found 18049 items\n",
      "2 datasets of sizes 14440,3609\n",
      "Setting up Pipeline: ColReader -- {'cols': 'text', 'pref': '', 'suff': '', 'label_delim': None}\n",
      "Setting up Pipeline: ColReader -- {'cols': ['insult', 'obscene', 'severe_toxicity', 'sexual_explicit', 'threat', 'toxicity'], 'pref': '', 'suff': '', 'label_delim': None} -> EncodedMultiCategorize -- {'vocab': ['insult', 'obscene', 'severe_toxicity', 'sexual_explicit', 'threat', 'toxicity'], 'sort': False, 'add_na': False}\n",
      "\n",
      "Building one sample\n",
      "  Pipeline: ColReader -- {'cols': 'text', 'pref': '', 'suff': '', 'label_delim': None}\n",
      "    starting from\n",
      "      identity_attack                                                                                                                                                                                                                                                                                                                                                                                      0\n",
      "insult                                                                                                                                                                                                                                                                                                                                                                                             0.3\n",
      "obscene                                                                                                                                                                                                                                                                                                                                                                                              0\n",
      "severe_toxicity                                                                                                                                                                                                                                                                                                                                                                                      0\n",
      "sexual_explicit                                                                                                                                                                                                                                                                                                                                                                                      0\n",
      "text               If you factor in all the related costs of collection as well as lost productivity from a stoned populace, as well as considering where the retails sales would have been spent had they not been spent on pot, what would the final tally be ? This issue \"bonanza\" at the RG calls it in another article is simply their way of hyping a ridiculous issue to further their causes.\n",
      "threat                                                                                                                                                                                                                                                                                                                                                                                               0\n",
      "toxicity                                                                                                                                                                                                                                                                                                                                                                                           0.4\n",
      "Name: 9524, dtype: object\n",
      "    applying ColReader -- {'cols': 'text', 'pref': '', 'suff': '', 'label_delim': None} gives\n",
      "      If you factor in all the related costs of collection as well as lost productivity from a stoned populace, as well as considering where the retails sales would have been spent had they not been spent on pot, what would the final tally be ? This issue \"bonanza\" at the RG calls it in another article is simply their way of hyping a ridiculous issue to further their causes.\n",
      "  Pipeline: ColReader -- {'cols': ['insult', 'obscene', 'severe_toxicity', 'sexual_explicit', 'threat', 'toxicity'], 'pref': '', 'suff': '', 'label_delim': None} -> EncodedMultiCategorize -- {'vocab': ['insult', 'obscene', 'severe_toxicity', 'sexual_explicit', 'threat', 'toxicity'], 'sort': False, 'add_na': False}\n",
      "    starting from\n",
      "      identity_attack                                                                                                                                                                                                                                                                                                                                                                                      0\n",
      "insult                                                                                                                                                                                                                                                                                                                                                                                             0.3\n",
      "obscene                                                                                                                                                                                                                                                                                                                                                                                              0\n",
      "severe_toxicity                                                                                                                                                                                                                                                                                                                                                                                      0\n",
      "sexual_explicit                                                                                                                                                                                                                                                                                                                                                                                      0\n",
      "text               If you factor in all the related costs of collection as well as lost productivity from a stoned populace, as well as considering where the retails sales would have been spent had they not been spent on pot, what would the final tally be ? This issue \"bonanza\" at the RG calls it in another article is simply their way of hyping a ridiculous issue to further their causes.\n",
      "threat                                                                                                                                                                                                                                                                                                                                                                                               0\n",
      "toxicity                                                                                                                                                                                                                                                                                                                                                                                           0.4\n",
      "Name: 9524, dtype: object\n",
      "    applying ColReader -- {'cols': ['insult', 'obscene', 'severe_toxicity', 'sexual_explicit', 'threat', 'toxicity'], 'pref': '', 'suff': '', 'label_delim': None} gives\n",
      "      [0.30000001192092896, 0.0, 0.0, 0.0, 0.0, 0.4000000059604645]\n",
      "    applying EncodedMultiCategorize -- {'vocab': ['insult', 'obscene', 'severe_toxicity', 'sexual_explicit', 'threat', 'toxicity'], 'sort': False, 'add_na': False} gives\n",
      "      TensorMultiCategory([0.3000, 0.0000, 0.0000, 0.0000, 0.0000, 0.4000])\n",
      "\n",
      "Final sample: ('If you factor in all the related costs of collection as well as lost productivity from a stoned populace, as well as considering where the retails sales would have been spent had they not been spent on pot, what would the final tally be ? This issue \"bonanza\" at the RG calls it in another article is simply their way of hyping a ridiculous issue to further their causes.', TensorMultiCategory([0.3000, 0.0000, 0.0000, 0.0000, 0.0000, 0.4000]))\n",
      "\n",
      "\n",
      "Collecting items from        identity_attack    insult  ...  threat  toxicity\n",
      "0             0.000000  0.000000  ...     0.0  0.000000\n",
      "1             0.000000  0.000000  ...     0.0  0.000000\n",
      "2             0.000000  0.000000  ...     0.0  0.000000\n",
      "3             0.000000  0.000000  ...     0.0  0.000000\n",
      "4             0.021277  0.872340  ...     0.0  0.893617\n",
      "...                ...       ...  ...     ...       ...\n",
      "18044         0.000000  0.000000  ...     0.2  0.200000\n",
      "18045         0.000000  0.000000  ...     0.0  0.000000\n",
      "18046         0.000000  0.000000  ...     0.0  0.000000\n",
      "18047         0.000000  0.000000  ...     0.0  0.000000\n",
      "18048         0.000000  0.166667  ...     0.0  0.166667\n",
      "\n",
      "[18049 rows x 8 columns]\n",
      "Found 18049 items\n",
      "2 datasets of sizes 14440,3609\n",
      "Setting up Pipeline: ColReader -- {'cols': 'text', 'pref': '', 'suff': '', 'label_delim': None}\n",
      "Setting up Pipeline: ColReader -- {'cols': ['insult', 'obscene', 'severe_toxicity', 'sexual_explicit', 'threat', 'toxicity'], 'pref': '', 'suff': '', 'label_delim': None} -> EncodedMultiCategorize -- {'vocab': ['insult', 'obscene', 'severe_toxicity', 'sexual_explicit', 'threat', 'toxicity'], 'sort': False, 'add_na': False}\n",
      "Setting up after_item: Pipeline: ToTensor\n",
      "Setting up before_batch: Pipeline: HF_BeforeBatchTransform\n",
      "Setting up after_batch: Pipeline: HF_AfterBatchTransform\n",
      "Could not do one pass in your dataloader, there is something wrong in it\n",
      "\n",
      "Building one batch\n",
      "Applying item_tfms to the first sample:\n",
      "  Pipeline: ToTensor\n",
      "    starting from\n",
      "      (If you factor in all the related costs of collection as well as lost productivity from a stoned populace, as well as considering where the retails sales would have been spent had they not been spent on pot, what would the final tally be ? This issue \"bonanza\" at the RG calls it in another article is simply their way of hyping a ridiculous issue to further their causes., TensorMultiCategory([0.3000, 0.0000, 0.0000, 0.0000, 0.0000, 0.4000]))\n",
      "    applying ToTensor gives\n",
      "      (If you factor in all the related costs of collection as well as lost productivity from a stoned populace, as well as considering where the retails sales would have been spent had they not been spent on pot, what would the final tally be ? This issue \"bonanza\" at the RG calls it in another article is simply their way of hyping a ridiculous issue to further their causes., TensorMultiCategory([0.3000, 0.0000, 0.0000, 0.0000, 0.0000, 0.4000]))\n",
      "\n",
      "Adding the next 3 samples\n",
      "\n",
      "Applying before_batch to the list of samples\n",
      "  Pipeline: HF_BeforeBatchTransform\n",
      "    starting from\n",
      "      [(If you factor in all the related costs of collection as well as lost productivity from a stoned populace, as well as considering where the retails sales would have been spent had they not been spent on pot, what would the final tally be ? This issue \"bonanza\" at the RG calls it in another article is simply their way of hyping a ridiculous issue to further their causes., TensorMultiCategory([0.3000, 0.0000, 0.0000, 0.0000, 0.0000, 0.4000])), (This case is barbaric and the actions are deranged.\n",
      "\n",
      "Again, my point is that cat owners have culpability too. You cannot simply turn your pet loose without any supervision and expect it's actions to be loved, wanted, or even tolerated on someone else's property.\n",
      "\n",
      "That said, the property owner is not entitled to fetch said animal from its home/property to enforce punishment., TensorMultiCategory([0., 0., 0., 0., 0., 0.])), (You can thank Sean Parnell for that! He had to give us one more kick in teeth when he knew he was gone!! He got paid well for that!!, TensorMultiCategory([0.1000, 0.0000, 0.0000, 0.0000, 0.1000, 0.2000])), (And, your values and ideology are right out of Marx., TensorMultiCategory([0., 0., 0., 0., 0., 0.]))]\n",
      "    applying HF_BeforeBatchTransform gives\n",
      "      [({'input_ids': tensor([    0,   318,    47,  3724,    11,    70,     5,  1330,  1042,     9,\n",
      "         2783,    25,   157,    25,   685,  8106,    31,    10,  1690, 11469,\n",
      "        36921,     6,    25,   157,    25,  2811,   147,     5,  5494, 11791,\n",
      "          647,    74,    33,    57,  1240,    56,    51,    45,    57,  1240,\n",
      "           15,  4728,     6,    99,    74,     5,   507, 11154,    28, 17487,\n",
      "          152,   696,    22, 12573, 19209,   113,    23,     5, 38281,  1519,\n",
      "           24,    11,   277,  1566,    16,  1622,    49,   169,     9, 15671,\n",
      "          154,    10, 10861,   696,     7,   617,    49,  4685,     4,     2,\n",
      "            1,     1]), 'attention_mask': tensor([1, 1, 1, 1, 1, 1, 1, 1, 1, 1, 1, 1, 1, 1, 1, 1, 1, 1, 1, 1, 1, 1, 1, 1,\n",
      "        1, 1, 1, 1, 1, 1, 1, 1, 1, 1, 1, 1, 1, 1, 1, 1, 1, 1, 1, 1, 1, 1, 1, 1,\n",
      "        1, 1, 1, 1, 1, 1, 1, 1, 1, 1, 1, 1, 1, 1, 1, 1, 1, 1, 1, 1, 1, 1, 1, 1,\n",
      "        1, 1, 1, 1, 1, 1, 1, 1, 0, 0])}, TensorMultiCategory([0.3000, 0.0000, 0.0000, 0.0000, 0.0000, 0.4000])), ({'input_ids': tensor([    0,   152,   403,    16, 38025,     8,     5,  2163,    32,  1935,\n",
      "        17770,     4, 50118, 50118, 34790,     6,   127,   477,    16,    14,\n",
      "         4758,  2203,    33, 29410,  4484,   350,     4,   370,  1395,  1622,\n",
      "         1004,   110,  4716,  7082,   396,   143, 13702,     8,  1057,    24,\n",
      "           18,  2163,     7,    28,  2638,     6,   770,     6,    50,   190,\n",
      "        22639,    15,   951,  1493,    18,  1038,     4, 50118, 50118,  1711,\n",
      "           26,     6,     5,  1038,  1945,    16,    45,  7919,     7, 23366,\n",
      "           26,  3477,    31,    63,   184,    73, 41723,     7, 10914,  8653,\n",
      "            4,     2]), 'attention_mask': tensor([1, 1, 1, 1, 1, 1, 1, 1, 1, 1, 1, 1, 1, 1, 1, 1, 1, 1, 1, 1, 1, 1, 1, 1,\n",
      "        1, 1, 1, 1, 1, 1, 1, 1, 1, 1, 1, 1, 1, 1, 1, 1, 1, 1, 1, 1, 1, 1, 1, 1,\n",
      "        1, 1, 1, 1, 1, 1, 1, 1, 1, 1, 1, 1, 1, 1, 1, 1, 1, 1, 1, 1, 1, 1, 1, 1,\n",
      "        1, 1, 1, 1, 1, 1, 1, 1, 1, 1])}, TensorMultiCategory([0., 0., 0., 0., 0., 0.])), ({'input_ids': tensor([    0,   370,    64,  3392,  4640,   221,  4422,  1641,    13,    14,\n",
      "          328,    91,    56,     7,   492,   201,    65,    55,  3151,    11,\n",
      "         9927,    77,    37,  1467,    37,    21,  1613, 12846,    91,   300,\n",
      "         1199,   157,    13,    14, 12846,     2,     1,     1,     1,     1,\n",
      "            1,     1,     1,     1,     1,     1,     1,     1,     1,     1,\n",
      "            1,     1,     1,     1,     1,     1,     1,     1,     1,     1,\n",
      "            1,     1,     1,     1,     1,     1,     1,     1,     1,     1,\n",
      "            1,     1,     1,     1,     1,     1,     1,     1,     1,     1,\n",
      "            1,     1]), 'attention_mask': tensor([1, 1, 1, 1, 1, 1, 1, 1, 1, 1, 1, 1, 1, 1, 1, 1, 1, 1, 1, 1, 1, 1, 1, 1,\n",
      "        1, 1, 1, 1, 1, 1, 1, 1, 1, 1, 1, 1, 0, 0, 0, 0, 0, 0, 0, 0, 0, 0, 0, 0,\n",
      "        0, 0, 0, 0, 0, 0, 0, 0, 0, 0, 0, 0, 0, 0, 0, 0, 0, 0, 0, 0, 0, 0, 0, 0,\n",
      "        0, 0, 0, 0, 0, 0, 0, 0, 0, 0])}, TensorMultiCategory([0.1000, 0.0000, 0.0000, 0.0000, 0.1000, 0.2000])), ({'input_ids': tensor([    0,   178,     6,   110,  3266,     8, 14320,    32,   235,    66,\n",
      "            9, 28029,     4,     2,     1,     1,     1,     1,     1,     1,\n",
      "            1,     1,     1,     1,     1,     1,     1,     1,     1,     1,\n",
      "            1,     1,     1,     1,     1,     1,     1,     1,     1,     1,\n",
      "            1,     1,     1,     1,     1,     1,     1,     1,     1,     1,\n",
      "            1,     1,     1,     1,     1,     1,     1,     1,     1,     1,\n",
      "            1,     1,     1,     1,     1,     1,     1,     1,     1,     1,\n",
      "            1,     1,     1,     1,     1,     1,     1,     1,     1,     1,\n",
      "            1,     1]), 'attention_mask': tensor([1, 1, 1, 1, 1, 1, 1, 1, 1, 1, 1, 1, 1, 1, 0, 0, 0, 0, 0, 0, 0, 0, 0, 0,\n",
      "        0, 0, 0, 0, 0, 0, 0, 0, 0, 0, 0, 0, 0, 0, 0, 0, 0, 0, 0, 0, 0, 0, 0, 0,\n",
      "        0, 0, 0, 0, 0, 0, 0, 0, 0, 0, 0, 0, 0, 0, 0, 0, 0, 0, 0, 0, 0, 0, 0, 0,\n",
      "        0, 0, 0, 0, 0, 0, 0, 0, 0, 0])}, TensorMultiCategory([0., 0., 0., 0., 0., 0.]))]\n",
      "\n",
      "Collating items in a batch\n",
      "\n",
      "Applying batch_tfms to the batch built\n",
      "  Pipeline: HF_AfterBatchTransform\n",
      "    starting from\n",
      "      ({'input_ids': tensor([[    0,   318,    47,  3724,    11,    70,     5,  1330,  1042,     9,\n",
      "          2783,    25,   157,    25,   685,  8106,    31,    10,  1690, 11469,\n",
      "         36921,     6,    25,   157,    25,  2811,   147,     5,  5494, 11791,\n",
      "           647,    74,    33,    57,  1240,    56,    51,    45,    57,  1240,\n",
      "            15,  4728,     6,    99,    74,     5,   507, 11154,    28, 17487,\n",
      "           152,   696,    22, 12573, 19209,   113,    23,     5, 38281,  1519,\n",
      "            24,    11,   277,  1566,    16,  1622,    49,   169,     9, 15671,\n",
      "           154,    10, 10861,   696,     7,   617,    49,  4685,     4,     2,\n",
      "             1,     1],\n",
      "        [    0,   152,   403,    16, 38025,     8,     5,  2163,    32,  1935,\n",
      "         17770,     4, 50118, 50118, 34790,     6,   127,   477,    16,    14,\n",
      "          4758,  2203,    33, 29410,  4484,   350,     4,   370,  1395,  1622,\n",
      "          1004,   110,  4716,  7082,   396,   143, 13702,     8,  1057,    24,\n",
      "            18,  2163,     7,    28,  2638,     6,   770,     6,    50,   190,\n",
      "         22639,    15,   951,  1493,    18,  1038,     4, 50118, 50118,  1711,\n",
      "            26,     6,     5,  1038,  1945,    16,    45,  7919,     7, 23366,\n",
      "            26,  3477,    31,    63,   184,    73, 41723,     7, 10914,  8653,\n",
      "             4,     2],\n",
      "        [    0,   370,    64,  3392,  4640,   221,  4422,  1641,    13,    14,\n",
      "           328,    91,    56,     7,   492,   201,    65,    55,  3151,    11,\n",
      "          9927,    77,    37,  1467,    37,    21,  1613, 12846,    91,   300,\n",
      "          1199,   157,    13,    14, 12846,     2,     1,     1,     1,     1,\n",
      "             1,     1,     1,     1,     1,     1,     1,     1,     1,     1,\n",
      "             1,     1,     1,     1,     1,     1,     1,     1,     1,     1,\n",
      "             1,     1,     1,     1,     1,     1,     1,     1,     1,     1,\n",
      "             1,     1,     1,     1,     1,     1,     1,     1,     1,     1,\n",
      "             1,     1],\n",
      "        [    0,   178,     6,   110,  3266,     8, 14320,    32,   235,    66,\n",
      "             9, 28029,     4,     2,     1,     1,     1,     1,     1,     1,\n",
      "             1,     1,     1,     1,     1,     1,     1,     1,     1,     1,\n",
      "             1,     1,     1,     1,     1,     1,     1,     1,     1,     1,\n",
      "             1,     1,     1,     1,     1,     1,     1,     1,     1,     1,\n",
      "             1,     1,     1,     1,     1,     1,     1,     1,     1,     1,\n",
      "             1,     1,     1,     1,     1,     1,     1,     1,     1,     1,\n",
      "             1,     1,     1,     1,     1,     1,     1,     1,     1,     1,\n",
      "             1,     1]], device='cuda:0'), 'attention_mask': tensor([[1, 1, 1, 1, 1, 1, 1, 1, 1, 1, 1, 1, 1, 1, 1, 1, 1, 1, 1, 1, 1, 1, 1, 1,\n",
      "         1, 1, 1, 1, 1, 1, 1, 1, 1, 1, 1, 1, 1, 1, 1, 1, 1, 1, 1, 1, 1, 1, 1, 1,\n",
      "         1, 1, 1, 1, 1, 1, 1, 1, 1, 1, 1, 1, 1, 1, 1, 1, 1, 1, 1, 1, 1, 1, 1, 1,\n",
      "         1, 1, 1, 1, 1, 1, 1, 1, 0, 0],\n",
      "        [1, 1, 1, 1, 1, 1, 1, 1, 1, 1, 1, 1, 1, 1, 1, 1, 1, 1, 1, 1, 1, 1, 1, 1,\n",
      "         1, 1, 1, 1, 1, 1, 1, 1, 1, 1, 1, 1, 1, 1, 1, 1, 1, 1, 1, 1, 1, 1, 1, 1,\n",
      "         1, 1, 1, 1, 1, 1, 1, 1, 1, 1, 1, 1, 1, 1, 1, 1, 1, 1, 1, 1, 1, 1, 1, 1,\n",
      "         1, 1, 1, 1, 1, 1, 1, 1, 1, 1],\n",
      "        [1, 1, 1, 1, 1, 1, 1, 1, 1, 1, 1, 1, 1, 1, 1, 1, 1, 1, 1, 1, 1, 1, 1, 1,\n",
      "         1, 1, 1, 1, 1, 1, 1, 1, 1, 1, 1, 1, 0, 0, 0, 0, 0, 0, 0, 0, 0, 0, 0, 0,\n",
      "         0, 0, 0, 0, 0, 0, 0, 0, 0, 0, 0, 0, 0, 0, 0, 0, 0, 0, 0, 0, 0, 0, 0, 0,\n",
      "         0, 0, 0, 0, 0, 0, 0, 0, 0, 0],\n",
      "        [1, 1, 1, 1, 1, 1, 1, 1, 1, 1, 1, 1, 1, 1, 0, 0, 0, 0, 0, 0, 0, 0, 0, 0,\n",
      "         0, 0, 0, 0, 0, 0, 0, 0, 0, 0, 0, 0, 0, 0, 0, 0, 0, 0, 0, 0, 0, 0, 0, 0,\n",
      "         0, 0, 0, 0, 0, 0, 0, 0, 0, 0, 0, 0, 0, 0, 0, 0, 0, 0, 0, 0, 0, 0, 0, 0,\n",
      "         0, 0, 0, 0, 0, 0, 0, 0, 0, 0]], device='cuda:0')}, TensorMultiCategory of size 4x6)\n",
      "    applying HF_AfterBatchTransform gives\n",
      "      ({'input_ids': tensor([[    0,   318,    47,  3724,    11,    70,     5,  1330,  1042,     9,\n",
      "          2783,    25,   157,    25,   685,  8106,    31,    10,  1690, 11469,\n",
      "         36921,     6,    25,   157,    25,  2811,   147,     5,  5494, 11791,\n",
      "           647,    74,    33,    57,  1240,    56,    51,    45,    57,  1240,\n",
      "            15,  4728,     6,    99,    74,     5,   507, 11154,    28, 17487,\n",
      "           152,   696,    22, 12573, 19209,   113,    23,     5, 38281,  1519,\n",
      "            24,    11,   277,  1566,    16,  1622,    49,   169,     9, 15671,\n",
      "           154,    10, 10861,   696,     7,   617,    49,  4685,     4,     2,\n",
      "             1,     1],\n",
      "        [    0,   152,   403,    16, 38025,     8,     5,  2163,    32,  1935,\n",
      "         17770,     4, 50118, 50118, 34790,     6,   127,   477,    16,    14,\n",
      "          4758,  2203,    33, 29410,  4484,   350,     4,   370,  1395,  1622,\n",
      "          1004,   110,  4716,  7082,   396,   143, 13702,     8,  1057,    24,\n",
      "            18,  2163,     7,    28,  2638,     6,   770,     6,    50,   190,\n",
      "         22639,    15,   951,  1493,    18,  1038,     4, 50118, 50118,  1711,\n",
      "            26,     6,     5,  1038,  1945,    16,    45,  7919,     7, 23366,\n",
      "            26,  3477,    31,    63,   184,    73, 41723,     7, 10914,  8653,\n",
      "             4,     2],\n",
      "        [    0,   370,    64,  3392,  4640,   221,  4422,  1641,    13,    14,\n",
      "           328,    91,    56,     7,   492,   201,    65,    55,  3151,    11,\n",
      "          9927,    77,    37,  1467,    37,    21,  1613, 12846,    91,   300,\n",
      "          1199,   157,    13,    14, 12846,     2,     1,     1,     1,     1,\n",
      "             1,     1,     1,     1,     1,     1,     1,     1,     1,     1,\n",
      "             1,     1,     1,     1,     1,     1,     1,     1,     1,     1,\n",
      "             1,     1,     1,     1,     1,     1,     1,     1,     1,     1,\n",
      "             1,     1,     1,     1,     1,     1,     1,     1,     1,     1,\n",
      "             1,     1],\n",
      "        [    0,   178,     6,   110,  3266,     8, 14320,    32,   235,    66,\n",
      "             9, 28029,     4,     2,     1,     1,     1,     1,     1,     1,\n",
      "             1,     1,     1,     1,     1,     1,     1,     1,     1,     1,\n",
      "             1,     1,     1,     1,     1,     1,     1,     1,     1,     1,\n",
      "             1,     1,     1,     1,     1,     1,     1,     1,     1,     1,\n",
      "             1,     1,     1,     1,     1,     1,     1,     1,     1,     1,\n",
      "             1,     1,     1,     1,     1,     1,     1,     1,     1,     1,\n",
      "             1,     1,     1,     1,     1,     1,     1,     1,     1,     1,\n",
      "             1,     1]], device='cuda:0'), 'attention_mask': tensor([[1, 1, 1, 1, 1, 1, 1, 1, 1, 1, 1, 1, 1, 1, 1, 1, 1, 1, 1, 1, 1, 1, 1, 1,\n",
      "         1, 1, 1, 1, 1, 1, 1, 1, 1, 1, 1, 1, 1, 1, 1, 1, 1, 1, 1, 1, 1, 1, 1, 1,\n",
      "         1, 1, 1, 1, 1, 1, 1, 1, 1, 1, 1, 1, 1, 1, 1, 1, 1, 1, 1, 1, 1, 1, 1, 1,\n",
      "         1, 1, 1, 1, 1, 1, 1, 1, 0, 0],\n",
      "        [1, 1, 1, 1, 1, 1, 1, 1, 1, 1, 1, 1, 1, 1, 1, 1, 1, 1, 1, 1, 1, 1, 1, 1,\n",
      "         1, 1, 1, 1, 1, 1, 1, 1, 1, 1, 1, 1, 1, 1, 1, 1, 1, 1, 1, 1, 1, 1, 1, 1,\n",
      "         1, 1, 1, 1, 1, 1, 1, 1, 1, 1, 1, 1, 1, 1, 1, 1, 1, 1, 1, 1, 1, 1, 1, 1,\n",
      "         1, 1, 1, 1, 1, 1, 1, 1, 1, 1],\n",
      "        [1, 1, 1, 1, 1, 1, 1, 1, 1, 1, 1, 1, 1, 1, 1, 1, 1, 1, 1, 1, 1, 1, 1, 1,\n",
      "         1, 1, 1, 1, 1, 1, 1, 1, 1, 1, 1, 1, 0, 0, 0, 0, 0, 0, 0, 0, 0, 0, 0, 0,\n",
      "         0, 0, 0, 0, 0, 0, 0, 0, 0, 0, 0, 0, 0, 0, 0, 0, 0, 0, 0, 0, 0, 0, 0, 0,\n",
      "         0, 0, 0, 0, 0, 0, 0, 0, 0, 0],\n",
      "        [1, 1, 1, 1, 1, 1, 1, 1, 1, 1, 1, 1, 1, 1, 0, 0, 0, 0, 0, 0, 0, 0, 0, 0,\n",
      "         0, 0, 0, 0, 0, 0, 0, 0, 0, 0, 0, 0, 0, 0, 0, 0, 0, 0, 0, 0, 0, 0, 0, 0,\n",
      "         0, 0, 0, 0, 0, 0, 0, 0, 0, 0, 0, 0, 0, 0, 0, 0, 0, 0, 0, 0, 0, 0, 0, 0,\n",
      "         0, 0, 0, 0, 0, 0, 0, 0, 0, 0]], device='cuda:0')}, TensorMultiCategory of size 4x6)\n"
     ]
    }
   ],
   "source": [
    "dblock.summary(source=toxic_df)"
   ]
  },
  {
   "cell_type": "code",
   "execution_count": null,
   "metadata": {},
   "outputs": [],
   "source": [
    "dls = dblock.dataloaders(toxic_df, bs=16)"
   ]
  },
  {
   "cell_type": "code",
   "execution_count": null,
   "metadata": {},
   "outputs": [
    {
     "data": {
      "text/plain": [
       "(2, torch.Size([16, 391]), torch.Size([16, 6]))"
      ]
     },
     "execution_count": null,
     "metadata": {},
     "output_type": "execute_result"
    }
   ],
   "source": [
    "b = dls.one_batch(); len(b), b[0]['input_ids'].shape, b[1].shape"
   ]
  },
  {
   "cell_type": "code",
   "execution_count": null,
   "metadata": {},
   "outputs": [
    {
     "data": {
      "text/plain": [
       "{'attention_mask': tensor([[1, 1, 1,  ..., 0, 0, 0],\n",
       "         [1, 1, 1,  ..., 0, 0, 0],\n",
       "         [1, 1, 1,  ..., 0, 0, 0],\n",
       "         ...,\n",
       "         [1, 1, 1,  ..., 0, 0, 0],\n",
       "         [1, 1, 1,  ..., 0, 0, 0],\n",
       "         [1, 1, 1,  ..., 0, 0, 0]], device='cuda:0'),\n",
       " 'input_ids': tensor([[    0, 24268,  5257,  ...,     1,     1,     1],\n",
       "         [    0,  1234,     6,  ...,     1,     1,     1],\n",
       "         [    0,   140,    34,  ...,     1,     1,     1],\n",
       "         ...,\n",
       "         [    0,    38,  1395,  ...,     1,     1,     1],\n",
       "         [    0,    38,   524,  ...,     1,     1,     1],\n",
       "         [    0,    20,  6304,  ...,     1,     1,     1]], device='cuda:0')}"
      ]
     },
     "execution_count": null,
     "metadata": {},
     "output_type": "execute_result"
    }
   ],
   "source": [
    "b[0]"
   ]
  },
  {
   "cell_type": "code",
   "execution_count": null,
   "metadata": {},
   "outputs": [
    {
     "data": {
      "text/plain": [
       "TensorMultiCategory([[0.0000, 0.0000, 0.0000, 0.0000, 0.0000, 0.0000],\n",
       "        [0.0000, 0.0000, 0.0000, 0.0000, 0.0000, 0.0000],\n",
       "        [0.0000, 0.0000, 0.0000, 0.0000, 0.0000, 0.0000],\n",
       "        [0.0000, 0.0000, 0.0000, 0.0000, 0.0000, 0.0000],\n",
       "        [0.1667, 0.0000, 0.0000, 0.0000, 0.0000, 0.1667],\n",
       "        [0.1667, 0.0000, 0.0000, 0.0000, 0.0000, 0.1667],\n",
       "        [0.0000, 0.0000, 0.0000, 0.0000, 0.0000, 0.0000],\n",
       "        [0.0000, 0.0000, 0.0000, 0.0000, 0.0000, 0.0000],\n",
       "        [0.0000, 0.0000, 0.0000, 0.0000, 0.0000, 0.0000],\n",
       "        [0.0000, 0.0000, 0.0000, 0.0000, 0.0000, 0.0000],\n",
       "        [0.1667, 0.0000, 0.0000, 0.0000, 0.0000, 0.1667],\n",
       "        [0.0000, 0.0000, 0.0000, 0.0000, 0.0000, 0.0000],\n",
       "        [0.0000, 0.0000, 0.0000, 0.0000, 0.0000, 0.0000],\n",
       "        [0.0000, 0.0000, 0.0000, 0.0000, 0.0000, 0.0000],\n",
       "        [0.0000, 0.0000, 0.0000, 0.0000, 0.0000, 0.0000],\n",
       "        [0.0000, 0.0000, 0.0000, 0.0000, 0.0000, 0.0000]], device='cuda:0')"
      ]
     },
     "execution_count": null,
     "metadata": {},
     "output_type": "execute_result"
    }
   ],
   "source": [
    "b[1]"
   ]
  },
  {
   "cell_type": "markdown",
   "metadata": {},
   "source": [
    "# Training"
   ]
  },
  {
   "cell_type": "markdown",
   "metadata": {},
   "source": [
    "With our DataLoaders built, we can now build our Learner and train. We'll use mixed precision so we can train with bigger batches"
   ]
  },
  {
   "cell_type": "code",
   "execution_count": null,
   "metadata": {},
   "outputs": [],
   "source": [
    "model = HF_BaseModelWrapper(hf_model)"
   ]
  },
  {
   "cell_type": "markdown",
   "metadata": {},
   "source": [
    "Same as nn.Module, but no need for subclasses to call super().__init__. This uses a model wrapper in order to pass named arguments into the huggingface model. We do this because all arguments for a given model are not all used or needed for each architecture, and fastai does not support passing in None.\n"
   ]
  },
  {
   "cell_type": "code",
   "execution_count": null,
   "metadata": {},
   "outputs": [
    {
     "data": {
      "text/html": [
       "<h2 id=\"Learner\" class=\"doc_header\"><code>class</code> <code>Learner</code><a href=\"https://github.com/fastai/fastai/tree/master/fastai/learner.py#L83\" class=\"source_link\" style=\"float:right\">[source]</a></h2><blockquote><p><code>Learner</code>(<strong><code>dls</code></strong>, <strong><code>model</code></strong>, <strong><code>loss_func</code></strong>=<em><code>None</code></em>, <strong><code>opt_func</code></strong>=<em><code>Adam</code></em>, <strong><code>lr</code></strong>=<em><code>0.001</code></em>, <strong><code>splitter</code></strong>=<em><code>trainable_params</code></em>, <strong><code>cbs</code></strong>=<em><code>None</code></em>, <strong><code>metrics</code></strong>=<em><code>None</code></em>, <strong><code>path</code></strong>=<em><code>None</code></em>, <strong><code>model_dir</code></strong>=<em><code>'models'</code></em>, <strong><code>wd</code></strong>=<em><code>None</code></em>, <strong><code>wd_bn_bias</code></strong>=<em><code>False</code></em>, <strong><code>train_bn</code></strong>=<em><code>True</code></em>, <strong><code>moms</code></strong>=<em><code>(0.95, 0.85, 0.95)</code></em>) :: <code>GetAttr</code></p>\n",
       "</blockquote>\n",
       "<p>Group together a <code>model</code>, some <code>dls</code> and a <code>loss_func</code> to handle training</p>\n",
       "<p><a href=\"https://docs.fast.ai/learner#Learner\" target=\"_blank\" rel=\"noreferrer noopener\">Show in docs</a></p>\n"
      ],
      "text/plain": [
       "<IPython.core.display.HTML object>"
      ]
     },
     "metadata": {},
     "output_type": "display_data"
    }
   ],
   "source": [
    "doc(Learner)"
   ]
  },
  {
   "cell_type": "code",
   "execution_count": null,
   "metadata": {},
   "outputs": [],
   "source": [
    "learn = Learner(dls,\n",
    "                model,\n",
    "                opt_func=partial(Adam),\n",
    "                loss_func=BCEWithLogitsLossFlat(), # multilabel classification loss_func, same as BCEWithLogitsLoss  but flattens the input & target\n",
    "                metrics=partial(accuracy_multi, thresh=0.2),\n",
    "                cbs=[HF_BaseModelCallback],\n",
    "                splitter=hf_splitter).to_fp16()\n",
    "\n",
    "learn.loss_func.thresh = 0.2\n",
    "learn.create_opt() # -> will create your layer groups based on your \"splitter\" function\n",
    "learn.freeze()"
   ]
  },
  {
   "cell_type": "code",
   "execution_count": null,
   "metadata": {},
   "outputs": [
    {
     "data": {
      "text/html": [
       ""
      ],
      "text/plain": [
       "<IPython.core.display.HTML object>"
      ]
     },
     "metadata": {},
     "output_type": "display_data"
    },
    {
     "data": {
      "text/plain": [
       "HF_BaseModelWrapper (Input shape: 16 x 391)\n",
       "============================================================================\n",
       "Layer (type)         Output Shape         Param #    Trainable \n",
       "============================================================================\n",
       "                     16 x 391 x 768      \n",
       "Embedding                                 38603520   False     \n",
       "Embedding                                 394752     False     \n",
       "Embedding                                 768        False     \n",
       "LayerNorm                                 1536       True      \n",
       "Dropout                                                        \n",
       "Linear                                    590592     False     \n",
       "Linear                                    590592     False     \n",
       "Linear                                    590592     False     \n",
       "Dropout                                                        \n",
       "Linear                                    590592     False     \n",
       "LayerNorm                                 1536       True      \n",
       "Dropout                                                        \n",
       "____________________________________________________________________________\n",
       "                     16 x 391 x 3072     \n",
       "Linear                                    2362368    False     \n",
       "____________________________________________________________________________\n",
       "                     16 x 391 x 768      \n",
       "Linear                                    2360064    False     \n",
       "LayerNorm                                 1536       True      \n",
       "Dropout                                                        \n",
       "Linear                                    590592     False     \n",
       "Linear                                    590592     False     \n",
       "Linear                                    590592     False     \n",
       "Dropout                                                        \n",
       "Linear                                    590592     False     \n",
       "LayerNorm                                 1536       True      \n",
       "Dropout                                                        \n",
       "____________________________________________________________________________\n",
       "                     16 x 391 x 3072     \n",
       "Linear                                    2362368    False     \n",
       "____________________________________________________________________________\n",
       "                     16 x 391 x 768      \n",
       "Linear                                    2360064    False     \n",
       "LayerNorm                                 1536       True      \n",
       "Dropout                                                        \n",
       "Linear                                    590592     False     \n",
       "Linear                                    590592     False     \n",
       "Linear                                    590592     False     \n",
       "Dropout                                                        \n",
       "Linear                                    590592     False     \n",
       "LayerNorm                                 1536       True      \n",
       "Dropout                                                        \n",
       "____________________________________________________________________________\n",
       "                     16 x 391 x 3072     \n",
       "Linear                                    2362368    False     \n",
       "____________________________________________________________________________\n",
       "                     16 x 391 x 768      \n",
       "Linear                                    2360064    False     \n",
       "LayerNorm                                 1536       True      \n",
       "Dropout                                                        \n",
       "Linear                                    590592     False     \n",
       "Linear                                    590592     False     \n",
       "Linear                                    590592     False     \n",
       "Dropout                                                        \n",
       "Linear                                    590592     False     \n",
       "LayerNorm                                 1536       True      \n",
       "Dropout                                                        \n",
       "____________________________________________________________________________\n",
       "                     16 x 391 x 3072     \n",
       "Linear                                    2362368    False     \n",
       "____________________________________________________________________________\n",
       "                     16 x 391 x 768      \n",
       "Linear                                    2360064    False     \n",
       "LayerNorm                                 1536       True      \n",
       "Dropout                                                        \n",
       "Linear                                    590592     False     \n",
       "Linear                                    590592     False     \n",
       "Linear                                    590592     False     \n",
       "Dropout                                                        \n",
       "Linear                                    590592     False     \n",
       "LayerNorm                                 1536       True      \n",
       "Dropout                                                        \n",
       "____________________________________________________________________________\n",
       "                     16 x 391 x 3072     \n",
       "Linear                                    2362368    False     \n",
       "____________________________________________________________________________\n",
       "                     16 x 391 x 768      \n",
       "Linear                                    2360064    False     \n",
       "LayerNorm                                 1536       True      \n",
       "Dropout                                                        \n",
       "Linear                                    590592     False     \n",
       "Linear                                    590592     False     \n",
       "Linear                                    590592     False     \n",
       "Dropout                                                        \n",
       "Linear                                    590592     False     \n",
       "LayerNorm                                 1536       True      \n",
       "Dropout                                                        \n",
       "____________________________________________________________________________\n",
       "                     16 x 391 x 3072     \n",
       "Linear                                    2362368    False     \n",
       "____________________________________________________________________________\n",
       "                     16 x 391 x 768      \n",
       "Linear                                    2360064    False     \n",
       "LayerNorm                                 1536       True      \n",
       "Dropout                                                        \n",
       "Linear                                    590592     True      \n",
       "Dropout                                                        \n",
       "____________________________________________________________________________\n",
       "                     16 x 6              \n",
       "Linear                                    4614       True      \n",
       "____________________________________________________________________________\n",
       "\n",
       "Total params: 82,123,014\n",
       "Total trainable params: 615,174\n",
       "Total non-trainable params: 81,507,840\n",
       "\n",
       "Optimizer used: functools.partial(<function Adam at 0x7facd0fe83b0>)\n",
       "Loss function: FlattenedLoss of BCEWithLogitsLoss()\n",
       "\n",
       "Model frozen up to parameter group #2\n",
       "\n",
       "Callbacks:\n",
       "  - TrainEvalCallback\n",
       "  - Recorder\n",
       "  - ProgressCallback\n",
       "  - HF_BaseModelCallback\n",
       "  - MixedPrecision"
      ]
     },
     "execution_count": null,
     "metadata": {},
     "output_type": "execute_result"
    }
   ],
   "source": [
    "learn.blurr_summary()"
   ]
  },
  {
   "cell_type": "code",
   "execution_count": null,
   "metadata": {},
   "outputs": [
    {
     "data": {
      "text/html": [
       "<h4 id=\"Learner.create_opt\" class=\"doc_header\"><code>Learner.create_opt</code><a href=\"https://github.com/fastai/fastai/tree/master/fastai/learner.py#L148\" class=\"source_link\" style=\"float:right\">[source]</a></h4><blockquote><p><code>Learner.create_opt</code>()</p>\n",
       "</blockquote>\n",
       "<p>Create an optimizer with default hyper-parameters</p>\n",
       "<p><a href=\"https://docs.fast.ai/learner#Learner.create_opt\" target=\"_blank\" rel=\"noreferrer noopener\">Show in docs</a></p>\n"
      ],
      "text/plain": [
       "<IPython.core.display.HTML object>"
      ]
     },
     "metadata": {},
     "output_type": "display_data"
    }
   ],
   "source": [
    "doc(Learner.create_opt)"
   ]
  },
  {
   "cell_type": "markdown",
   "metadata": {},
   "source": [
    "This method is called internally to create the optimizer, the hyper-parameters are then adjusted by what you pass to Learner.fit or your particular schedulers (see callback.schedule)."
   ]
  },
  {
   "cell_type": "code",
   "execution_count": null,
   "metadata": {},
   "outputs": [
    {
     "data": {
      "text/plain": [
       "(torch.Size([16, 6]),\n",
       " SequenceClassifierOutput([('logits',\n",
       "                            tensor([[-3.5993, -5.3291, -7.0173, -5.7250, -5.5425, -3.3405],\n",
       "                                    [-4.1521, -5.5553, -7.3682, -6.2844, -5.9261, -3.7864],\n",
       "                                    [-1.8160, -3.6050, -5.5187, -5.4348, -4.9802, -1.5784],\n",
       "                                    [-2.9193, -4.6364, -4.9824, -3.6422, -2.1356, -1.8673],\n",
       "                                    [-2.1799, -4.2955, -6.0301, -5.6385, -5.4961, -1.9690],\n",
       "                                    [-1.5147, -3.8444, -5.5366, -5.6994, -4.1171, -1.3472],\n",
       "                                    [-3.8328, -5.9142, -7.4598, -6.3970, -6.3127, -3.6225],\n",
       "                                    [-4.5958, -5.7680, -7.6138, -6.4669, -6.2175, -4.1220],\n",
       "                                    [-4.1937, -5.7697, -7.4271, -6.3916, -5.6011, -3.6791],\n",
       "                                    [-4.1763, -5.9607, -7.3833, -6.1609, -6.1598, -3.8454],\n",
       "                                    [-3.9674, -5.4476, -7.1179, -5.9332, -5.5704, -3.5202],\n",
       "                                    [-2.0081, -4.2572, -5.7168, -4.4927, -5.2646, -1.8351],\n",
       "                                    [-4.5274, -5.7065, -7.3542, -6.1187, -5.9234, -3.9988],\n",
       "                                    [-3.2808, -4.9199, -6.6695, -6.1206, -5.6042, -3.0266],\n",
       "                                    [-4.8323, -6.3275, -7.8633, -6.7194, -6.2105, -4.3376],\n",
       "                                    [-0.0707, -0.8957, -3.2828, -2.7965, -4.0081,  0.2760]],\n",
       "                                   device='cuda:0', grad_fn=<AddmmBackward>))]))"
      ]
     },
     "execution_count": null,
     "metadata": {},
     "output_type": "execute_result"
    }
   ],
   "source": [
    "#check the learner work for a sample\n",
    "preds = model(b[0])\n",
    "preds.logits.shape, preds"
   ]
  },
  {
   "cell_type": "code",
   "execution_count": null,
   "metadata": {},
   "outputs": [
    {
     "name": "stdout",
     "output_type": "stream",
     "text": [
      "3\n"
     ]
    }
   ],
   "source": [
    "print(len(learn.opt.param_groups))"
   ]
  },
  {
   "cell_type": "code",
   "execution_count": null,
   "metadata": {},
   "outputs": [
    {
     "data": {
      "text/html": [
       ""
      ],
      "text/plain": [
       "<IPython.core.display.HTML object>"
      ]
     },
     "metadata": {},
     "output_type": "display_data"
    },
    {
     "data": {
      "text/plain": [
       "SuggestedLRs(lr_min=5.248074739938602e-06, lr_steep=7.585775847473997e-07)"
      ]
     },
     "execution_count": null,
     "metadata": {},
     "output_type": "execute_result"
    },
    {
     "data": {
      "image/png": "[encoded data removed]",
      "text/plain": [
       "<Figure size 432x288 with 1 Axes>"
      ]
     },
     "metadata": {
      "needs_background": "light"
     },
     "output_type": "display_data"
    }
   ],
   "source": [
    "learn.lr_find(suggestions=True)"
   ]
  },
  {
   "cell_type": "code",
   "execution_count": null,
   "metadata": {},
   "outputs": [
    {
     "data": {
      "text/html": [
       "<table border=\"1\" class=\"dataframe\">\n",
       "  <thead>\n",
       "    <tr style=\"text-align: left;\">\n",
       "      <th>epoch</th>\n",
       "      <th>train_loss</th>\n",
       "      <th>valid_loss</th>\n",
       "      <th>accuracy_multi</th>\n",
       "      <th>time</th>\n",
       "    </tr>\n",
       "  </thead>\n",
       "  <tbody>\n",
       "    <tr>\n",
       "      <td>0</td>\n",
       "      <td>0.090206</td>\n",
       "      <td>0.088547</td>\n",
       "      <td>0.912626</td>\n",
       "      <td>00:57</td>\n",
       "    </tr>\n",
       "  </tbody>\n",
       "</table>"
      ],
      "text/plain": [
       "<IPython.core.display.HTML object>"
      ]
     },
     "metadata": {},
     "output_type": "display_data"
    }
   ],
   "source": [
    "learn.fit_one_cycle(1, lr_max=1e-3)"
   ]
  },
  {
   "cell_type": "code",
   "execution_count": null,
   "metadata": {},
   "outputs": [],
   "source": [
    "learn.unfreeze()"
   ]
  },
  {
   "cell_type": "code",
   "execution_count": null,
   "metadata": {},
   "outputs": [
    {
     "data": {
      "text/html": [
       ""
      ],
      "text/plain": [
       "<IPython.core.display.HTML object>"
      ]
     },
     "metadata": {},
     "output_type": "display_data"
    },
    {
     "data": {
      "text/plain": [
       "SuggestedLRs(lr_min=1.3460866057357635e-07, lr_steep=3.62389823749254e-06)"
      ]
     },
     "execution_count": null,
     "metadata": {},
     "output_type": "execute_result"
    },
    {
     "data": {
      "image/png": "[encoded data removed]",
      "text/plain": [
       "<Figure size 432x288 with 1 Axes>"
      ]
     },
     "metadata": {
      "needs_background": "light"
     },
     "output_type": "display_data"
    }
   ],
   "source": [
    "learn.lr_find(suggestions=True, start_lr=5e-7, end_lr=1e-2)"
   ]
  },
  {
   "cell_type": "code",
   "execution_count": null,
   "metadata": {},
   "outputs": [
    {
     "data": {
      "text/html": [
       "<table border=\"1\" class=\"dataframe\">\n",
       "  <thead>\n",
       "    <tr style=\"text-align: left;\">\n",
       "      <th>epoch</th>\n",
       "      <th>train_loss</th>\n",
       "      <th>valid_loss</th>\n",
       "      <th>accuracy_multi</th>\n",
       "      <th>time</th>\n",
       "    </tr>\n",
       "  </thead>\n",
       "  <tbody>\n",
       "    <tr>\n",
       "      <td>0</td>\n",
       "      <td>0.091295</td>\n",
       "      <td>0.088013</td>\n",
       "      <td>0.913873</td>\n",
       "      <td>01:38</td>\n",
       "    </tr>\n",
       "    <tr>\n",
       "      <td>1</td>\n",
       "      <td>0.088233</td>\n",
       "      <td>0.087246</td>\n",
       "      <td>0.913965</td>\n",
       "      <td>01:37</td>\n",
       "    </tr>\n",
       "    <tr>\n",
       "      <td>2</td>\n",
       "      <td>0.087213</td>\n",
       "      <td>0.087196</td>\n",
       "      <td>0.914104</td>\n",
       "      <td>01:37</td>\n",
       "    </tr>\n",
       "  </tbody>\n",
       "</table>"
      ],
      "text/plain": [
       "<IPython.core.display.HTML object>"
      ]
     },
     "metadata": {},
     "output_type": "display_data"
    }
   ],
   "source": [
    "learn.fit_one_cycle(3, lr_max=slice(1e-7, 3e-6))"
   ]
  },
  {
   "cell_type": "code",
   "execution_count": null,
   "metadata": {},
   "outputs": [
    {
     "data": {
      "text/html": [
       ""
      ],
      "text/plain": [
       "<IPython.core.display.HTML object>"
      ]
     },
     "metadata": {},
     "output_type": "display_data"
    },
    {
     "data": {
      "text/html": [
       "<table border=\"1\" class=\"dataframe\">\n",
       "  <thead>\n",
       "    <tr style=\"text-align: right;\">\n",
       "      <th></th>\n",
       "      <th>text</th>\n",
       "      <th>None</th>\n",
       "      <th>target</th>\n",
       "    </tr>\n",
       "  </thead>\n",
       "  <tbody>\n",
       "    <tr>\n",
       "      <th>0</th>\n",
       "      <td>As usual WW plumbing the depths for deeper meaning... that is unless it involves an issue on which they disagree then it is ridicule 24/7.   Clever creating the Bundyland series complete with cartoon banner.  Set the tone for the level of journalism to expect... journalism? ... fatastisticism. \\n\\nI did notice you soft pedaling the ridicule of David Fry identifying him as troubled.  My guess is that has more to do with sympathy for his pot smoking withdrawl rants than respect for his politics.  Respect is never a factor with liberals as evidenced by your series of vapid caricatures.  \\n\\nDid you happen to see the stories actual journalists did on Refuge mis-managment, fires, floods, and the millions of Carp that are harassing the birds away from the Bird Refuge?  The stories of arbitrary miss-management that are driving unemployment ever higher in eastern Oregon.  Curry County Sheriff turning in his badge in frustration for lack of resources dud to dwindling tax base engineered by arbitrary over reaching Federal Government policies.  Or how about the thousands of miles of roads proposed to be removed from Oregon wild lands, cutting off public and fire access?  What is the one issue the people of Oregon demand universally?  Access to the wild lands?  You are not reporting that it is being taken away.  More closed roads.  More illegal Federal Police, guns drawn, stops... as reported by the Sheriff of Grant County.  \\n\\nI suspect the real problem was real people you couldn't care less about were articulate, were actual victims, and made rational arguments you could not respond to.  The exact opposite of the great unbathed OWS movement, apart from the paid organizers, that held downtown Portland hostage and trashed 3 park blocks for 3 weeks.  \\n\\nShame on you.  You missed some really great stories and even greater people... people who don't drink $5 cups of coffee.</td>\n",
       "      <td></td>\n",
       "      <td>[]</td>\n",
       "    </tr>\n",
       "    <tr>\n",
       "      <th>1</th>\n",
       "      <td>@motleycrew: You're right when you say that it is time to wonder about the differences between schools, and to do something about it.\\n\\nBut you've missed the point beyond that. This \"School Choice\" policy become a self-enforcing cycle: as attendance drops at a school, funding and staffing follow shortly there-after. As staff are lost and the remaining teachers are stretched even thinner the school struggles to provide the same programs as other schools. (Note that I saw this first-hand as music and other elective programs became harder and harder to enroll in during my 4 years at North). The lack of those programs encourage more families to request that their students be transferred to a different school. It's natural for those families to want the best education for their children, and they can't be blamed for this.\\n\\nBut here's the problem: It should surprise exactly no one that this option to transfer to a different school is over-overwhelmingly taken by more affluent families who...</td>\n",
       "      <td></td>\n",
       "      <td>[]</td>\n",
       "    </tr>\n",
       "  </tbody>\n",
       "</table>"
      ],
      "text/plain": [
       "<IPython.core.display.HTML object>"
      ]
     },
     "metadata": {},
     "output_type": "display_data"
    }
   ],
   "source": [
    "learn.show_results(learner=learn, max_n=2)"
   ]
  },
  {
   "cell_type": "code",
   "execution_count": null,
   "metadata": {},
   "outputs": [],
   "source": [
    "learn.loss_func.thresh = 0.7"
   ]
  },
  {
   "cell_type": "code",
   "execution_count": null,
   "metadata": {},
   "outputs": [
    {
     "data": {
      "text/plain": [
       "[(((#2) ['insult','toxicity'],),\n",
       "  (#1) [tensor([ True, False, False, False, False,  True])],\n",
       "  (#1) [tensor([0.7143, 0.3579, 0.0679, 0.0543, 0.0276, 0.7736])])]"
      ]
     },
     "execution_count": null,
     "metadata": {},
     "output_type": "execute_result"
    }
   ],
   "source": [
    "learn.blurr_predict(\"You are the biggest loser! go to hell\")"
   ]
  },
  {
   "cell_type": "code",
   "execution_count": null,
   "metadata": {},
   "outputs": [
    {
     "data": {
      "text/plain": [
       "[(((#2) ['insult','toxicity'],),\n",
       "  (#1) [tensor([ True, False, False, False, False,  True])],\n",
       "  (#1) [tensor([0.7061, 0.6684, 0.1649, 0.2593, 0.0840, 0.8123])])]"
      ]
     },
     "execution_count": null,
     "metadata": {},
     "output_type": "execute_result"
    }
   ],
   "source": [
    "learn.blurr_predict(\"Who the fuck you think you are!\")"
   ]
  },
  {
   "cell_type": "code",
   "execution_count": null,
   "metadata": {},
   "outputs": [
    {
     "data": {
      "text/plain": [
       "[(((#3) ['insult','obscene','toxicity'],),\n",
       "  (#1) [tensor([ True,  True, False, False, False,  True])],\n",
       "  (#1) [tensor([0.3693, 0.1071, 0.0180, 0.0107, 0.0128, 0.5056])])]"
      ]
     },
     "execution_count": null,
     "metadata": {},
     "output_type": "execute_result"
    }
   ],
   "source": [
    "learn.loss_func.thresh = 0.02\n",
    "comment = \"\"\"\n",
    "Those damned affluent white people should only eat their own food, like cod cakes and boiled potatoes. \n",
    "No enchiladas for them!\n",
    "\"\"\"\n",
    "learn.blurr_predict(comment)"
   ]
  },
  {
   "cell_type": "code",
   "execution_count": null,
   "metadata": {},
   "outputs": [
    {
     "data": {
      "text/html": [
       ""
      ],
      "text/plain": [
       "<IPython.core.display.HTML object>"
      ]
     },
     "metadata": {},
     "output_type": "display_data"
    },
    {
     "data": {
      "text/plain": [
       "(torch.Size([3609, 6]), torch.Size([3609, 6]), torch.Size([3609]))"
      ]
     },
     "execution_count": null,
     "metadata": {},
     "output_type": "execute_result"
    }
   ],
   "source": [
    "preds, targs, losses = learn.get_preds(with_loss=True)\n",
    "preds.shape, targs.shape, losses.shape"
   ]
  },
  {
   "cell_type": "code",
   "execution_count": null,
   "metadata": {},
   "outputs": [],
   "source": []
  }
 ],
 "metadata": {
  "kernelspec": {
   "display_name": "Python 3",
   "name": "python3"
  }
 },
 "nbformat": 4,
 "nbformat_minor": 0
}
