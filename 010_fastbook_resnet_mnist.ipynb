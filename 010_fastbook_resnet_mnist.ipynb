{
  "nbformat": 4,
  "nbformat_minor": 0,
  "metadata": {
    "colab": {
      "name": "fastbook-resnet-mnist.ipynb",
      "provenance": []
    },
    "kernelspec": {
      "name": "python3",
      "display_name": "Python 3"
    },
    "language_info": {
      "name": "python"
    },
    "accelerator": "GPU"
  },
  "cells": [
    {
      "cell_type": "code",
      "metadata": {
        "colab": {
          "base_uri": "https://localhost:8080/"
        },
        "id": "xTimqdptPPPD",
        "outputId": "779dfb68-5798-4b9c-bd5b-1ef15684b0d8"
      },
      "source": [
        "%pip install fastbook -Uqq\n",
        "import fastbook\n",
        "fastbook.setup_book()"
      ],
      "execution_count": 1,
      "outputs": [
        {
          "output_type": "stream",
          "name": "stdout",
          "text": [
            "\u001b[K     |████████████████████████████████| 720 kB 12.2 MB/s \n",
            "\u001b[K     |████████████████████████████████| 1.2 MB 31.7 MB/s \n",
            "\u001b[K     |████████████████████████████████| 186 kB 45.4 MB/s \n",
            "\u001b[K     |████████████████████████████████| 46 kB 3.9 MB/s \n",
            "\u001b[K     |████████████████████████████████| 56 kB 3.9 MB/s \n",
            "\u001b[K     |████████████████████████████████| 51 kB 355 kB/s \n",
            "\u001b[?25hMounted at /content/gdrive\n"
          ]
        }
      ]
    },
    {
      "cell_type": "code",
      "metadata": {
        "id": "IuInXuajjMgN"
      },
      "source": [
        "%pip install nbdev -qq"
      ],
      "execution_count": 38,
      "outputs": []
    },
    {
      "cell_type": "markdown",
      "metadata": {
        "id": "zPwcO-90Oz9Y"
      },
      "source": [
        "# MNIST CNN\n",
        "\n",
        "Reference:\n",
        "- [fastai - Lesson 7 Resnet on MNIST](https://nbviewer.org/github/fastai/course-v3/blob/master/nbs/dl1/lesson7-resnet-mnist.ipynb)\n",
        "- https://walkwithfastai.com/MNIST"
      ]
    },
    {
      "cell_type": "code",
      "metadata": {
        "id": "y8zNWZfPPLcK"
      },
      "source": [
        "from fastai.vision.all import *\n",
        "from nbdev.showdoc import show_doc"
      ],
      "execution_count": 40,
      "outputs": []
    },
    {
      "cell_type": "markdown",
      "metadata": {
        "id": "Hx13IdDDPtLS"
      },
      "source": [
        "## Data"
      ]
    },
    {
      "cell_type": "code",
      "metadata": {
        "colab": {
          "base_uri": "https://localhost:8080/",
          "height": 36
        },
        "id": "FnBpL1IbPuki",
        "outputId": "725f8b8f-ea3c-4420-e925-93a3286eba95"
      },
      "source": [
        "path = untar_data(URLs.MNIST)"
      ],
      "execution_count": 3,
      "outputs": [
        {
          "output_type": "display_data",
          "data": {
            "text/html": [
              "\n",
              "    <div>\n",
              "        <style>\n",
              "            /* Turns off some styling */\n",
              "            progress {\n",
              "                /* gets rid of default border in Firefox and Opera. */\n",
              "                border: none;\n",
              "                /* Needs to be in here for Safari polyfill so background images work as expected. */\n",
              "                background-size: auto;\n",
              "            }\n",
              "            .progress-bar-interrupted, .progress-bar-interrupted::-webkit-progress-bar {\n",
              "                background: #F44336;\n",
              "            }\n",
              "        </style>\n",
              "      <progress value='15687680' class='' max='15683414' style='width:300px; height:20px; vertical-align: middle;'></progress>\n",
              "      100.03% [15687680/15683414 00:01<00:00]\n",
              "    </div>\n",
              "    "
            ],
            "text/plain": [
              "<IPython.core.display.HTML object>"
            ]
          },
          "metadata": {}
        }
      ]
    },
    {
      "cell_type": "code",
      "metadata": {
        "colab": {
          "base_uri": "https://localhost:8080/"
        },
        "id": "J43BWz-1PxeP",
        "outputId": "1c701ea8-8905-4f4d-c3e4-c5aa601349b5"
      },
      "source": [
        "path.ls()"
      ],
      "execution_count": 4,
      "outputs": [
        {
          "output_type": "execute_result",
          "data": {
            "text/plain": [
              "(#2) [Path('/root/.fastai/data/mnist_png/training'),Path('/root/.fastai/data/mnist_png/testing')]"
            ]
          },
          "metadata": {},
          "execution_count": 4
        }
      ]
    },
    {
      "cell_type": "code",
      "metadata": {
        "id": "3v_Kulm_Py9r"
      },
      "source": [
        "fnames = get_image_files(path)"
      ],
      "execution_count": 5,
      "outputs": []
    },
    {
      "cell_type": "code",
      "metadata": {
        "colab": {
          "base_uri": "https://localhost:8080/"
        },
        "id": "Q1bd6-biQiTy",
        "outputId": "e300b4d0-90e1-4370-e9c0-e66215b718a3"
      },
      "source": [
        "fnames[0]"
      ],
      "execution_count": 6,
      "outputs": [
        {
          "output_type": "execute_result",
          "data": {
            "text/plain": [
              "Path('/root/.fastai/data/mnist_png/training/5/1817.png')"
            ]
          },
          "metadata": {},
          "execution_count": 6
        }
      ]
    },
    {
      "cell_type": "code",
      "metadata": {
        "colab": {
          "base_uri": "https://localhost:8080/",
          "height": 44
        },
        "id": "IAG7AkMhQjzQ",
        "outputId": "221f9652-20e8-4537-85c6-0b113ac9fcd6"
      },
      "source": [
        "PILImageBW.create(fnames[0])"
      ],
      "execution_count": 7,
      "outputs": [
        {
          "output_type": "execute_result",
          "data": {
            "image/png": "[encoded data removed]",
            "text/plain": [
              "PILImageBW mode=L size=28x28"
            ]
          },
          "metadata": {},
          "execution_count": 7
        }
      ]
    },
    {
      "cell_type": "code",
      "metadata": {
        "colab": {
          "base_uri": "https://localhost:8080/",
          "height": 35
        },
        "id": "yAezcGkLQmvF",
        "outputId": "81f2ba5e-4f66-467a-8d49-26ab3fb8dbff"
      },
      "source": [
        "parent_label(fnames[0])"
      ],
      "execution_count": 8,
      "outputs": [
        {
          "output_type": "execute_result",
          "data": {
            "application/vnd.google.colaboratory.intrinsic+json": {
              "type": "string"
            },
            "text/plain": [
              "'5'"
            ]
          },
          "metadata": {},
          "execution_count": 8
        }
      ]
    },
    {
      "cell_type": "markdown",
      "metadata": {
        "id": "XSuH81G5Wd3m"
      },
      "source": [
        "### DataBlock approach"
      ]
    },
    {
      "cell_type": "code",
      "metadata": {
        "id": "lbPfr3zdRWC1"
      },
      "source": [
        "'''\n",
        "Setting up Pipeline: PILBase.create\n",
        "Setting up Pipeline: parent_label -> Categorize -- {'vocab': None, 'sort': True, 'add_na': False}\n",
        "\n",
        "Building one sample\n",
        "Pipeline: PILBase.create\n",
        "    starting from\n",
        "      /root/.fastai/data/mnist_png/training/3/13332.png\n",
        "    applying PILBase.create gives\n",
        "      PILImageBW mode=L size=28x28\n",
        "  Pipeline: parent_label -> Categorize -- {'vocab': None, 'sort': True, 'add_na': False}\n",
        "    starting from\n",
        "      /root/.fastai/data/mnist_png/training/3/13332.png\n",
        "    applying parent_label gives\n",
        "      3\n",
        "    applying Categorize -- {'vocab': None, 'sort': True, 'add_na': False} gives\n",
        "      TensorCategory(3)\n",
        "Final sample: (PILImageBW mode=L size=28x28, TensorCategory(3))\n",
        "'''\n",
        "db = DataBlock(blocks=(ImageBlock(cls=PILImageBW), CategoryBlock),\n",
        "               get_items=get_image_files,\n",
        "               get_y=parent_label, \n",
        "               splitter=GrandparentSplitter(train_name='training', valid_name='testing'))"
      ],
      "execution_count": 9,
      "outputs": []
    },
    {
      "cell_type": "code",
      "metadata": {
        "colab": {
          "base_uri": "https://localhost:8080/"
        },
        "id": "FIWD7vrRR6Bs",
        "outputId": "215ac6fd-0d2f-46f2-ce54-9ebdaf421c06"
      },
      "source": [
        "dset = db.datasets(path, True)"
      ],
      "execution_count": 10,
      "outputs": [
        {
          "output_type": "stream",
          "name": "stdout",
          "text": [
            "Collecting items from /root/.fastai/data/mnist_png\n",
            "Found 70000 items\n",
            "2 datasets of sizes 60000,10000\n",
            "Setting up Pipeline: PILBase.create\n",
            "Setting up Pipeline: parent_label -> Categorize -- {'vocab': None, 'sort': True, 'add_na': False}\n"
          ]
        }
      ]
    },
    {
      "cell_type": "code",
      "metadata": {
        "colab": {
          "base_uri": "https://localhost:8080/"
        },
        "id": "RLU55j06R_z5",
        "outputId": "4557fb02-a934-4bf7-da7a-dc40fc7f5c5b"
      },
      "source": [
        "dset.train[0]"
      ],
      "execution_count": 11,
      "outputs": [
        {
          "output_type": "execute_result",
          "data": {
            "text/plain": [
              "(PILImageBW mode=L size=28x28, TensorCategory(5))"
            ]
          },
          "metadata": {},
          "execution_count": 11
        }
      ]
    },
    {
      "cell_type": "code",
      "metadata": {
        "colab": {
          "base_uri": "https://localhost:8080/",
          "height": 118
        },
        "id": "ZRFhzE2fS37E",
        "outputId": "39a07941-5908-415c-c789-6fbf3c171d1d"
      },
      "source": [
        "dset.show(dset.train[0])"
      ],
      "execution_count": 12,
      "outputs": [
        {
          "output_type": "execute_result",
          "data": {
            "text/plain": [
              "<matplotlib.axes._subplots.AxesSubplot at 0x7f940a48f850>"
            ]
          },
          "metadata": {},
          "execution_count": 12
        },
        {
          "output_type": "display_data",
          "data": {
            "image/png": "[encoded data removed]",
            "text/plain": [
              "<Figure size 72x72 with 1 Axes>"
            ]
          },
          "metadata": {
            "needs_background": "light"
          }
        }
      ]
    },
    {
      "cell_type": "markdown",
      "metadata": {
        "id": "JiSscz7FXpDO"
      },
      "source": [
        "Transforms\n",
        "- Ensure our images are all the same size\n",
        "- Make sure our output are the tensor our models are wanting\n",
        "- Give some image augmentation"
      ]
    },
    {
      "cell_type": "code",
      "metadata": {
        "id": "0B1g509lV_2f"
      },
      "source": [
        "# ToTensor: Converts to Tensor\n",
        "# CropPad & RandomCrop : Resizing Transforms\n",
        "# Applied on CPU via after_item\n",
        "tfms=[ToTensor(), CropPad(size=34, pad_mode=PadMode.Zeros), RandomCrop(size=28)]"
      ],
      "execution_count": 13,
      "outputs": []
    },
    {
      "cell_type": "code",
      "metadata": {
        "id": "IWcfRa_-Xj72"
      },
      "source": [
        "# IntToFloatTensor : Converts to a float\n",
        "# Normalize: Normalizes data\n",
        "gpu_tfms=[IntToFloatTensor(), Normalize()]"
      ],
      "execution_count": 14,
      "outputs": []
    },
    {
      "cell_type": "code",
      "metadata": {
        "id": "oEcp0C9wX-bV"
      },
      "source": [
        "dls = dset.dataloaders(bs=128, after_item=tfms, after_batch=gpu_tfms)"
      ],
      "execution_count": 15,
      "outputs": []
    },
    {
      "cell_type": "code",
      "metadata": {
        "colab": {
          "base_uri": "https://localhost:8080/",
          "height": 535
        },
        "id": "f0_b9pf7YFxA",
        "outputId": "f03bc562-a589-4d8f-fade-820b9017c5ba"
      },
      "source": [
        "dls.show_batch()"
      ],
      "execution_count": 16,
      "outputs": [
        {
          "output_type": "display_data",
          "data": {
            "image/png": "[encoded data removed]",
            "text/plain": [
              "<Figure size 648x648 with 9 Axes>"
            ]
          },
          "metadata": {
            "needs_background": "light"
          }
        }
      ]
    },
    {
      "cell_type": "code",
      "metadata": {
        "id": "t26oTg1AYHIs"
      },
      "source": [
        "xb, yb = dls.one_batch()"
      ],
      "execution_count": 17,
      "outputs": []
    },
    {
      "cell_type": "code",
      "metadata": {
        "colab": {
          "base_uri": "https://localhost:8080/"
        },
        "id": "kfwV6oy4YLtX",
        "outputId": "4b42ee86-af16-47c5-f6c1-4240ae47870a"
      },
      "source": [
        "xb.shape, yb.shape"
      ],
      "execution_count": 18,
      "outputs": [
        {
          "output_type": "execute_result",
          "data": {
            "text/plain": [
              "(torch.Size([128, 1, 28, 28]), torch.Size([128]))"
            ]
          },
          "metadata": {},
          "execution_count": 18
        }
      ]
    },
    {
      "cell_type": "code",
      "metadata": {
        "colab": {
          "base_uri": "https://localhost:8080/"
        },
        "id": "9G6ky5mRYapz",
        "outputId": "7a30afca-3fe4-483d-9fae-522f22744901"
      },
      "source": [
        "dls.c"
      ],
      "execution_count": 19,
      "outputs": [
        {
          "output_type": "execute_result",
          "data": {
            "text/plain": [
              "10"
            ]
          },
          "metadata": {},
          "execution_count": 19
        }
      ]
    },
    {
      "cell_type": "markdown",
      "metadata": {
        "id": "0097y4NqYdF0"
      },
      "source": [
        "## Model"
      ]
    },
    {
      "cell_type": "markdown",
      "metadata": {
        "id": "ag8bc4XVYuRm"
      },
      "source": [
        "### Basic CNN with batchnorm"
      ]
    },
    {
      "cell_type": "code",
      "metadata": {
        "id": "1U5YkDOQeYpI"
      },
      "source": [
        "#Here we can see our ni is equivalent to the depth of the filter, and nf is equivalent to how many filters we will be using. (Fun fact this always has to be divisible by the size of our image).\n",
        "def conv(ni, nf): return nn.Conv2d(ni, nf, kernel_size=3, stride=2, padding=1)"
      ],
      "execution_count": 20,
      "outputs": []
    },
    {
      "cell_type": "code",
      "metadata": {
        "id": "E_9bJTSaekjn"
      },
      "source": [
        "def bn(nf): return nn.BatchNorm2d(nf)"
      ],
      "execution_count": 21,
      "outputs": []
    },
    {
      "cell_type": "code",
      "metadata": {
        "id": "_a4a8spuex-D"
      },
      "source": [
        "def ReLU(): return nn.ReLU(inplace=False)"
      ],
      "execution_count": 22,
      "outputs": []
    },
    {
      "cell_type": "code",
      "metadata": {
        "colab": {
          "base_uri": "https://localhost:8080/"
        },
        "id": "cHVN_lq9e494",
        "outputId": "fc363ef2-f879-4e0d-d09e-e659984a4617"
      },
      "source": [
        "# Flatten `x` to a single dimension, e.g. at end of a model. `full` for rank-1 tensor\n",
        "Flatten()"
      ],
      "execution_count": 23,
      "outputs": [
        {
          "output_type": "execute_result",
          "data": {
            "text/plain": [
              "Flatten(full=False)"
            ]
          },
          "metadata": {},
          "execution_count": 23
        }
      ]
    },
    {
      "cell_type": "code",
      "metadata": {
        "id": "I6Raktfze7C-"
      },
      "source": [
        "model = nn.Sequential(\n",
        "    conv(1, 8), # 14\n",
        "    bn(8),\n",
        "    ReLU(),\n",
        "    conv(8, 16), # 7\n",
        "    bn(16),\n",
        "    ReLU(), \n",
        "    conv(16, 32), # 4\n",
        "    bn(32),\n",
        "    ReLU(),\n",
        "    conv(32, 16), # 2\n",
        "    bn(16),\n",
        "    ReLU(),\n",
        "    conv(16, 10), # 1\n",
        "    bn(10),\n",
        "    Flatten() # remove(1, 1) grid   \n",
        ")"
      ],
      "execution_count": 24,
      "outputs": []
    },
    {
      "cell_type": "code",
      "metadata": {
        "id": "kN2UKMtvf37a"
      },
      "source": [
        "learn = Learner(dls, model, loss_func=CrossEntropyLossFlat(), metrics=accuracy)"
      ],
      "execution_count": 25,
      "outputs": []
    },
    {
      "cell_type": "code",
      "metadata": {
        "colab": {
          "base_uri": "https://localhost:8080/",
          "height": 781
        },
        "id": "ciLdMlMsgCFi",
        "outputId": "cdccbdec-e079-4802-dbc3-ad818f93ad1b"
      },
      "source": [
        "learn.summary()"
      ],
      "execution_count": 26,
      "outputs": [
        {
          "output_type": "display_data",
          "data": {
            "text/html": [
              ""
            ],
            "text/plain": [
              "<IPython.core.display.HTML object>"
            ]
          },
          "metadata": {}
        },
        {
          "output_type": "execute_result",
          "data": {
            "application/vnd.google.colaboratory.intrinsic+json": {
              "type": "string"
            },
            "text/plain": [
              "Sequential (Input shape: 128)\n",
              "============================================================================\n",
              "Layer (type)         Output Shape         Param #    Trainable \n",
              "============================================================================\n",
              "                     128 x 8 x 14 x 14   \n",
              "Conv2d                                    80         True      \n",
              "BatchNorm2d                               16         True      \n",
              "ReLU                                                           \n",
              "____________________________________________________________________________\n",
              "                     128 x 16 x 7 x 7    \n",
              "Conv2d                                    1168       True      \n",
              "BatchNorm2d                               32         True      \n",
              "ReLU                                                           \n",
              "____________________________________________________________________________\n",
              "                     128 x 32 x 4 x 4    \n",
              "Conv2d                                    4640       True      \n",
              "BatchNorm2d                               64         True      \n",
              "ReLU                                                           \n",
              "____________________________________________________________________________\n",
              "                     128 x 16 x 2 x 2    \n",
              "Conv2d                                    4624       True      \n",
              "BatchNorm2d                               32         True      \n",
              "ReLU                                                           \n",
              "____________________________________________________________________________\n",
              "                     128 x 10 x 1 x 1    \n",
              "Conv2d                                    1450       True      \n",
              "BatchNorm2d                               20         True      \n",
              "____________________________________________________________________________\n",
              "                     []                  \n",
              "Flatten                                                        \n",
              "____________________________________________________________________________\n",
              "\n",
              "Total params: 12,126\n",
              "Total trainable params: 12,126\n",
              "Total non-trainable params: 0\n",
              "\n",
              "Optimizer used: <function Adam at 0x7f9410ffdcb0>\n",
              "Loss function: FlattenedLoss of CrossEntropyLoss()\n",
              "\n",
              "Callbacks:\n",
              "  - TrainEvalCallback\n",
              "  - Recorder\n",
              "  - ProgressCallback"
            ]
          },
          "metadata": {},
          "execution_count": 26
        }
      ]
    },
    {
      "cell_type": "code",
      "metadata": {
        "colab": {
          "base_uri": "https://localhost:8080/"
        },
        "id": "FeLbnKL2gDGj",
        "outputId": "701ff7cb-dbba-47dc-895b-fea983744e37"
      },
      "source": [
        "xb = xb.cuda()\n",
        "model(xb).shape"
      ],
      "execution_count": 27,
      "outputs": [
        {
          "output_type": "execute_result",
          "data": {
            "text/plain": [
              "torch.Size([128, 10])"
            ]
          },
          "metadata": {},
          "execution_count": 27
        }
      ]
    },
    {
      "cell_type": "code",
      "metadata": {
        "colab": {
          "base_uri": "https://localhost:8080/",
          "height": 301
        },
        "id": "2H59lpMMgTNN",
        "outputId": "14575e8d-2b6e-4382-83a9-e1791091ac23"
      },
      "source": [
        "learn.lr_find()"
      ],
      "execution_count": 28,
      "outputs": [
        {
          "output_type": "display_data",
          "data": {
            "text/html": [
              ""
            ],
            "text/plain": [
              "<IPython.core.display.HTML object>"
            ]
          },
          "metadata": {}
        },
        {
          "output_type": "execute_result",
          "data": {
            "text/plain": [
              "SuggestedLRs(valley=0.0063095735386013985)"
            ]
          },
          "metadata": {},
          "execution_count": 28
        },
        {
          "output_type": "display_data",
          "data": {
            "image/png": "[encoded data removed]",
            "text/plain": [
              "<Figure size 432x288 with 1 Axes>"
            ]
          },
          "metadata": {
            "needs_background": "light"
          }
        }
      ]
    },
    {
      "cell_type": "code",
      "metadata": {
        "colab": {
          "base_uri": "https://localhost:8080/",
          "height": 141
        },
        "id": "KWGDwR_ug3-Y",
        "outputId": "8578e062-e458-4384-a841-ff5c4f4823ab"
      },
      "source": [
        "learn.fit_one_cycle(3, lr_max=6e-3)"
      ],
      "execution_count": 29,
      "outputs": [
        {
          "output_type": "display_data",
          "data": {
            "text/html": [
              "<table border=\"1\" class=\"dataframe\">\n",
              "  <thead>\n",
              "    <tr style=\"text-align: left;\">\n",
              "      <th>epoch</th>\n",
              "      <th>train_loss</th>\n",
              "      <th>valid_loss</th>\n",
              "      <th>accuracy</th>\n",
              "      <th>time</th>\n",
              "    </tr>\n",
              "  </thead>\n",
              "  <tbody>\n",
              "    <tr>\n",
              "      <td>0</td>\n",
              "      <td>0.240978</td>\n",
              "      <td>0.122962</td>\n",
              "      <td>0.969600</td>\n",
              "      <td>02:07</td>\n",
              "    </tr>\n",
              "    <tr>\n",
              "      <td>1</td>\n",
              "      <td>0.110139</td>\n",
              "      <td>0.055658</td>\n",
              "      <td>0.985200</td>\n",
              "      <td>02:06</td>\n",
              "    </tr>\n",
              "    <tr>\n",
              "      <td>2</td>\n",
              "      <td>0.078175</td>\n",
              "      <td>0.044224</td>\n",
              "      <td>0.988600</td>\n",
              "      <td>02:07</td>\n",
              "    </tr>\n",
              "  </tbody>\n",
              "</table>"
            ],
            "text/plain": [
              "<IPython.core.display.HTML object>"
            ]
          },
          "metadata": {}
        }
      ]
    },
    {
      "cell_type": "markdown",
      "metadata": {
        "id": "sUyOXZVlhF_7"
      },
      "source": [
        "## Refactor"
      ]
    },
    {
      "cell_type": "code",
      "metadata": {
        "colab": {
          "base_uri": "https://localhost:8080/",
          "height": 165
        },
        "id": "q0AWbhSdi3e4",
        "outputId": "1dcd2719-e6b7-49d9-e23c-47d4832cc74c"
      },
      "source": [
        "show_doc(ConvLayer)"
      ],
      "execution_count": 41,
      "outputs": [
        {
          "output_type": "display_data",
          "data": {
            "text/markdown": "<h2 id=\"ConvLayer\" class=\"doc_header\"><code>class</code> <code>ConvLayer</code><a href=\"https://github.com/fastai/fastai/tree/master/fastai/layers.py#L237\" class=\"source_link\" style=\"float:right\">[source]</a></h2>\n\n> <code>ConvLayer</code>(**`ni`**, **`nf`**, **`ks`**=*`3`*, **`stride`**=*`1`*, **`padding`**=*`None`*, **`bias`**=*`None`*, **`ndim`**=*`2`*, **`norm_type`**=*`<NormType.Batch: 1>`*, **`bn_1st`**=*`True`*, **`act_cls`**=*`ReLU`*, **`transpose`**=*`False`*, **`init`**=*`'auto'`*, **`xtra`**=*`None`*, **`bias_std`**=*`0.01`*, **`dilation`**:`Union`\\[`int`, `Tuple`\\[`int`, `int`\\]\\]=*`1`*, **`groups`**:`int`=*`1`*, **`padding_mode`**:`str`=*`'zeros'`*, **`device`**=*`None`*, **`dtype`**=*`None`*) :: `Sequential`\n\nCreate a sequence of convolutional (`ni` to `nf`), ReLU (if `use_activ`) and `norm_type` layers.",
            "text/plain": [
              "<IPython.core.display.Markdown object>"
            ]
          },
          "metadata": {}
        }
      ]
    },
    {
      "cell_type": "code",
      "metadata": {
        "id": "RCwqEnbLhvOU"
      },
      "source": [
        "# Create a sequence of convolutional (ni to nf), ReLU and norm_type layers.\n",
        "def conv2(ni, nf): return ConvLayer(ni, nf, stride=2)"
      ],
      "execution_count": 42,
      "outputs": []
    },
    {
      "cell_type": "code",
      "metadata": {
        "id": "rdRSbstNiUDF"
      },
      "source": [
        "net = nn.Sequential(\n",
        "    conv2(1, 8),\n",
        "    conv2(8, 16),\n",
        "    conv2(16, 32),\n",
        "    conv2(32, 16),\n",
        "    conv2(16, 10),\n",
        "    Flatten()\n",
        ")"
      ],
      "execution_count": 43,
      "outputs": []
    },
    {
      "cell_type": "code",
      "metadata": {
        "id": "8srf2JzKizjg"
      },
      "source": [
        "learn = Learner(dls, net,loss_func=CrossEntropyLossFlat(), metrics=accuracy)"
      ],
      "execution_count": 44,
      "outputs": []
    },
    {
      "cell_type": "code",
      "metadata": {
        "colab": {
          "base_uri": "https://localhost:8080/",
          "height": 301
        },
        "id": "eBw-1A1Vjueg",
        "outputId": "35183d46-87bf-4b66-904d-94236b399a7c"
      },
      "source": [
        "learn.lr_find()"
      ],
      "execution_count": 45,
      "outputs": [
        {
          "output_type": "display_data",
          "data": {
            "text/html": [
              ""
            ],
            "text/plain": [
              "<IPython.core.display.HTML object>"
            ]
          },
          "metadata": {}
        },
        {
          "output_type": "execute_result",
          "data": {
            "text/plain": [
              "SuggestedLRs(valley=0.010964781977236271)"
            ]
          },
          "metadata": {},
          "execution_count": 45
        },
        {
          "output_type": "display_data",
          "data": {
            "image/png": "[encoded data removed]",
            "text/plain": [
              "<Figure size 432x288 with 1 Axes>"
            ]
          },
          "metadata": {
            "needs_background": "light"
          }
        }
      ]
    },
    {
      "cell_type": "code",
      "metadata": {
        "colab": {
          "base_uri": "https://localhost:8080/",
          "height": 141
        },
        "id": "OU9xbAn5jrTk",
        "outputId": "bc43fc16-fdeb-471b-cfd3-2db2b04ef6d1"
      },
      "source": [
        "learn.fit_one_cycle(3, lr_max=0.01)"
      ],
      "execution_count": 46,
      "outputs": [
        {
          "output_type": "display_data",
          "data": {
            "text/html": [
              "<table border=\"1\" class=\"dataframe\">\n",
              "  <thead>\n",
              "    <tr style=\"text-align: left;\">\n",
              "      <th>epoch</th>\n",
              "      <th>train_loss</th>\n",
              "      <th>valid_loss</th>\n",
              "      <th>accuracy</th>\n",
              "      <th>time</th>\n",
              "    </tr>\n",
              "  </thead>\n",
              "  <tbody>\n",
              "    <tr>\n",
              "      <td>0</td>\n",
              "      <td>0.244206</td>\n",
              "      <td>0.146792</td>\n",
              "      <td>0.961500</td>\n",
              "      <td>02:07</td>\n",
              "    </tr>\n",
              "    <tr>\n",
              "      <td>1</td>\n",
              "      <td>0.118846</td>\n",
              "      <td>0.066031</td>\n",
              "      <td>0.980400</td>\n",
              "      <td>02:08</td>\n",
              "    </tr>\n",
              "    <tr>\n",
              "      <td>2</td>\n",
              "      <td>0.087754</td>\n",
              "      <td>0.046837</td>\n",
              "      <td>0.985900</td>\n",
              "      <td>02:07</td>\n",
              "    </tr>\n",
              "  </tbody>\n",
              "</table>"
            ],
            "text/plain": [
              "<IPython.core.display.HTML object>"
            ]
          },
          "metadata": {}
        }
      ]
    },
    {
      "cell_type": "markdown",
      "metadata": {
        "id": "JdGoJ5nNjzoW"
      },
      "source": [
        "## Resnet-ish"
      ]
    },
    {
      "cell_type": "code",
      "metadata": {
        "colab": {
          "base_uri": "https://localhost:8080/",
          "height": 165
        },
        "id": "zw5CgyWTlnS-",
        "outputId": "8eaba0f3-0784-4d7b-97bf-49750c88d2f2"
      },
      "source": [
        "show_doc(ConvLayer)"
      ],
      "execution_count": 51,
      "outputs": [
        {
          "output_type": "display_data",
          "data": {
            "text/markdown": "<h2 id=\"ConvLayer\" class=\"doc_header\"><code>class</code> <code>ConvLayer</code><a href=\"https://github.com/fastai/fastai/tree/master/fastai/layers.py#L237\" class=\"source_link\" style=\"float:right\">[source]</a></h2>\n\n> <code>ConvLayer</code>(**`ni`**, **`nf`**, **`ks`**=*`3`*, **`stride`**=*`1`*, **`padding`**=*`None`*, **`bias`**=*`None`*, **`ndim`**=*`2`*, **`norm_type`**=*`<NormType.Batch: 1>`*, **`bn_1st`**=*`True`*, **`act_cls`**=*`ReLU`*, **`transpose`**=*`False`*, **`init`**=*`'auto'`*, **`xtra`**=*`None`*, **`bias_std`**=*`0.01`*, **`dilation`**:`Union`\\[`int`, `Tuple`\\[`int`, `int`\\]\\]=*`1`*, **`groups`**:`int`=*`1`*, **`padding_mode`**:`str`=*`'zeros'`*, **`device`**=*`None`*, **`dtype`**=*`None`*) :: `Sequential`\n\nCreate a sequence of convolutional (`ni` to `nf`), ReLU (if `use_activ`) and `norm_type` layers.",
            "text/plain": [
              "<IPython.core.display.Markdown object>"
            ]
          },
          "metadata": {}
        }
      ]
    },
    {
      "cell_type": "code",
      "metadata": {
        "colab": {
          "base_uri": "https://localhost:8080/"
        },
        "id": "uVRUxQ37lxbS",
        "outputId": "423e3d79-169f-4eb1-8a8f-fc32ca8193d6"
      },
      "source": [
        "ConvLayer"
      ],
      "execution_count": 54,
      "outputs": [
        {
          "output_type": "execute_result",
          "data": {
            "text/plain": [
              "fastai.layers.ConvLayer"
            ]
          },
          "metadata": {},
          "execution_count": 54
        }
      ]
    },
    {
      "cell_type": "code",
      "metadata": {
        "id": "lDEWv8NZj19m"
      },
      "source": [
        "class ResBlock(Module):\n",
        "  def __init__(self, nf):\n",
        "    self.conv1 = ConvLayer(nf, nf)\n",
        "    self.conv2 = ConvLayer(nf, nf)\n",
        "\n",
        "  def forward(self, x): return self.conv2(self.conv1(x)) + x"
      ],
      "execution_count": 55,
      "outputs": []
    },
    {
      "cell_type": "code",
      "metadata": {
        "id": "5Mo83maOkszZ"
      },
      "source": [
        "net = nn.Sequential(\n",
        "    conv2(1, 8),\n",
        "    ResBlock(8),\n",
        "    conv2(8, 16),\n",
        "    ResBlock(16),\n",
        "    conv2(16, 32),\n",
        "    ResBlock(32),\n",
        "    conv2(32, 16),\n",
        "    ResBlock(16),\n",
        "    conv2(16, 10),\n",
        "    Flatten()\n",
        ")"
      ],
      "execution_count": 56,
      "outputs": []
    },
    {
      "cell_type": "code",
      "metadata": {
        "colab": {
          "base_uri": "https://localhost:8080/"
        },
        "id": "SqJvdBU7lGgD",
        "outputId": "0902ab08-1a75-4821-9086-e75115c35674"
      },
      "source": [
        "net"
      ],
      "execution_count": 57,
      "outputs": [
        {
          "output_type": "execute_result",
          "data": {
            "text/plain": [
              "Sequential(\n",
              "  (0): ConvLayer(\n",
              "    (0): Conv2d(1, 8, kernel_size=(3, 3), stride=(2, 2), padding=(1, 1), bias=False)\n",
              "    (1): BatchNorm2d(8, eps=1e-05, momentum=0.1, affine=True, track_running_stats=True)\n",
              "    (2): ReLU()\n",
              "  )\n",
              "  (1): ResBlock(\n",
              "    (conv1): ConvLayer(\n",
              "      (0): Conv2d(8, 8, kernel_size=(3, 3), stride=(1, 1), padding=(1, 1), bias=False)\n",
              "      (1): BatchNorm2d(8, eps=1e-05, momentum=0.1, affine=True, track_running_stats=True)\n",
              "      (2): ReLU()\n",
              "    )\n",
              "    (conv2): ConvLayer(\n",
              "      (0): Conv2d(8, 8, kernel_size=(3, 3), stride=(1, 1), padding=(1, 1), bias=False)\n",
              "      (1): BatchNorm2d(8, eps=1e-05, momentum=0.1, affine=True, track_running_stats=True)\n",
              "      (2): ReLU()\n",
              "    )\n",
              "  )\n",
              "  (2): ConvLayer(\n",
              "    (0): Conv2d(8, 16, kernel_size=(3, 3), stride=(2, 2), padding=(1, 1), bias=False)\n",
              "    (1): BatchNorm2d(16, eps=1e-05, momentum=0.1, affine=True, track_running_stats=True)\n",
              "    (2): ReLU()\n",
              "  )\n",
              "  (3): ResBlock(\n",
              "    (conv1): ConvLayer(\n",
              "      (0): Conv2d(16, 16, kernel_size=(3, 3), stride=(1, 1), padding=(1, 1), bias=False)\n",
              "      (1): BatchNorm2d(16, eps=1e-05, momentum=0.1, affine=True, track_running_stats=True)\n",
              "      (2): ReLU()\n",
              "    )\n",
              "    (conv2): ConvLayer(\n",
              "      (0): Conv2d(16, 16, kernel_size=(3, 3), stride=(1, 1), padding=(1, 1), bias=False)\n",
              "      (1): BatchNorm2d(16, eps=1e-05, momentum=0.1, affine=True, track_running_stats=True)\n",
              "      (2): ReLU()\n",
              "    )\n",
              "  )\n",
              "  (4): ConvLayer(\n",
              "    (0): Conv2d(16, 32, kernel_size=(3, 3), stride=(2, 2), padding=(1, 1), bias=False)\n",
              "    (1): BatchNorm2d(32, eps=1e-05, momentum=0.1, affine=True, track_running_stats=True)\n",
              "    (2): ReLU()\n",
              "  )\n",
              "  (5): ResBlock(\n",
              "    (conv1): ConvLayer(\n",
              "      (0): Conv2d(32, 32, kernel_size=(3, 3), stride=(1, 1), padding=(1, 1), bias=False)\n",
              "      (1): BatchNorm2d(32, eps=1e-05, momentum=0.1, affine=True, track_running_stats=True)\n",
              "      (2): ReLU()\n",
              "    )\n",
              "    (conv2): ConvLayer(\n",
              "      (0): Conv2d(32, 32, kernel_size=(3, 3), stride=(1, 1), padding=(1, 1), bias=False)\n",
              "      (1): BatchNorm2d(32, eps=1e-05, momentum=0.1, affine=True, track_running_stats=True)\n",
              "      (2): ReLU()\n",
              "    )\n",
              "  )\n",
              "  (6): ConvLayer(\n",
              "    (0): Conv2d(32, 16, kernel_size=(3, 3), stride=(2, 2), padding=(1, 1), bias=False)\n",
              "    (1): BatchNorm2d(16, eps=1e-05, momentum=0.1, affine=True, track_running_stats=True)\n",
              "    (2): ReLU()\n",
              "  )\n",
              "  (7): ResBlock(\n",
              "    (conv1): ConvLayer(\n",
              "      (0): Conv2d(16, 16, kernel_size=(3, 3), stride=(1, 1), padding=(1, 1), bias=False)\n",
              "      (1): BatchNorm2d(16, eps=1e-05, momentum=0.1, affine=True, track_running_stats=True)\n",
              "      (2): ReLU()\n",
              "    )\n",
              "    (conv2): ConvLayer(\n",
              "      (0): Conv2d(16, 16, kernel_size=(3, 3), stride=(1, 1), padding=(1, 1), bias=False)\n",
              "      (1): BatchNorm2d(16, eps=1e-05, momentum=0.1, affine=True, track_running_stats=True)\n",
              "      (2): ReLU()\n",
              "    )\n",
              "  )\n",
              "  (8): ConvLayer(\n",
              "    (0): Conv2d(16, 10, kernel_size=(3, 3), stride=(2, 2), padding=(1, 1), bias=False)\n",
              "    (1): BatchNorm2d(10, eps=1e-05, momentum=0.1, affine=True, track_running_stats=True)\n",
              "    (2): ReLU()\n",
              "  )\n",
              "  (9): Flatten(full=False)\n",
              ")"
            ]
          },
          "metadata": {},
          "execution_count": 57
        }
      ]
    },
    {
      "cell_type": "code",
      "metadata": {
        "id": "HS2nR5v0lH-S"
      },
      "source": [
        "def conv_and_res(ni, nf): return nn.Sequential(conv2(ni, nf), ResBlock(nf))"
      ],
      "execution_count": 58,
      "outputs": []
    },
    {
      "cell_type": "code",
      "metadata": {
        "id": "E1cjuFLjlWYc"
      },
      "source": [
        "net = nn.Sequential(\n",
        "    conv_and_res(1, 8),\n",
        "    conv_and_res(8, 16),\n",
        "    conv_and_res(16, 32),\n",
        "    conv_and_res(32, 16),\n",
        "    conv2(16, 10),\n",
        "    Flatten()\n",
        ")"
      ],
      "execution_count": 59,
      "outputs": []
    },
    {
      "cell_type": "code",
      "metadata": {
        "id": "KpBL9yOUm_tV"
      },
      "source": [
        "learn = Learner(dls, net, loss_func=CrossEntropyLossFlat(), metrics=accuracy)"
      ],
      "execution_count": 60,
      "outputs": []
    },
    {
      "cell_type": "code",
      "metadata": {
        "colab": {
          "base_uri": "https://localhost:8080/",
          "height": 141
        },
        "id": "XkbGZ3hinFbW",
        "outputId": "88b96a65-6edb-4031-caa6-31d71c23de78"
      },
      "source": [
        "learn.fit_one_cycle(3, lr_max=0.01)"
      ],
      "execution_count": 62,
      "outputs": [
        {
          "output_type": "display_data",
          "data": {
            "text/html": [
              "<table border=\"1\" class=\"dataframe\">\n",
              "  <thead>\n",
              "    <tr style=\"text-align: left;\">\n",
              "      <th>epoch</th>\n",
              "      <th>train_loss</th>\n",
              "      <th>valid_loss</th>\n",
              "      <th>accuracy</th>\n",
              "      <th>time</th>\n",
              "    </tr>\n",
              "  </thead>\n",
              "  <tbody>\n",
              "    <tr>\n",
              "      <td>0</td>\n",
              "      <td>0.182298</td>\n",
              "      <td>0.399562</td>\n",
              "      <td>0.869300</td>\n",
              "      <td>02:13</td>\n",
              "    </tr>\n",
              "    <tr>\n",
              "      <td>1</td>\n",
              "      <td>0.091580</td>\n",
              "      <td>0.057553</td>\n",
              "      <td>0.983600</td>\n",
              "      <td>02:12</td>\n",
              "    </tr>\n",
              "    <tr>\n",
              "      <td>2</td>\n",
              "      <td>0.044026</td>\n",
              "      <td>0.028930</td>\n",
              "      <td>0.991000</td>\n",
              "      <td>02:13</td>\n",
              "    </tr>\n",
              "  </tbody>\n",
              "</table>"
            ],
            "text/plain": [
              "<IPython.core.display.HTML object>"
            ]
          },
          "metadata": {}
        }
      ]
    },
    {
      "cell_type": "markdown",
      "metadata": {
        "id": "kgsypLvjnG9_"
      },
      "source": [
        "Resnet = x + conv2(conv1(x))\n",
        "\n",
        "DenseNet: cat(x.orig, conv2(conv1(x)) - Works well for small datasets and for segmentations"
      ]
    },
    {
      "cell_type": "code",
      "metadata": {
        "id": "1PhdTaF-oGgt"
      },
      "source": [
        ""
      ],
      "execution_count": null,
      "outputs": []
    }
  ]
}