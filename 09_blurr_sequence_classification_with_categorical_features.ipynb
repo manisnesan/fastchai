{
  "nbformat": 4,
  "nbformat_minor": 0,
  "metadata": {
    "colab": {
      "name": "09-blurr-sequence-classification-with-categorical-features.ipynb",
      "provenance": [],
      "collapsed_sections": []
    },
    "kernelspec": {
      "name": "python3",
      "display_name": "Python 3"
    },
    "language_info": {
      "name": "python"
    },
    "accelerator": "GPU",
    "widgets": {
      "application/vnd.jupyter.widget-state+json": {
        "a5649914011646fdbce1070f2c76489f": {
          "model_module": "@jupyter-widgets/controls",
          "model_name": "HBoxModel",
          "model_module_version": "1.5.0",
          "state": {
            "_view_name": "HBoxView",
            "_dom_classes": [],
            "_model_name": "HBoxModel",
            "_view_module": "@jupyter-widgets/controls",
            "_model_module_version": "1.5.0",
            "_view_count": null,
            "_view_module_version": "1.5.0",
            "box_style": "",
            "layout": "IPY_MODEL_ff68d3081b1444bcb87213f2f26a08b3",
            "_model_module": "@jupyter-widgets/controls",
            "children": [
              "IPY_MODEL_167a49eb965f43d1ad97bd2645334e99",
              "IPY_MODEL_9a03328ea3f4438c850c97bf2d5b8cdb",
              "IPY_MODEL_7813f8692aff41209e59d64b6ce3ff2c"
            ]
          }
        },
        "ff68d3081b1444bcb87213f2f26a08b3": {
          "model_module": "@jupyter-widgets/base",
          "model_name": "LayoutModel",
          "model_module_version": "1.2.0",
          "state": {
            "_view_name": "LayoutView",
            "grid_template_rows": null,
            "right": null,
            "justify_content": null,
            "_view_module": "@jupyter-widgets/base",
            "overflow": null,
            "_model_module_version": "1.2.0",
            "_view_count": null,
            "flex_flow": null,
            "width": null,
            "min_width": null,
            "border": null,
            "align_items": null,
            "bottom": null,
            "_model_module": "@jupyter-widgets/base",
            "top": null,
            "grid_column": null,
            "overflow_y": null,
            "overflow_x": null,
            "grid_auto_flow": null,
            "grid_area": null,
            "grid_template_columns": null,
            "flex": null,
            "_model_name": "LayoutModel",
            "justify_items": null,
            "grid_row": null,
            "max_height": null,
            "align_content": null,
            "visibility": null,
            "align_self": null,
            "height": null,
            "min_height": null,
            "padding": null,
            "grid_auto_rows": null,
            "grid_gap": null,
            "max_width": null,
            "order": null,
            "_view_module_version": "1.2.0",
            "grid_template_areas": null,
            "object_position": null,
            "object_fit": null,
            "grid_auto_columns": null,
            "margin": null,
            "display": null,
            "left": null
          }
        },
        "167a49eb965f43d1ad97bd2645334e99": {
          "model_module": "@jupyter-widgets/controls",
          "model_name": "HTMLModel",
          "model_module_version": "1.5.0",
          "state": {
            "_view_name": "HTMLView",
            "style": "IPY_MODEL_e981d2f3f8db403da142bcb205206202",
            "_dom_classes": [],
            "description": "",
            "_model_name": "HTMLModel",
            "placeholder": "​",
            "_view_module": "@jupyter-widgets/controls",
            "_model_module_version": "1.5.0",
            "value": "Downloading: 100%",
            "_view_count": null,
            "_view_module_version": "1.5.0",
            "description_tooltip": null,
            "_model_module": "@jupyter-widgets/controls",
            "layout": "IPY_MODEL_ff048100e51740f7ae55cea426ad0cdd"
          }
        },
        "9a03328ea3f4438c850c97bf2d5b8cdb": {
          "model_module": "@jupyter-widgets/controls",
          "model_name": "FloatProgressModel",
          "model_module_version": "1.5.0",
          "state": {
            "_view_name": "ProgressView",
            "style": "IPY_MODEL_3f0eabf891f14b9abde4a93d815bafa1",
            "_dom_classes": [],
            "description": "",
            "_model_name": "FloatProgressModel",
            "bar_style": "success",
            "max": 570,
            "_view_module": "@jupyter-widgets/controls",
            "_model_module_version": "1.5.0",
            "value": 570,
            "_view_count": null,
            "_view_module_version": "1.5.0",
            "orientation": "horizontal",
            "min": 0,
            "description_tooltip": null,
            "_model_module": "@jupyter-widgets/controls",
            "layout": "IPY_MODEL_fe34394b849443258eccc33fba8b80d0"
          }
        },
        "7813f8692aff41209e59d64b6ce3ff2c": {
          "model_module": "@jupyter-widgets/controls",
          "model_name": "HTMLModel",
          "model_module_version": "1.5.0",
          "state": {
            "_view_name": "HTMLView",
            "style": "IPY_MODEL_bcd57bfe5e694367a2cf50e5121bba88",
            "_dom_classes": [],
            "description": "",
            "_model_name": "HTMLModel",
            "placeholder": "​",
            "_view_module": "@jupyter-widgets/controls",
            "_model_module_version": "1.5.0",
            "value": " 570/570 [00:00&lt;00:00, 11.6kB/s]",
            "_view_count": null,
            "_view_module_version": "1.5.0",
            "description_tooltip": null,
            "_model_module": "@jupyter-widgets/controls",
            "layout": "IPY_MODEL_dad2a0ee71294ab9ad8c580fd81feead"
          }
        },
        "e981d2f3f8db403da142bcb205206202": {
          "model_module": "@jupyter-widgets/controls",
          "model_name": "DescriptionStyleModel",
          "model_module_version": "1.5.0",
          "state": {
            "_view_name": "StyleView",
            "_model_name": "DescriptionStyleModel",
            "description_width": "",
            "_view_module": "@jupyter-widgets/base",
            "_model_module_version": "1.5.0",
            "_view_count": null,
            "_view_module_version": "1.2.0",
            "_model_module": "@jupyter-widgets/controls"
          }
        },
        "ff048100e51740f7ae55cea426ad0cdd": {
          "model_module": "@jupyter-widgets/base",
          "model_name": "LayoutModel",
          "model_module_version": "1.2.0",
          "state": {
            "_view_name": "LayoutView",
            "grid_template_rows": null,
            "right": null,
            "justify_content": null,
            "_view_module": "@jupyter-widgets/base",
            "overflow": null,
            "_model_module_version": "1.2.0",
            "_view_count": null,
            "flex_flow": null,
            "width": null,
            "min_width": null,
            "border": null,
            "align_items": null,
            "bottom": null,
            "_model_module": "@jupyter-widgets/base",
            "top": null,
            "grid_column": null,
            "overflow_y": null,
            "overflow_x": null,
            "grid_auto_flow": null,
            "grid_area": null,
            "grid_template_columns": null,
            "flex": null,
            "_model_name": "LayoutModel",
            "justify_items": null,
            "grid_row": null,
            "max_height": null,
            "align_content": null,
            "visibility": null,
            "align_self": null,
            "height": null,
            "min_height": null,
            "padding": null,
            "grid_auto_rows": null,
            "grid_gap": null,
            "max_width": null,
            "order": null,
            "_view_module_version": "1.2.0",
            "grid_template_areas": null,
            "object_position": null,
            "object_fit": null,
            "grid_auto_columns": null,
            "margin": null,
            "display": null,
            "left": null
          }
        },
        "3f0eabf891f14b9abde4a93d815bafa1": {
          "model_module": "@jupyter-widgets/controls",
          "model_name": "ProgressStyleModel",
          "model_module_version": "1.5.0",
          "state": {
            "_view_name": "StyleView",
            "_model_name": "ProgressStyleModel",
            "description_width": "",
            "_view_module": "@jupyter-widgets/base",
            "_model_module_version": "1.5.0",
            "_view_count": null,
            "_view_module_version": "1.2.0",
            "bar_color": null,
            "_model_module": "@jupyter-widgets/controls"
          }
        },
        "fe34394b849443258eccc33fba8b80d0": {
          "model_module": "@jupyter-widgets/base",
          "model_name": "LayoutModel",
          "model_module_version": "1.2.0",
          "state": {
            "_view_name": "LayoutView",
            "grid_template_rows": null,
            "right": null,
            "justify_content": null,
            "_view_module": "@jupyter-widgets/base",
            "overflow": null,
            "_model_module_version": "1.2.0",
            "_view_count": null,
            "flex_flow": null,
            "width": null,
            "min_width": null,
            "border": null,
            "align_items": null,
            "bottom": null,
            "_model_module": "@jupyter-widgets/base",
            "top": null,
            "grid_column": null,
            "overflow_y": null,
            "overflow_x": null,
            "grid_auto_flow": null,
            "grid_area": null,
            "grid_template_columns": null,
            "flex": null,
            "_model_name": "LayoutModel",
            "justify_items": null,
            "grid_row": null,
            "max_height": null,
            "align_content": null,
            "visibility": null,
            "align_self": null,
            "height": null,
            "min_height": null,
            "padding": null,
            "grid_auto_rows": null,
            "grid_gap": null,
            "max_width": null,
            "order": null,
            "_view_module_version": "1.2.0",
            "grid_template_areas": null,
            "object_position": null,
            "object_fit": null,
            "grid_auto_columns": null,
            "margin": null,
            "display": null,
            "left": null
          }
        },
        "bcd57bfe5e694367a2cf50e5121bba88": {
          "model_module": "@jupyter-widgets/controls",
          "model_name": "DescriptionStyleModel",
          "model_module_version": "1.5.0",
          "state": {
            "_view_name": "StyleView",
            "_model_name": "DescriptionStyleModel",
            "description_width": "",
            "_view_module": "@jupyter-widgets/base",
            "_model_module_version": "1.5.0",
            "_view_count": null,
            "_view_module_version": "1.2.0",
            "_model_module": "@jupyter-widgets/controls"
          }
        },
        "dad2a0ee71294ab9ad8c580fd81feead": {
          "model_module": "@jupyter-widgets/base",
          "model_name": "LayoutModel",
          "model_module_version": "1.2.0",
          "state": {
            "_view_name": "LayoutView",
            "grid_template_rows": null,
            "right": null,
            "justify_content": null,
            "_view_module": "@jupyter-widgets/base",
            "overflow": null,
            "_model_module_version": "1.2.0",
            "_view_count": null,
            "flex_flow": null,
            "width": null,
            "min_width": null,
            "border": null,
            "align_items": null,
            "bottom": null,
            "_model_module": "@jupyter-widgets/base",
            "top": null,
            "grid_column": null,
            "overflow_y": null,
            "overflow_x": null,
            "grid_auto_flow": null,
            "grid_area": null,
            "grid_template_columns": null,
            "flex": null,
            "_model_name": "LayoutModel",
            "justify_items": null,
            "grid_row": null,
            "max_height": null,
            "align_content": null,
            "visibility": null,
            "align_self": null,
            "height": null,
            "min_height": null,
            "padding": null,
            "grid_auto_rows": null,
            "grid_gap": null,
            "max_width": null,
            "order": null,
            "_view_module_version": "1.2.0",
            "grid_template_areas": null,
            "object_position": null,
            "object_fit": null,
            "grid_auto_columns": null,
            "margin": null,
            "display": null,
            "left": null
          }
        },
        "90f7c5f5431943ccbab408769c270612": {
          "model_module": "@jupyter-widgets/controls",
          "model_name": "HBoxModel",
          "model_module_version": "1.5.0",
          "state": {
            "_view_name": "HBoxView",
            "_dom_classes": [],
            "_model_name": "HBoxModel",
            "_view_module": "@jupyter-widgets/controls",
            "_model_module_version": "1.5.0",
            "_view_count": null,
            "_view_module_version": "1.5.0",
            "box_style": "",
            "layout": "IPY_MODEL_b1cb7a3de86d435dbee22cae3804f134",
            "_model_module": "@jupyter-widgets/controls",
            "children": [
              "IPY_MODEL_a3ed9f3c92b34f98baa02cdcfa083b61",
              "IPY_MODEL_731e3d94f6c14a72b6bc611a025fd6f7",
              "IPY_MODEL_5ce3486250674cbcae54131894ddb4a9"
            ]
          }
        },
        "b1cb7a3de86d435dbee22cae3804f134": {
          "model_module": "@jupyter-widgets/base",
          "model_name": "LayoutModel",
          "model_module_version": "1.2.0",
          "state": {
            "_view_name": "LayoutView",
            "grid_template_rows": null,
            "right": null,
            "justify_content": null,
            "_view_module": "@jupyter-widgets/base",
            "overflow": null,
            "_model_module_version": "1.2.0",
            "_view_count": null,
            "flex_flow": null,
            "width": null,
            "min_width": null,
            "border": null,
            "align_items": null,
            "bottom": null,
            "_model_module": "@jupyter-widgets/base",
            "top": null,
            "grid_column": null,
            "overflow_y": null,
            "overflow_x": null,
            "grid_auto_flow": null,
            "grid_area": null,
            "grid_template_columns": null,
            "flex": null,
            "_model_name": "LayoutModel",
            "justify_items": null,
            "grid_row": null,
            "max_height": null,
            "align_content": null,
            "visibility": null,
            "align_self": null,
            "height": null,
            "min_height": null,
            "padding": null,
            "grid_auto_rows": null,
            "grid_gap": null,
            "max_width": null,
            "order": null,
            "_view_module_version": "1.2.0",
            "grid_template_areas": null,
            "object_position": null,
            "object_fit": null,
            "grid_auto_columns": null,
            "margin": null,
            "display": null,
            "left": null
          }
        },
        "a3ed9f3c92b34f98baa02cdcfa083b61": {
          "model_module": "@jupyter-widgets/controls",
          "model_name": "HTMLModel",
          "model_module_version": "1.5.0",
          "state": {
            "_view_name": "HTMLView",
            "style": "IPY_MODEL_1a52c31d80d64f85983182210fe7561a",
            "_dom_classes": [],
            "description": "",
            "_model_name": "HTMLModel",
            "placeholder": "​",
            "_view_module": "@jupyter-widgets/controls",
            "_model_module_version": "1.5.0",
            "value": "Downloading: 100%",
            "_view_count": null,
            "_view_module_version": "1.5.0",
            "description_tooltip": null,
            "_model_module": "@jupyter-widgets/controls",
            "layout": "IPY_MODEL_e4ec53bf95ce4ff59219dc5334868e32"
          }
        },
        "731e3d94f6c14a72b6bc611a025fd6f7": {
          "model_module": "@jupyter-widgets/controls",
          "model_name": "FloatProgressModel",
          "model_module_version": "1.5.0",
          "state": {
            "_view_name": "ProgressView",
            "style": "IPY_MODEL_15a83fbdae604433bfabc4dca2fda229",
            "_dom_classes": [],
            "description": "",
            "_model_name": "FloatProgressModel",
            "bar_style": "success",
            "max": 28,
            "_view_module": "@jupyter-widgets/controls",
            "_model_module_version": "1.5.0",
            "value": 28,
            "_view_count": null,
            "_view_module_version": "1.5.0",
            "orientation": "horizontal",
            "min": 0,
            "description_tooltip": null,
            "_model_module": "@jupyter-widgets/controls",
            "layout": "IPY_MODEL_85a37bbaa92e425cbd2de6e97c413326"
          }
        },
        "5ce3486250674cbcae54131894ddb4a9": {
          "model_module": "@jupyter-widgets/controls",
          "model_name": "HTMLModel",
          "model_module_version": "1.5.0",
          "state": {
            "_view_name": "HTMLView",
            "style": "IPY_MODEL_551838f1e3c942e6be7d5bc5dbe57818",
            "_dom_classes": [],
            "description": "",
            "_model_name": "HTMLModel",
            "placeholder": "​",
            "_view_module": "@jupyter-widgets/controls",
            "_model_module_version": "1.5.0",
            "value": " 28.0/28.0 [00:00&lt;00:00, 704B/s]",
            "_view_count": null,
            "_view_module_version": "1.5.0",
            "description_tooltip": null,
            "_model_module": "@jupyter-widgets/controls",
            "layout": "IPY_MODEL_81933d862c9941ae821d29270447262a"
          }
        },
        "1a52c31d80d64f85983182210fe7561a": {
          "model_module": "@jupyter-widgets/controls",
          "model_name": "DescriptionStyleModel",
          "model_module_version": "1.5.0",
          "state": {
            "_view_name": "StyleView",
            "_model_name": "DescriptionStyleModel",
            "description_width": "",
            "_view_module": "@jupyter-widgets/base",
            "_model_module_version": "1.5.0",
            "_view_count": null,
            "_view_module_version": "1.2.0",
            "_model_module": "@jupyter-widgets/controls"
          }
        },
        "e4ec53bf95ce4ff59219dc5334868e32": {
          "model_module": "@jupyter-widgets/base",
          "model_name": "LayoutModel",
          "model_module_version": "1.2.0",
          "state": {
            "_view_name": "LayoutView",
            "grid_template_rows": null,
            "right": null,
            "justify_content": null,
            "_view_module": "@jupyter-widgets/base",
            "overflow": null,
            "_model_module_version": "1.2.0",
            "_view_count": null,
            "flex_flow": null,
            "width": null,
            "min_width": null,
            "border": null,
            "align_items": null,
            "bottom": null,
            "_model_module": "@jupyter-widgets/base",
            "top": null,
            "grid_column": null,
            "overflow_y": null,
            "overflow_x": null,
            "grid_auto_flow": null,
            "grid_area": null,
            "grid_template_columns": null,
            "flex": null,
            "_model_name": "LayoutModel",
            "justify_items": null,
            "grid_row": null,
            "max_height": null,
            "align_content": null,
            "visibility": null,
            "align_self": null,
            "height": null,
            "min_height": null,
            "padding": null,
            "grid_auto_rows": null,
            "grid_gap": null,
            "max_width": null,
            "order": null,
            "_view_module_version": "1.2.0",
            "grid_template_areas": null,
            "object_position": null,
            "object_fit": null,
            "grid_auto_columns": null,
            "margin": null,
            "display": null,
            "left": null
          }
        },
        "15a83fbdae604433bfabc4dca2fda229": {
          "model_module": "@jupyter-widgets/controls",
          "model_name": "ProgressStyleModel",
          "model_module_version": "1.5.0",
          "state": {
            "_view_name": "StyleView",
            "_model_name": "ProgressStyleModel",
            "description_width": "",
            "_view_module": "@jupyter-widgets/base",
            "_model_module_version": "1.5.0",
            "_view_count": null,
            "_view_module_version": "1.2.0",
            "bar_color": null,
            "_model_module": "@jupyter-widgets/controls"
          }
        },
        "85a37bbaa92e425cbd2de6e97c413326": {
          "model_module": "@jupyter-widgets/base",
          "model_name": "LayoutModel",
          "model_module_version": "1.2.0",
          "state": {
            "_view_name": "LayoutView",
            "grid_template_rows": null,
            "right": null,
            "justify_content": null,
            "_view_module": "@jupyter-widgets/base",
            "overflow": null,
            "_model_module_version": "1.2.0",
            "_view_count": null,
            "flex_flow": null,
            "width": null,
            "min_width": null,
            "border": null,
            "align_items": null,
            "bottom": null,
            "_model_module": "@jupyter-widgets/base",
            "top": null,
            "grid_column": null,
            "overflow_y": null,
            "overflow_x": null,
            "grid_auto_flow": null,
            "grid_area": null,
            "grid_template_columns": null,
            "flex": null,
            "_model_name": "LayoutModel",
            "justify_items": null,
            "grid_row": null,
            "max_height": null,
            "align_content": null,
            "visibility": null,
            "align_self": null,
            "height": null,
            "min_height": null,
            "padding": null,
            "grid_auto_rows": null,
            "grid_gap": null,
            "max_width": null,
            "order": null,
            "_view_module_version": "1.2.0",
            "grid_template_areas": null,
            "object_position": null,
            "object_fit": null,
            "grid_auto_columns": null,
            "margin": null,
            "display": null,
            "left": null
          }
        },
        "551838f1e3c942e6be7d5bc5dbe57818": {
          "model_module": "@jupyter-widgets/controls",
          "model_name": "DescriptionStyleModel",
          "model_module_version": "1.5.0",
          "state": {
            "_view_name": "StyleView",
            "_model_name": "DescriptionStyleModel",
            "description_width": "",
            "_view_module": "@jupyter-widgets/base",
            "_model_module_version": "1.5.0",
            "_view_count": null,
            "_view_module_version": "1.2.0",
            "_model_module": "@jupyter-widgets/controls"
          }
        },
        "81933d862c9941ae821d29270447262a": {
          "model_module": "@jupyter-widgets/base",
          "model_name": "LayoutModel",
          "model_module_version": "1.2.0",
          "state": {
            "_view_name": "LayoutView",
            "grid_template_rows": null,
            "right": null,
            "justify_content": null,
            "_view_module": "@jupyter-widgets/base",
            "overflow": null,
            "_model_module_version": "1.2.0",
            "_view_count": null,
            "flex_flow": null,
            "width": null,
            "min_width": null,
            "border": null,
            "align_items": null,
            "bottom": null,
            "_model_module": "@jupyter-widgets/base",
            "top": null,
            "grid_column": null,
            "overflow_y": null,
            "overflow_x": null,
            "grid_auto_flow": null,
            "grid_area": null,
            "grid_template_columns": null,
            "flex": null,
            "_model_name": "LayoutModel",
            "justify_items": null,
            "grid_row": null,
            "max_height": null,
            "align_content": null,
            "visibility": null,
            "align_self": null,
            "height": null,
            "min_height": null,
            "padding": null,
            "grid_auto_rows": null,
            "grid_gap": null,
            "max_width": null,
            "order": null,
            "_view_module_version": "1.2.0",
            "grid_template_areas": null,
            "object_position": null,
            "object_fit": null,
            "grid_auto_columns": null,
            "margin": null,
            "display": null,
            "left": null
          }
        },
        "d5a6dd207ea442b281546a0f12ac56b0": {
          "model_module": "@jupyter-widgets/controls",
          "model_name": "HBoxModel",
          "model_module_version": "1.5.0",
          "state": {
            "_view_name": "HBoxView",
            "_dom_classes": [],
            "_model_name": "HBoxModel",
            "_view_module": "@jupyter-widgets/controls",
            "_model_module_version": "1.5.0",
            "_view_count": null,
            "_view_module_version": "1.5.0",
            "box_style": "",
            "layout": "IPY_MODEL_86417827887d454fa928e60f90d4d0a8",
            "_model_module": "@jupyter-widgets/controls",
            "children": [
              "IPY_MODEL_2b0056d1a4a948d0a8518dd7ba5a8f3e",
              "IPY_MODEL_d2d31315536a461fb2e03a5270c53ea0",
              "IPY_MODEL_8ffe668c141a41799b45d776c1521d3a"
            ]
          }
        },
        "86417827887d454fa928e60f90d4d0a8": {
          "model_module": "@jupyter-widgets/base",
          "model_name": "LayoutModel",
          "model_module_version": "1.2.0",
          "state": {
            "_view_name": "LayoutView",
            "grid_template_rows": null,
            "right": null,
            "justify_content": null,
            "_view_module": "@jupyter-widgets/base",
            "overflow": null,
            "_model_module_version": "1.2.0",
            "_view_count": null,
            "flex_flow": null,
            "width": null,
            "min_width": null,
            "border": null,
            "align_items": null,
            "bottom": null,
            "_model_module": "@jupyter-widgets/base",
            "top": null,
            "grid_column": null,
            "overflow_y": null,
            "overflow_x": null,
            "grid_auto_flow": null,
            "grid_area": null,
            "grid_template_columns": null,
            "flex": null,
            "_model_name": "LayoutModel",
            "justify_items": null,
            "grid_row": null,
            "max_height": null,
            "align_content": null,
            "visibility": null,
            "align_self": null,
            "height": null,
            "min_height": null,
            "padding": null,
            "grid_auto_rows": null,
            "grid_gap": null,
            "max_width": null,
            "order": null,
            "_view_module_version": "1.2.0",
            "grid_template_areas": null,
            "object_position": null,
            "object_fit": null,
            "grid_auto_columns": null,
            "margin": null,
            "display": null,
            "left": null
          }
        },
        "2b0056d1a4a948d0a8518dd7ba5a8f3e": {
          "model_module": "@jupyter-widgets/controls",
          "model_name": "HTMLModel",
          "model_module_version": "1.5.0",
          "state": {
            "_view_name": "HTMLView",
            "style": "IPY_MODEL_989ceaad8e904cb4bf87cf7e9e3e3271",
            "_dom_classes": [],
            "description": "",
            "_model_name": "HTMLModel",
            "placeholder": "​",
            "_view_module": "@jupyter-widgets/controls",
            "_model_module_version": "1.5.0",
            "value": "Downloading: 100%",
            "_view_count": null,
            "_view_module_version": "1.5.0",
            "description_tooltip": null,
            "_model_module": "@jupyter-widgets/controls",
            "layout": "IPY_MODEL_b2f5a984a7184e50b397a35aae34055b"
          }
        },
        "d2d31315536a461fb2e03a5270c53ea0": {
          "model_module": "@jupyter-widgets/controls",
          "model_name": "FloatProgressModel",
          "model_module_version": "1.5.0",
          "state": {
            "_view_name": "ProgressView",
            "style": "IPY_MODEL_190d4ea9e5a14e98b885d9cd7e85dc83",
            "_dom_classes": [],
            "description": "",
            "_model_name": "FloatProgressModel",
            "bar_style": "success",
            "max": 231508,
            "_view_module": "@jupyter-widgets/controls",
            "_model_module_version": "1.5.0",
            "value": 231508,
            "_view_count": null,
            "_view_module_version": "1.5.0",
            "orientation": "horizontal",
            "min": 0,
            "description_tooltip": null,
            "_model_module": "@jupyter-widgets/controls",
            "layout": "IPY_MODEL_28f9b183eddd4c0d9872ebcbc2f68511"
          }
        },
        "8ffe668c141a41799b45d776c1521d3a": {
          "model_module": "@jupyter-widgets/controls",
          "model_name": "HTMLModel",
          "model_module_version": "1.5.0",
          "state": {
            "_view_name": "HTMLView",
            "style": "IPY_MODEL_9f9b9b0d1d7242b0afce58b66872a30f",
            "_dom_classes": [],
            "description": "",
            "_model_name": "HTMLModel",
            "placeholder": "​",
            "_view_module": "@jupyter-widgets/controls",
            "_model_module_version": "1.5.0",
            "value": " 232k/232k [00:00&lt;00:00, 1.06MB/s]",
            "_view_count": null,
            "_view_module_version": "1.5.0",
            "description_tooltip": null,
            "_model_module": "@jupyter-widgets/controls",
            "layout": "IPY_MODEL_1fc19537a82a4b5dbabfb1c0cc1d6ce2"
          }
        },
        "989ceaad8e904cb4bf87cf7e9e3e3271": {
          "model_module": "@jupyter-widgets/controls",
          "model_name": "DescriptionStyleModel",
          "model_module_version": "1.5.0",
          "state": {
            "_view_name": "StyleView",
            "_model_name": "DescriptionStyleModel",
            "description_width": "",
            "_view_module": "@jupyter-widgets/base",
            "_model_module_version": "1.5.0",
            "_view_count": null,
            "_view_module_version": "1.2.0",
            "_model_module": "@jupyter-widgets/controls"
          }
        },
        "b2f5a984a7184e50b397a35aae34055b": {
          "model_module": "@jupyter-widgets/base",
          "model_name": "LayoutModel",
          "model_module_version": "1.2.0",
          "state": {
            "_view_name": "LayoutView",
            "grid_template_rows": null,
            "right": null,
            "justify_content": null,
            "_view_module": "@jupyter-widgets/base",
            "overflow": null,
            "_model_module_version": "1.2.0",
            "_view_count": null,
            "flex_flow": null,
            "width": null,
            "min_width": null,
            "border": null,
            "align_items": null,
            "bottom": null,
            "_model_module": "@jupyter-widgets/base",
            "top": null,
            "grid_column": null,
            "overflow_y": null,
            "overflow_x": null,
            "grid_auto_flow": null,
            "grid_area": null,
            "grid_template_columns": null,
            "flex": null,
            "_model_name": "LayoutModel",
            "justify_items": null,
            "grid_row": null,
            "max_height": null,
            "align_content": null,
            "visibility": null,
            "align_self": null,
            "height": null,
            "min_height": null,
            "padding": null,
            "grid_auto_rows": null,
            "grid_gap": null,
            "max_width": null,
            "order": null,
            "_view_module_version": "1.2.0",
            "grid_template_areas": null,
            "object_position": null,
            "object_fit": null,
            "grid_auto_columns": null,
            "margin": null,
            "display": null,
            "left": null
          }
        },
        "190d4ea9e5a14e98b885d9cd7e85dc83": {
          "model_module": "@jupyter-widgets/controls",
          "model_name": "ProgressStyleModel",
          "model_module_version": "1.5.0",
          "state": {
            "_view_name": "StyleView",
            "_model_name": "ProgressStyleModel",
            "description_width": "",
            "_view_module": "@jupyter-widgets/base",
            "_model_module_version": "1.5.0",
            "_view_count": null,
            "_view_module_version": "1.2.0",
            "bar_color": null,
            "_model_module": "@jupyter-widgets/controls"
          }
        },
        "28f9b183eddd4c0d9872ebcbc2f68511": {
          "model_module": "@jupyter-widgets/base",
          "model_name": "LayoutModel",
          "model_module_version": "1.2.0",
          "state": {
            "_view_name": "LayoutView",
            "grid_template_rows": null,
            "right": null,
            "justify_content": null,
            "_view_module": "@jupyter-widgets/base",
            "overflow": null,
            "_model_module_version": "1.2.0",
            "_view_count": null,
            "flex_flow": null,
            "width": null,
            "min_width": null,
            "border": null,
            "align_items": null,
            "bottom": null,
            "_model_module": "@jupyter-widgets/base",
            "top": null,
            "grid_column": null,
            "overflow_y": null,
            "overflow_x": null,
            "grid_auto_flow": null,
            "grid_area": null,
            "grid_template_columns": null,
            "flex": null,
            "_model_name": "LayoutModel",
            "justify_items": null,
            "grid_row": null,
            "max_height": null,
            "align_content": null,
            "visibility": null,
            "align_self": null,
            "height": null,
            "min_height": null,
            "padding": null,
            "grid_auto_rows": null,
            "grid_gap": null,
            "max_width": null,
            "order": null,
            "_view_module_version": "1.2.0",
            "grid_template_areas": null,
            "object_position": null,
            "object_fit": null,
            "grid_auto_columns": null,
            "margin": null,
            "display": null,
            "left": null
          }
        },
        "9f9b9b0d1d7242b0afce58b66872a30f": {
          "model_module": "@jupyter-widgets/controls",
          "model_name": "DescriptionStyleModel",
          "model_module_version": "1.5.0",
          "state": {
            "_view_name": "StyleView",
            "_model_name": "DescriptionStyleModel",
            "description_width": "",
            "_view_module": "@jupyter-widgets/base",
            "_model_module_version": "1.5.0",
            "_view_count": null,
            "_view_module_version": "1.2.0",
            "_model_module": "@jupyter-widgets/controls"
          }
        },
        "1fc19537a82a4b5dbabfb1c0cc1d6ce2": {
          "model_module": "@jupyter-widgets/base",
          "model_name": "LayoutModel",
          "model_module_version": "1.2.0",
          "state": {
            "_view_name": "LayoutView",
            "grid_template_rows": null,
            "right": null,
            "justify_content": null,
            "_view_module": "@jupyter-widgets/base",
            "overflow": null,
            "_model_module_version": "1.2.0",
            "_view_count": null,
            "flex_flow": null,
            "width": null,
            "min_width": null,
            "border": null,
            "align_items": null,
            "bottom": null,
            "_model_module": "@jupyter-widgets/base",
            "top": null,
            "grid_column": null,
            "overflow_y": null,
            "overflow_x": null,
            "grid_auto_flow": null,
            "grid_area": null,
            "grid_template_columns": null,
            "flex": null,
            "_model_name": "LayoutModel",
            "justify_items": null,
            "grid_row": null,
            "max_height": null,
            "align_content": null,
            "visibility": null,
            "align_self": null,
            "height": null,
            "min_height": null,
            "padding": null,
            "grid_auto_rows": null,
            "grid_gap": null,
            "max_width": null,
            "order": null,
            "_view_module_version": "1.2.0",
            "grid_template_areas": null,
            "object_position": null,
            "object_fit": null,
            "grid_auto_columns": null,
            "margin": null,
            "display": null,
            "left": null
          }
        },
        "6fe57dff64b7443c85ae55238d6d35e7": {
          "model_module": "@jupyter-widgets/controls",
          "model_name": "HBoxModel",
          "model_module_version": "1.5.0",
          "state": {
            "_view_name": "HBoxView",
            "_dom_classes": [],
            "_model_name": "HBoxModel",
            "_view_module": "@jupyter-widgets/controls",
            "_model_module_version": "1.5.0",
            "_view_count": null,
            "_view_module_version": "1.5.0",
            "box_style": "",
            "layout": "IPY_MODEL_bb09cd06247f4451a092dc31cce91ba1",
            "_model_module": "@jupyter-widgets/controls",
            "children": [
              "IPY_MODEL_0fbf44a517604ce4b77e5086e05994c9",
              "IPY_MODEL_b8d483e389e1412398f0446158742442",
              "IPY_MODEL_f79ad49a5ec649f1861d8a8ce9a17cb2"
            ]
          }
        },
        "bb09cd06247f4451a092dc31cce91ba1": {
          "model_module": "@jupyter-widgets/base",
          "model_name": "LayoutModel",
          "model_module_version": "1.2.0",
          "state": {
            "_view_name": "LayoutView",
            "grid_template_rows": null,
            "right": null,
            "justify_content": null,
            "_view_module": "@jupyter-widgets/base",
            "overflow": null,
            "_model_module_version": "1.2.0",
            "_view_count": null,
            "flex_flow": null,
            "width": null,
            "min_width": null,
            "border": null,
            "align_items": null,
            "bottom": null,
            "_model_module": "@jupyter-widgets/base",
            "top": null,
            "grid_column": null,
            "overflow_y": null,
            "overflow_x": null,
            "grid_auto_flow": null,
            "grid_area": null,
            "grid_template_columns": null,
            "flex": null,
            "_model_name": "LayoutModel",
            "justify_items": null,
            "grid_row": null,
            "max_height": null,
            "align_content": null,
            "visibility": null,
            "align_self": null,
            "height": null,
            "min_height": null,
            "padding": null,
            "grid_auto_rows": null,
            "grid_gap": null,
            "max_width": null,
            "order": null,
            "_view_module_version": "1.2.0",
            "grid_template_areas": null,
            "object_position": null,
            "object_fit": null,
            "grid_auto_columns": null,
            "margin": null,
            "display": null,
            "left": null
          }
        },
        "0fbf44a517604ce4b77e5086e05994c9": {
          "model_module": "@jupyter-widgets/controls",
          "model_name": "HTMLModel",
          "model_module_version": "1.5.0",
          "state": {
            "_view_name": "HTMLView",
            "style": "IPY_MODEL_bd0cb01e139b49e597e7b4ff8965d2ca",
            "_dom_classes": [],
            "description": "",
            "_model_name": "HTMLModel",
            "placeholder": "​",
            "_view_module": "@jupyter-widgets/controls",
            "_model_module_version": "1.5.0",
            "value": "Downloading: 100%",
            "_view_count": null,
            "_view_module_version": "1.5.0",
            "description_tooltip": null,
            "_model_module": "@jupyter-widgets/controls",
            "layout": "IPY_MODEL_4c9be81ea9a24d59874d2cca71eea01d"
          }
        },
        "b8d483e389e1412398f0446158742442": {
          "model_module": "@jupyter-widgets/controls",
          "model_name": "FloatProgressModel",
          "model_module_version": "1.5.0",
          "state": {
            "_view_name": "ProgressView",
            "style": "IPY_MODEL_fc2f2f4cdf694baea419c789b328eaa6",
            "_dom_classes": [],
            "description": "",
            "_model_name": "FloatProgressModel",
            "bar_style": "success",
            "max": 466062,
            "_view_module": "@jupyter-widgets/controls",
            "_model_module_version": "1.5.0",
            "value": 466062,
            "_view_count": null,
            "_view_module_version": "1.5.0",
            "orientation": "horizontal",
            "min": 0,
            "description_tooltip": null,
            "_model_module": "@jupyter-widgets/controls",
            "layout": "IPY_MODEL_3b3a83e7ebbb45839ea6d8ecbc699443"
          }
        },
        "f79ad49a5ec649f1861d8a8ce9a17cb2": {
          "model_module": "@jupyter-widgets/controls",
          "model_name": "HTMLModel",
          "model_module_version": "1.5.0",
          "state": {
            "_view_name": "HTMLView",
            "style": "IPY_MODEL_be2d5d890b1f4770a9903d5a6381b6eb",
            "_dom_classes": [],
            "description": "",
            "_model_name": "HTMLModel",
            "placeholder": "​",
            "_view_module": "@jupyter-widgets/controls",
            "_model_module_version": "1.5.0",
            "value": " 466k/466k [00:00&lt;00:00, 1.20MB/s]",
            "_view_count": null,
            "_view_module_version": "1.5.0",
            "description_tooltip": null,
            "_model_module": "@jupyter-widgets/controls",
            "layout": "IPY_MODEL_9331983d10834ab4a2b96e8189b3b941"
          }
        },
        "bd0cb01e139b49e597e7b4ff8965d2ca": {
          "model_module": "@jupyter-widgets/controls",
          "model_name": "DescriptionStyleModel",
          "model_module_version": "1.5.0",
          "state": {
            "_view_name": "StyleView",
            "_model_name": "DescriptionStyleModel",
            "description_width": "",
            "_view_module": "@jupyter-widgets/base",
            "_model_module_version": "1.5.0",
            "_view_count": null,
            "_view_module_version": "1.2.0",
            "_model_module": "@jupyter-widgets/controls"
          }
        },
        "4c9be81ea9a24d59874d2cca71eea01d": {
          "model_module": "@jupyter-widgets/base",
          "model_name": "LayoutModel",
          "model_module_version": "1.2.0",
          "state": {
            "_view_name": "LayoutView",
            "grid_template_rows": null,
            "right": null,
            "justify_content": null,
            "_view_module": "@jupyter-widgets/base",
            "overflow": null,
            "_model_module_version": "1.2.0",
            "_view_count": null,
            "flex_flow": null,
            "width": null,
            "min_width": null,
            "border": null,
            "align_items": null,
            "bottom": null,
            "_model_module": "@jupyter-widgets/base",
            "top": null,
            "grid_column": null,
            "overflow_y": null,
            "overflow_x": null,
            "grid_auto_flow": null,
            "grid_area": null,
            "grid_template_columns": null,
            "flex": null,
            "_model_name": "LayoutModel",
            "justify_items": null,
            "grid_row": null,
            "max_height": null,
            "align_content": null,
            "visibility": null,
            "align_self": null,
            "height": null,
            "min_height": null,
            "padding": null,
            "grid_auto_rows": null,
            "grid_gap": null,
            "max_width": null,
            "order": null,
            "_view_module_version": "1.2.0",
            "grid_template_areas": null,
            "object_position": null,
            "object_fit": null,
            "grid_auto_columns": null,
            "margin": null,
            "display": null,
            "left": null
          }
        },
        "fc2f2f4cdf694baea419c789b328eaa6": {
          "model_module": "@jupyter-widgets/controls",
          "model_name": "ProgressStyleModel",
          "model_module_version": "1.5.0",
          "state": {
            "_view_name": "StyleView",
            "_model_name": "ProgressStyleModel",
            "description_width": "",
            "_view_module": "@jupyter-widgets/base",
            "_model_module_version": "1.5.0",
            "_view_count": null,
            "_view_module_version": "1.2.0",
            "bar_color": null,
            "_model_module": "@jupyter-widgets/controls"
          }
        },
        "3b3a83e7ebbb45839ea6d8ecbc699443": {
          "model_module": "@jupyter-widgets/base",
          "model_name": "LayoutModel",
          "model_module_version": "1.2.0",
          "state": {
            "_view_name": "LayoutView",
            "grid_template_rows": null,
            "right": null,
            "justify_content": null,
            "_view_module": "@jupyter-widgets/base",
            "overflow": null,
            "_model_module_version": "1.2.0",
            "_view_count": null,
            "flex_flow": null,
            "width": null,
            "min_width": null,
            "border": null,
            "align_items": null,
            "bottom": null,
            "_model_module": "@jupyter-widgets/base",
            "top": null,
            "grid_column": null,
            "overflow_y": null,
            "overflow_x": null,
            "grid_auto_flow": null,
            "grid_area": null,
            "grid_template_columns": null,
            "flex": null,
            "_model_name": "LayoutModel",
            "justify_items": null,
            "grid_row": null,
            "max_height": null,
            "align_content": null,
            "visibility": null,
            "align_self": null,
            "height": null,
            "min_height": null,
            "padding": null,
            "grid_auto_rows": null,
            "grid_gap": null,
            "max_width": null,
            "order": null,
            "_view_module_version": "1.2.0",
            "grid_template_areas": null,
            "object_position": null,
            "object_fit": null,
            "grid_auto_columns": null,
            "margin": null,
            "display": null,
            "left": null
          }
        },
        "be2d5d890b1f4770a9903d5a6381b6eb": {
          "model_module": "@jupyter-widgets/controls",
          "model_name": "DescriptionStyleModel",
          "model_module_version": "1.5.0",
          "state": {
            "_view_name": "StyleView",
            "_model_name": "DescriptionStyleModel",
            "description_width": "",
            "_view_module": "@jupyter-widgets/base",
            "_model_module_version": "1.5.0",
            "_view_count": null,
            "_view_module_version": "1.2.0",
            "_model_module": "@jupyter-widgets/controls"
          }
        },
        "9331983d10834ab4a2b96e8189b3b941": {
          "model_module": "@jupyter-widgets/base",
          "model_name": "LayoutModel",
          "model_module_version": "1.2.0",
          "state": {
            "_view_name": "LayoutView",
            "grid_template_rows": null,
            "right": null,
            "justify_content": null,
            "_view_module": "@jupyter-widgets/base",
            "overflow": null,
            "_model_module_version": "1.2.0",
            "_view_count": null,
            "flex_flow": null,
            "width": null,
            "min_width": null,
            "border": null,
            "align_items": null,
            "bottom": null,
            "_model_module": "@jupyter-widgets/base",
            "top": null,
            "grid_column": null,
            "overflow_y": null,
            "overflow_x": null,
            "grid_auto_flow": null,
            "grid_area": null,
            "grid_template_columns": null,
            "flex": null,
            "_model_name": "LayoutModel",
            "justify_items": null,
            "grid_row": null,
            "max_height": null,
            "align_content": null,
            "visibility": null,
            "align_self": null,
            "height": null,
            "min_height": null,
            "padding": null,
            "grid_auto_rows": null,
            "grid_gap": null,
            "max_width": null,
            "order": null,
            "_view_module_version": "1.2.0",
            "grid_template_areas": null,
            "object_position": null,
            "object_fit": null,
            "grid_auto_columns": null,
            "margin": null,
            "display": null,
            "left": null
          }
        },
        "e71f644f58d84a9a8cfed9b5fb39442b": {
          "model_module": "@jupyter-widgets/controls",
          "model_name": "HBoxModel",
          "model_module_version": "1.5.0",
          "state": {
            "_view_name": "HBoxView",
            "_dom_classes": [],
            "_model_name": "HBoxModel",
            "_view_module": "@jupyter-widgets/controls",
            "_model_module_version": "1.5.0",
            "_view_count": null,
            "_view_module_version": "1.5.0",
            "box_style": "",
            "layout": "IPY_MODEL_b4f5230c7837446ba7763b7ddfbfb13c",
            "_model_module": "@jupyter-widgets/controls",
            "children": [
              "IPY_MODEL_2f5d614f727545a6ac51dbc80b476665",
              "IPY_MODEL_e368a52ac81446e68081eaa2dd8893e5",
              "IPY_MODEL_a0d33240e0ef4be58e6c5947e6952be4"
            ]
          }
        },
        "b4f5230c7837446ba7763b7ddfbfb13c": {
          "model_module": "@jupyter-widgets/base",
          "model_name": "LayoutModel",
          "model_module_version": "1.2.0",
          "state": {
            "_view_name": "LayoutView",
            "grid_template_rows": null,
            "right": null,
            "justify_content": null,
            "_view_module": "@jupyter-widgets/base",
            "overflow": null,
            "_model_module_version": "1.2.0",
            "_view_count": null,
            "flex_flow": null,
            "width": null,
            "min_width": null,
            "border": null,
            "align_items": null,
            "bottom": null,
            "_model_module": "@jupyter-widgets/base",
            "top": null,
            "grid_column": null,
            "overflow_y": null,
            "overflow_x": null,
            "grid_auto_flow": null,
            "grid_area": null,
            "grid_template_columns": null,
            "flex": null,
            "_model_name": "LayoutModel",
            "justify_items": null,
            "grid_row": null,
            "max_height": null,
            "align_content": null,
            "visibility": null,
            "align_self": null,
            "height": null,
            "min_height": null,
            "padding": null,
            "grid_auto_rows": null,
            "grid_gap": null,
            "max_width": null,
            "order": null,
            "_view_module_version": "1.2.0",
            "grid_template_areas": null,
            "object_position": null,
            "object_fit": null,
            "grid_auto_columns": null,
            "margin": null,
            "display": null,
            "left": null
          }
        },
        "2f5d614f727545a6ac51dbc80b476665": {
          "model_module": "@jupyter-widgets/controls",
          "model_name": "HTMLModel",
          "model_module_version": "1.5.0",
          "state": {
            "_view_name": "HTMLView",
            "style": "IPY_MODEL_fc4b976642a84312975a970c55e7cf36",
            "_dom_classes": [],
            "description": "",
            "_model_name": "HTMLModel",
            "placeholder": "​",
            "_view_module": "@jupyter-widgets/controls",
            "_model_module_version": "1.5.0",
            "value": "Downloading: 100%",
            "_view_count": null,
            "_view_module_version": "1.5.0",
            "description_tooltip": null,
            "_model_module": "@jupyter-widgets/controls",
            "layout": "IPY_MODEL_019d2585c873444b81c33ff9366b2229"
          }
        },
        "e368a52ac81446e68081eaa2dd8893e5": {
          "model_module": "@jupyter-widgets/controls",
          "model_name": "FloatProgressModel",
          "model_module_version": "1.5.0",
          "state": {
            "_view_name": "ProgressView",
            "style": "IPY_MODEL_70114102e9a04cf6861241736ca94bda",
            "_dom_classes": [],
            "description": "",
            "_model_name": "FloatProgressModel",
            "bar_style": "success",
            "max": 440473133,
            "_view_module": "@jupyter-widgets/controls",
            "_model_module_version": "1.5.0",
            "value": 440473133,
            "_view_count": null,
            "_view_module_version": "1.5.0",
            "orientation": "horizontal",
            "min": 0,
            "description_tooltip": null,
            "_model_module": "@jupyter-widgets/controls",
            "layout": "IPY_MODEL_6f341e22fbd64160a7aa6a70f89d841d"
          }
        },
        "a0d33240e0ef4be58e6c5947e6952be4": {
          "model_module": "@jupyter-widgets/controls",
          "model_name": "HTMLModel",
          "model_module_version": "1.5.0",
          "state": {
            "_view_name": "HTMLView",
            "style": "IPY_MODEL_82cb796374954867b6554ce163508d81",
            "_dom_classes": [],
            "description": "",
            "_model_name": "HTMLModel",
            "placeholder": "​",
            "_view_module": "@jupyter-widgets/controls",
            "_model_module_version": "1.5.0",
            "value": " 440M/440M [00:15&lt;00:00, 27.0MB/s]",
            "_view_count": null,
            "_view_module_version": "1.5.0",
            "description_tooltip": null,
            "_model_module": "@jupyter-widgets/controls",
            "layout": "IPY_MODEL_49d39e8f1c614472af8ea068770d0567"
          }
        },
        "fc4b976642a84312975a970c55e7cf36": {
          "model_module": "@jupyter-widgets/controls",
          "model_name": "DescriptionStyleModel",
          "model_module_version": "1.5.0",
          "state": {
            "_view_name": "StyleView",
            "_model_name": "DescriptionStyleModel",
            "description_width": "",
            "_view_module": "@jupyter-widgets/base",
            "_model_module_version": "1.5.0",
            "_view_count": null,
            "_view_module_version": "1.2.0",
            "_model_module": "@jupyter-widgets/controls"
          }
        },
        "019d2585c873444b81c33ff9366b2229": {
          "model_module": "@jupyter-widgets/base",
          "model_name": "LayoutModel",
          "model_module_version": "1.2.0",
          "state": {
            "_view_name": "LayoutView",
            "grid_template_rows": null,
            "right": null,
            "justify_content": null,
            "_view_module": "@jupyter-widgets/base",
            "overflow": null,
            "_model_module_version": "1.2.0",
            "_view_count": null,
            "flex_flow": null,
            "width": null,
            "min_width": null,
            "border": null,
            "align_items": null,
            "bottom": null,
            "_model_module": "@jupyter-widgets/base",
            "top": null,
            "grid_column": null,
            "overflow_y": null,
            "overflow_x": null,
            "grid_auto_flow": null,
            "grid_area": null,
            "grid_template_columns": null,
            "flex": null,
            "_model_name": "LayoutModel",
            "justify_items": null,
            "grid_row": null,
            "max_height": null,
            "align_content": null,
            "visibility": null,
            "align_self": null,
            "height": null,
            "min_height": null,
            "padding": null,
            "grid_auto_rows": null,
            "grid_gap": null,
            "max_width": null,
            "order": null,
            "_view_module_version": "1.2.0",
            "grid_template_areas": null,
            "object_position": null,
            "object_fit": null,
            "grid_auto_columns": null,
            "margin": null,
            "display": null,
            "left": null
          }
        },
        "70114102e9a04cf6861241736ca94bda": {
          "model_module": "@jupyter-widgets/controls",
          "model_name": "ProgressStyleModel",
          "model_module_version": "1.5.0",
          "state": {
            "_view_name": "StyleView",
            "_model_name": "ProgressStyleModel",
            "description_width": "",
            "_view_module": "@jupyter-widgets/base",
            "_model_module_version": "1.5.0",
            "_view_count": null,
            "_view_module_version": "1.2.0",
            "bar_color": null,
            "_model_module": "@jupyter-widgets/controls"
          }
        },
        "6f341e22fbd64160a7aa6a70f89d841d": {
          "model_module": "@jupyter-widgets/base",
          "model_name": "LayoutModel",
          "model_module_version": "1.2.0",
          "state": {
            "_view_name": "LayoutView",
            "grid_template_rows": null,
            "right": null,
            "justify_content": null,
            "_view_module": "@jupyter-widgets/base",
            "overflow": null,
            "_model_module_version": "1.2.0",
            "_view_count": null,
            "flex_flow": null,
            "width": null,
            "min_width": null,
            "border": null,
            "align_items": null,
            "bottom": null,
            "_model_module": "@jupyter-widgets/base",
            "top": null,
            "grid_column": null,
            "overflow_y": null,
            "overflow_x": null,
            "grid_auto_flow": null,
            "grid_area": null,
            "grid_template_columns": null,
            "flex": null,
            "_model_name": "LayoutModel",
            "justify_items": null,
            "grid_row": null,
            "max_height": null,
            "align_content": null,
            "visibility": null,
            "align_self": null,
            "height": null,
            "min_height": null,
            "padding": null,
            "grid_auto_rows": null,
            "grid_gap": null,
            "max_width": null,
            "order": null,
            "_view_module_version": "1.2.0",
            "grid_template_areas": null,
            "object_position": null,
            "object_fit": null,
            "grid_auto_columns": null,
            "margin": null,
            "display": null,
            "left": null
          }
        },
        "82cb796374954867b6554ce163508d81": {
          "model_module": "@jupyter-widgets/controls",
          "model_name": "DescriptionStyleModel",
          "model_module_version": "1.5.0",
          "state": {
            "_view_name": "StyleView",
            "_model_name": "DescriptionStyleModel",
            "description_width": "",
            "_view_module": "@jupyter-widgets/base",
            "_model_module_version": "1.5.0",
            "_view_count": null,
            "_view_module_version": "1.2.0",
            "_model_module": "@jupyter-widgets/controls"
          }
        },
        "49d39e8f1c614472af8ea068770d0567": {
          "model_module": "@jupyter-widgets/base",
          "model_name": "LayoutModel",
          "model_module_version": "1.2.0",
          "state": {
            "_view_name": "LayoutView",
            "grid_template_rows": null,
            "right": null,
            "justify_content": null,
            "_view_module": "@jupyter-widgets/base",
            "overflow": null,
            "_model_module_version": "1.2.0",
            "_view_count": null,
            "flex_flow": null,
            "width": null,
            "min_width": null,
            "border": null,
            "align_items": null,
            "bottom": null,
            "_model_module": "@jupyter-widgets/base",
            "top": null,
            "grid_column": null,
            "overflow_y": null,
            "overflow_x": null,
            "grid_auto_flow": null,
            "grid_area": null,
            "grid_template_columns": null,
            "flex": null,
            "_model_name": "LayoutModel",
            "justify_items": null,
            "grid_row": null,
            "max_height": null,
            "align_content": null,
            "visibility": null,
            "align_self": null,
            "height": null,
            "min_height": null,
            "padding": null,
            "grid_auto_rows": null,
            "grid_gap": null,
            "max_width": null,
            "order": null,
            "_view_module_version": "1.2.0",
            "grid_template_areas": null,
            "object_position": null,
            "object_fit": null,
            "grid_auto_columns": null,
            "margin": null,
            "display": null,
            "left": null
          }
        }
      }
    }
  },
  "cells": [
    {
      "cell_type": "markdown",
      "metadata": {
        "id": "G76d-9NS6FOq"
      },
      "source": [
        "# Blurr Sequence Classification with categorical and numerical features using BERT."
      ]
    },
    {
      "cell_type": "markdown",
      "metadata": {
        "id": "U-1NaME62ScR"
      },
      "source": [
        "This notebook is a replication of the http://mccormickml.com/2021/06/29/combining-categorical-numerical-features-with-bert/ but use blurr to showcase how to combine bert with categorical & numerical featuers with text in BERT.\n",
        "\n",
        "Additional Resources\n",
        "- https://github.com/georgian-io/Multimodal-Toolkit\n",
        "- https://medium.com/georgian-impact-blog/how-to-incorporate-tabular-data-with-huggingface-transformers-b70ac45fcfb4\n",
        "\n",
        "Next Step\n",
        "- Following this notebook https://colab.research.google.com/drive/1YRHK4HO8RktGzlYmGjBo056kzVD4_j9o#scrollTo=m7rr8z8x3TiE 3.3 Training Paremeters \n",
        "\n",
        "TODO \n",
        "- Callback, why partial on the optimizer\n",
        "- Does freezing the final layer followed by unfreeze works in transformer context??. I recall nobody adopted gradual unfreezing not adopted in practice. \n",
        "\n",
        "**Checklist** (1. Make it work using high/mid/low 2. Baseline)\n",
        "- [ ] BERT on Review Text Only (Sample Data)\n",
        "  - [ ] High Level (Accuracy - 0.83)\n",
        "  - [x] Mid Level (Accuracy - 0.914)\n",
        "  - [ ] Low Level\n",
        "- [ ] BERT on All features (Sample Data) - Unimodal approach (taking the categorical and numerical features as they are and just tokenizing them and just concatenating them to the text columns as extra text sentences is a strong baseline as referenced in the [multimodal-toolkit](https://github.com/georgian-io/Multimodal-Toolkit)\n",
        "  - [ ] High Level\n",
        "  - [ ] Mid Level\n",
        "  - [ ] Low Level"
      ]
    },
    {
      "cell_type": "markdown",
      "metadata": {
        "id": "kgma0J9p2hLm"
      },
      "source": [
        "## Outline\n",
        "\n",
        "- Installation\n",
        "- Womens Clothing Review Dataset\n",
        "  - Download the womens clothing data\n",
        "  - Load the csv\n",
        "- BERT on Review Text Only\n",
        "  - Using MidLevel API\n",
        "- Create the blearner for Sequence Classification\n",
        "- Fit OneCycle\n",
        "- Evaluate "
      ]
    },
    {
      "cell_type": "code",
      "metadata": {
        "id": "57KpkHbR1-l6"
      },
      "source": [
        "%%capture\n",
        "%pip install nbdev -q --upgrade\n",
        "%pip install fastai -q --upgrade\n",
        "%pip install -q huggingface-hub>0.0.10\n",
        "%pip install ohmeow-blurr -q --upgrade"
      ],
      "execution_count": 1,
      "outputs": []
    },
    {
      "cell_type": "code",
      "metadata": {
        "id": "cHQMruUe4MwU"
      },
      "source": [
        "%pip install nbverbose -Uq"
      ],
      "execution_count": 2,
      "outputs": []
    },
    {
      "cell_type": "code",
      "metadata": {
        "id": "NvmIeclO3rJR"
      },
      "source": [
        "from datasets import load_dataset, concatenate_datasets"
      ],
      "execution_count": 3,
      "outputs": []
    },
    {
      "cell_type": "code",
      "metadata": {
        "id": "kUjsShEL2Lht"
      },
      "source": [
        "#export\n",
        "import os\n",
        "\n",
        "from datasets import load_dataset, concatenate_datasets\n",
        "from transformers import *\n",
        "from fastai.text.all import *\n",
        "\n",
        "from blurr.utils import *\n",
        "from blurr.data.core import *\n",
        "from blurr.modeling.core import *\n",
        "\n",
        "from blurr.data.language_modeling import BertMLMStrategy, CausalLMStrategy\n",
        "from blurr.modeling.language_modeling import *\n",
        "\n",
        "from blurr.modeling.token_classification import *\n",
        "from blurr.modeling.question_answering import *\n",
        "from blurr.modeling.seq2seq.summarization import *\n",
        "from blurr.modeling.seq2seq.translation import *\n",
        "\n",
        "logging.set_verbosity_error()"
      ],
      "execution_count": 4,
      "outputs": []
    },
    {
      "cell_type": "code",
      "metadata": {
        "id": "JYVAgKIs6YO1"
      },
      "source": [
        "import importlib\n",
        "from typing import List, Union\n",
        "def print_versions(\n",
        "    # A string of space delimited package names or a list of package names\n",
        "    packages:Union[str, List[str]]\n",
        "):\n",
        "    \"\"\" Prints the name and version of one or more packages in your environment\"\"\"\n",
        "    packages = packages.split(' ') if isinstance(packages, str) else packages\n",
        "\n",
        "    for item in packages:\n",
        "        item = item.strip()\n",
        "        # Provides the implementation of import statement and allows to import the defined packages to retrieve their versions.\n",
        "        print(f'{item}: {importlib.import_module(item).__version__}')"
      ],
      "execution_count": 5,
      "outputs": []
    },
    {
      "cell_type": "code",
      "metadata": {
        "colab": {
          "base_uri": "https://localhost:8080/"
        },
        "id": "nD6uYWgk38cn",
        "outputId": "9c9b221c-37e3-4735-eb93-77759c97c64a"
      },
      "source": [
        "#hide_input\n",
        "import pdb\n",
        "\n",
        "from fastcore.test import *\n",
        "from nbverbose.showdoc import show_doc\n",
        "\n",
        "os.environ[\"TOKENIZERS_PARALLELISM\"] = \"false\"\n",
        "print(\"Here's what we're running with ...\\n\")\n",
        "print_versions('torch fastai transformers')"
      ],
      "execution_count": 6,
      "outputs": [
        {
          "output_type": "stream",
          "name": "stdout",
          "text": [
            "Here's what we're running with ...\n",
            "\n",
            "torch: 1.9.0+cu102\n",
            "fastai: 2.5.2\n",
            "transformers: 4.10.3\n"
          ]
        }
      ]
    },
    {
      "cell_type": "code",
      "metadata": {
        "colab": {
          "base_uri": "https://localhost:8080/"
        },
        "id": "AuYebBap3gtn",
        "outputId": "0515e604-cbd1-4d6f-bea7-212716dfe08c"
      },
      "source": [
        "print(f'Using GPU #{torch.cuda.current_device()}: {torch.cuda.get_device_name()}')"
      ],
      "execution_count": 7,
      "outputs": [
        {
          "output_type": "stream",
          "name": "stdout",
          "text": [
            "Using GPU #0: Tesla K80\n"
          ]
        }
      ]
    },
    {
      "cell_type": "markdown",
      "metadata": {
        "id": "3hmb5tAG596d"
      },
      "source": [
        "## Clothing Review Dataset"
      ]
    },
    {
      "cell_type": "markdown",
      "metadata": {
        "id": "hVBPI1N17vD7"
      },
      "source": [
        "Based on the womens clothing reviews, we are trying to predict the sentiment behind the review (Recommended IND is the label where 1 indicates recommended & 0 indicates not recommended)."
      ]
    },
    {
      "cell_type": "markdown",
      "metadata": {
        "id": "Eid3Uz2Z6l7B"
      },
      "source": [
        "### Download the csv file"
      ]
    },
    {
      "cell_type": "markdown",
      "metadata": {
        "id": "GvVahTHd6zmN"
      },
      "source": [
        "This dataset was scraped from an (un-specified) e-commerce website by Nick Brooks and made available on Kaggle [here](https://www.kaggle.com/nicapotato/womens-ecommerce-clothing-reviews)."
      ]
    },
    {
      "cell_type": "code",
      "metadata": {
        "id": "Jb6YPEyK6Pir"
      },
      "source": [
        "import gdown"
      ],
      "execution_count": 8,
      "outputs": []
    },
    {
      "cell_type": "code",
      "metadata": {
        "colab": {
          "base_uri": "https://localhost:8080/",
          "height": 106
        },
        "id": "-NJjmNnZ6RFA",
        "outputId": "8f7c1376-1364-4b94-b504-96ec53f1bdb4"
      },
      "source": [
        "# Download the dataset from the drive.\n",
        "gdown.download('https://drive.google.com/uc?id=1ZYdt0zN4LjWqP3cQDblNhXjeohcryY5H', \n",
        "                'Womens Clothing E-Commerce Reviews.csv', \n",
        "                quiet=False)"
      ],
      "execution_count": 9,
      "outputs": [
        {
          "output_type": "stream",
          "name": "stderr",
          "text": [
            "Downloading...\n",
            "From: https://drive.google.com/uc?id=1ZYdt0zN4LjWqP3cQDblNhXjeohcryY5H\n",
            "To: /content/Womens Clothing E-Commerce Reviews.csv\n",
            "8.48MB [00:00, 44.4MB/s]\n"
          ]
        },
        {
          "output_type": "execute_result",
          "data": {
            "application/vnd.google.colaboratory.intrinsic+json": {
              "type": "string"
            },
            "text/plain": [
              "'Womens Clothing E-Commerce Reviews.csv'"
            ]
          },
          "metadata": {},
          "execution_count": 9
        }
      ]
    },
    {
      "cell_type": "code",
      "metadata": {
        "id": "V6b2ZkSi6aPM"
      },
      "source": [
        "test_eq(Path('/content/Womens Clothing E-Commerce Reviews.csv').exists(), True)"
      ],
      "execution_count": 10,
      "outputs": []
    },
    {
      "cell_type": "markdown",
      "metadata": {
        "id": "69VDFVkf6o-5"
      },
      "source": [
        "### Load the csv "
      ]
    },
    {
      "cell_type": "code",
      "metadata": {
        "id": "WZGcjrxw7d9O"
      },
      "source": [
        "FILENAME = '/content/Womens Clothing E-Commerce Reviews.csv'\n",
        "df = pd.read_csv(FILENAME, index_col=0)"
      ],
      "execution_count": 11,
      "outputs": []
    },
    {
      "cell_type": "code",
      "metadata": {
        "colab": {
          "base_uri": "https://localhost:8080/"
        },
        "id": "mUEdGFHu8oaT",
        "outputId": "b89cbdf6-0440-45ec-c377-bdc92c9b9b88"
      },
      "source": [
        "len(df)"
      ],
      "execution_count": 12,
      "outputs": [
        {
          "output_type": "execute_result",
          "data": {
            "text/plain": [
              "23486"
            ]
          },
          "metadata": {},
          "execution_count": 12
        }
      ]
    },
    {
      "cell_type": "code",
      "metadata": {
        "colab": {
          "base_uri": "https://localhost:8080/"
        },
        "id": "6MnEnX7l7Rbh",
        "outputId": "7d48cbc8-ba44-426b-a60d-6c213f6ea941"
      },
      "source": [
        "list(df.columns)"
      ],
      "execution_count": 13,
      "outputs": [
        {
          "output_type": "execute_result",
          "data": {
            "text/plain": [
              "['Clothing ID',\n",
              " 'Age',\n",
              " 'Title',\n",
              " 'Review Text',\n",
              " 'Rating',\n",
              " 'Recommended IND',\n",
              " 'Positive Feedback Count',\n",
              " 'Division Name',\n",
              " 'Department Name',\n",
              " 'Class Name']"
            ]
          },
          "metadata": {},
          "execution_count": 13
        }
      ]
    },
    {
      "cell_type": "code",
      "metadata": {
        "colab": {
          "base_uri": "https://localhost:8080/"
        },
        "id": "bNauYujv9Ibd",
        "outputId": "52abb940-ebed-4dc9-fa5e-aacadc95ec00"
      },
      "source": [
        "df.dtypes"
      ],
      "execution_count": 14,
      "outputs": [
        {
          "output_type": "execute_result",
          "data": {
            "text/plain": [
              "Clothing ID                 int64\n",
              "Age                         int64\n",
              "Title                      object\n",
              "Review Text                object\n",
              "Rating                      int64\n",
              "Recommended IND             int64\n",
              "Positive Feedback Count     int64\n",
              "Division Name              object\n",
              "Department Name            object\n",
              "Class Name                 object\n",
              "dtype: object"
            ]
          },
          "metadata": {},
          "execution_count": 14
        }
      ]
    },
    {
      "cell_type": "code",
      "metadata": {
        "colab": {
          "base_uri": "https://localhost:8080/",
          "height": 352
        },
        "id": "ICK6jFqh7GjK",
        "outputId": "46db915d-ba04-4e8a-9f3d-c9bba91edf15"
      },
      "source": [
        "df.head()"
      ],
      "execution_count": 15,
      "outputs": [
        {
          "output_type": "execute_result",
          "data": {
            "text/html": [
              "<div>\n",
              "<style scoped>\n",
              "    .dataframe tbody tr th:only-of-type {\n",
              "        vertical-align: middle;\n",
              "    }\n",
              "\n",
              "    .dataframe tbody tr th {\n",
              "        vertical-align: top;\n",
              "    }\n",
              "\n",
              "    .dataframe thead th {\n",
              "        text-align: right;\n",
              "    }\n",
              "</style>\n",
              "<table border=\"1\" class=\"dataframe\">\n",
              "  <thead>\n",
              "    <tr style=\"text-align: right;\">\n",
              "      <th></th>\n",
              "      <th>Clothing ID</th>\n",
              "      <th>Age</th>\n",
              "      <th>Title</th>\n",
              "      <th>Review Text</th>\n",
              "      <th>Rating</th>\n",
              "      <th>Recommended IND</th>\n",
              "      <th>Positive Feedback Count</th>\n",
              "      <th>Division Name</th>\n",
              "      <th>Department Name</th>\n",
              "      <th>Class Name</th>\n",
              "    </tr>\n",
              "  </thead>\n",
              "  <tbody>\n",
              "    <tr>\n",
              "      <th>0</th>\n",
              "      <td>767</td>\n",
              "      <td>33</td>\n",
              "      <td>NaN</td>\n",
              "      <td>Absolutely wonderful - silky and sexy and comfortable</td>\n",
              "      <td>4</td>\n",
              "      <td>1</td>\n",
              "      <td>0</td>\n",
              "      <td>Initmates</td>\n",
              "      <td>Intimate</td>\n",
              "      <td>Intimates</td>\n",
              "    </tr>\n",
              "    <tr>\n",
              "      <th>1</th>\n",
              "      <td>1080</td>\n",
              "      <td>34</td>\n",
              "      <td>NaN</td>\n",
              "      <td>Love this dress!  it's sooo pretty.  i happened to find it in a store, and i'm glad i did bc i never would have ordered it online bc it's petite.  i bought a petite and am 5'8\".  i love the length on me- hits just a little below the knee.  would definitely be a true midi on someone who is truly petite.</td>\n",
              "      <td>5</td>\n",
              "      <td>1</td>\n",
              "      <td>4</td>\n",
              "      <td>General</td>\n",
              "      <td>Dresses</td>\n",
              "      <td>Dresses</td>\n",
              "    </tr>\n",
              "    <tr>\n",
              "      <th>2</th>\n",
              "      <td>1077</td>\n",
              "      <td>60</td>\n",
              "      <td>Some major design flaws</td>\n",
              "      <td>I had such high hopes for this dress and really wanted it to work for me. i initially ordered the petite small (my usual size) but i found this to be outrageously small. so small in fact that i could not zip it up! i reordered it in petite medium, which was just ok. overall, the top half was comfortable and fit nicely, but the bottom half had a very tight under layer and several somewhat cheap (net) over layers. imo, a major design flaw was the net over layer sewn directly into the zipper - it c</td>\n",
              "      <td>3</td>\n",
              "      <td>0</td>\n",
              "      <td>0</td>\n",
              "      <td>General</td>\n",
              "      <td>Dresses</td>\n",
              "      <td>Dresses</td>\n",
              "    </tr>\n",
              "    <tr>\n",
              "      <th>3</th>\n",
              "      <td>1049</td>\n",
              "      <td>50</td>\n",
              "      <td>My favorite buy!</td>\n",
              "      <td>I love, love, love this jumpsuit. it's fun, flirty, and fabulous! every time i wear it, i get nothing but great compliments!</td>\n",
              "      <td>5</td>\n",
              "      <td>1</td>\n",
              "      <td>0</td>\n",
              "      <td>General Petite</td>\n",
              "      <td>Bottoms</td>\n",
              "      <td>Pants</td>\n",
              "    </tr>\n",
              "    <tr>\n",
              "      <th>4</th>\n",
              "      <td>847</td>\n",
              "      <td>47</td>\n",
              "      <td>Flattering shirt</td>\n",
              "      <td>This shirt is very flattering to all due to the adjustable front tie. it is the perfect length to wear with leggings and it is sleeveless so it pairs well with any cardigan. love this shirt!!!</td>\n",
              "      <td>5</td>\n",
              "      <td>1</td>\n",
              "      <td>6</td>\n",
              "      <td>General</td>\n",
              "      <td>Tops</td>\n",
              "      <td>Blouses</td>\n",
              "    </tr>\n",
              "  </tbody>\n",
              "</table>\n",
              "</div>"
            ],
            "text/plain": [
              "   Clothing ID  Age  ... Department Name Class Name\n",
              "0          767   33  ...        Intimate  Intimates\n",
              "1         1080   34  ...         Dresses    Dresses\n",
              "2         1077   60  ...         Dresses    Dresses\n",
              "3         1049   50  ...         Bottoms      Pants\n",
              "4          847   47  ...            Tops    Blouses\n",
              "\n",
              "[5 rows x 10 columns]"
            ]
          },
          "metadata": {},
          "execution_count": 15
        }
      ]
    },
    {
      "cell_type": "code",
      "metadata": {
        "colab": {
          "base_uri": "https://localhost:8080/"
        },
        "id": "VWi5d-Dx7dRb",
        "outputId": "3a0ffc61-2af5-4e39-cce7-14631b126640"
      },
      "source": [
        "# Determine the columns containing null/missing values\n",
        "df.isnull().sum()"
      ],
      "execution_count": 16,
      "outputs": [
        {
          "output_type": "execute_result",
          "data": {
            "text/plain": [
              "Clothing ID                   0\n",
              "Age                           0\n",
              "Title                      3810\n",
              "Review Text                 845\n",
              "Rating                        0\n",
              "Recommended IND               0\n",
              "Positive Feedback Count       0\n",
              "Division Name                14\n",
              "Department Name              14\n",
              "Class Name                   14\n",
              "dtype: int64"
            ]
          },
          "metadata": {},
          "execution_count": 16
        }
      ]
    },
    {
      "cell_type": "code",
      "metadata": {
        "id": "F45G9-cI8qbS"
      },
      "source": [
        "# Lets drop the rows containing null values.\n",
        "df.dropna(inplace=True)"
      ],
      "execution_count": 17,
      "outputs": []
    },
    {
      "cell_type": "code",
      "metadata": {
        "colab": {
          "base_uri": "https://localhost:8080/"
        },
        "id": "HpEq8me68zBp",
        "outputId": "c3319efb-a4cf-4e63-ccfc-f1065da86494"
      },
      "source": [
        "len(df)"
      ],
      "execution_count": 18,
      "outputs": [
        {
          "output_type": "execute_result",
          "data": {
            "text/plain": [
              "19662"
            ]
          },
          "metadata": {},
          "execution_count": 18
        }
      ]
    },
    {
      "cell_type": "markdown",
      "metadata": {
        "id": "w3zKb4z082Dd"
      },
      "source": [
        "It seems we are dropping too many samples due to missing values. Instead of dropping the missing values rows, can we fill the missing values. "
      ]
    },
    {
      "cell_type": "markdown",
      "metadata": {
        "id": "BNfvhrsq_qpc"
      },
      "source": [
        "Let's reload the df from the csv file."
      ]
    },
    {
      "cell_type": "code",
      "metadata": {
        "id": "yFyXVgJa_yOA"
      },
      "source": [
        "df = pd.read_csv(FILENAME, index_col=0)"
      ],
      "execution_count": 19,
      "outputs": []
    },
    {
      "cell_type": "code",
      "metadata": {
        "id": "515VWsWr_zGv"
      },
      "source": [
        "test_eq(len(df), 23486)"
      ],
      "execution_count": 20,
      "outputs": []
    },
    {
      "cell_type": "code",
      "metadata": {
        "colab": {
          "base_uri": "https://localhost:8080/"
        },
        "id": "19vTG_6Z9OlY",
        "outputId": "cb80e0ac-f2d0-49ea-b6a4-3a904e5776f1"
      },
      "source": [
        "df.head(1).values"
      ],
      "execution_count": 21,
      "outputs": [
        {
          "output_type": "execute_result",
          "data": {
            "text/plain": [
              "array([[767, 33, nan,\n",
              "        'Absolutely wonderful - silky and sexy and comfortable', 4, 1, 0,\n",
              "        'Initmates', 'Intimate', 'Intimates']], dtype=object)"
            ]
          },
          "metadata": {},
          "execution_count": 21
        }
      ]
    },
    {
      "cell_type": "code",
      "metadata": {
        "colab": {
          "base_uri": "https://localhost:8080/"
        },
        "id": "y6c3wIw9-Ecx",
        "outputId": "ac0881a8-9a79-4497-a9cd-ed6a5fc602f1"
      },
      "source": [
        "df.Rating.value_counts()"
      ],
      "execution_count": 22,
      "outputs": [
        {
          "output_type": "execute_result",
          "data": {
            "text/plain": [
              "5    13131\n",
              "4     5077\n",
              "3     2871\n",
              "2     1565\n",
              "1      842\n",
              "Name: Rating, dtype: int64"
            ]
          },
          "metadata": {},
          "execution_count": 22
        }
      ]
    },
    {
      "cell_type": "code",
      "metadata": {
        "colab": {
          "base_uri": "https://localhost:8080/"
        },
        "id": "EM_3QziV-GtP",
        "outputId": "2bf6fc03-3ee2-4ad1-f539-a5f784700691"
      },
      "source": [
        "df['Division Name'].value_counts()"
      ],
      "execution_count": 23,
      "outputs": [
        {
          "output_type": "execute_result",
          "data": {
            "text/plain": [
              "General           13850\n",
              "General Petite     8120\n",
              "Initmates          1502\n",
              "Name: Division Name, dtype: int64"
            ]
          },
          "metadata": {},
          "execution_count": 23
        }
      ]
    },
    {
      "cell_type": "code",
      "metadata": {
        "colab": {
          "base_uri": "https://localhost:8080/"
        },
        "id": "PouJWXzO-Q8u",
        "outputId": "91576ca4-ef0d-428f-9adc-0fe3002a4749"
      },
      "source": [
        "df['Department Name'].value_counts()"
      ],
      "execution_count": 24,
      "outputs": [
        {
          "output_type": "execute_result",
          "data": {
            "text/plain": [
              "Tops        10468\n",
              "Dresses      6319\n",
              "Bottoms      3799\n",
              "Intimate     1735\n",
              "Jackets      1032\n",
              "Trend         119\n",
              "Name: Department Name, dtype: int64"
            ]
          },
          "metadata": {},
          "execution_count": 24
        }
      ]
    },
    {
      "cell_type": "code",
      "metadata": {
        "colab": {
          "base_uri": "https://localhost:8080/"
        },
        "id": "-5GmTinS-Xzy",
        "outputId": "25e4d500-20f3-462c-94bc-43c2df66b0fa"
      },
      "source": [
        "df['Class Name'].value_counts()"
      ],
      "execution_count": 25,
      "outputs": [
        {
          "output_type": "execute_result",
          "data": {
            "text/plain": [
              "Dresses           6319\n",
              "Knits             4843\n",
              "Blouses           3097\n",
              "Sweaters          1428\n",
              "Pants             1388\n",
              "Jeans             1147\n",
              "Fine gauge        1100\n",
              "Skirts             945\n",
              "Jackets            704\n",
              "Lounge             691\n",
              "Swim               350\n",
              "Outerwear          328\n",
              "Shorts             317\n",
              "Sleep              228\n",
              "Legwear            165\n",
              "Intimates          154\n",
              "Layering           146\n",
              "Trend              119\n",
              "Casual bottoms       2\n",
              "Chemises             1\n",
              "Name: Class Name, dtype: int64"
            ]
          },
          "metadata": {},
          "execution_count": 25
        }
      ]
    },
    {
      "cell_type": "code",
      "metadata": {
        "colab": {
          "base_uri": "https://localhost:8080/"
        },
        "id": "FWbusdZKCgvN",
        "outputId": "68142f2e-48c0-4076-8e5f-2a5cbc68c428"
      },
      "source": [
        "df.isna().sum()"
      ],
      "execution_count": 26,
      "outputs": [
        {
          "output_type": "execute_result",
          "data": {
            "text/plain": [
              "Clothing ID                   0\n",
              "Age                           0\n",
              "Title                      3810\n",
              "Review Text                 845\n",
              "Rating                        0\n",
              "Recommended IND               0\n",
              "Positive Feedback Count       0\n",
              "Division Name                14\n",
              "Department Name              14\n",
              "Class Name                   14\n",
              "dtype: int64"
            ]
          },
          "metadata": {},
          "execution_count": 26
        }
      ]
    },
    {
      "cell_type": "markdown",
      "metadata": {
        "id": "0JIJXBYRDDOA"
      },
      "source": [
        "Let's fill the missing valeues(NaN) with empty."
      ]
    },
    {
      "cell_type": "code",
      "metadata": {
        "id": "bhXzupVLDJVG"
      },
      "source": [
        "df = df.fillna('')"
      ],
      "execution_count": 27,
      "outputs": []
    },
    {
      "cell_type": "markdown",
      "metadata": {
        "id": "Ucu7o5WADNlV"
      },
      "source": [
        "The approach described in the [article](http://mccormickml.com/2021/06/29/combining-categorical-numerical-features-with-bert/#31-all-features-to-text) to handle non-text features is to convert them into text and concatenate them with the review text. Instead of that we will instead try with the approach of \"mark_fields\"[1] that is done in fastai. Basically it will prepend the field text along with a token indicating which field this is from. \n",
        "\n",
        "Ex: fld 1 this is a bert example fld 2 this is the second sentence \n",
        "\n",
        "__Approach 1__\n",
        "But BERT itself adds some special tokens, so we can instead try [CLS] field 1 text [SEP] field 2 text [SEP] (eg: Dresses [SEP] General [SEP] 34 [SEP] 5...  \n",
        "\n",
        "[1] https://docs.fast.ai/text.data.html#TextBlock.from_df\n",
        "\n",
        "__Approach 2__\n",
        "Create a special tokens for each of the feature column and prepend it based on the idea from [ME ULMFiT](https://www.novetta.com/2019/03/introducing_me_ulmfit/). [CLS] [FLD1] field 1 text [FLD2] field 2 text [INP] text input [SEP] \n",
        "\n"
      ]
    },
    {
      "cell_type": "markdown",
      "metadata": {
        "id": "o2AFz_j-Q1UL"
      },
      "source": [
        "## BERT on Review Text Only (Sample Data)"
      ]
    },
    {
      "cell_type": "code",
      "metadata": {
        "id": "GwrOQZq5Lh7Z",
        "colab": {
          "base_uri": "https://localhost:8080/"
        },
        "outputId": "4703b602-ffcd-4a92-ab97-997da7335168"
      },
      "source": [
        "from sklearn.model_selection import train_test_split\n",
        "SEED=42\n",
        "train_val_df, test_df = train_test_split(df, test_size=0.1, random_state=SEED)\n",
        "len(train_val_df), len(test_df)"
      ],
      "execution_count": 30,
      "outputs": [
        {
          "output_type": "execute_result",
          "data": {
            "text/plain": [
              "(21137, 2349)"
            ]
          },
          "metadata": {},
          "execution_count": 30
        }
      ]
    },
    {
      "cell_type": "markdown",
      "metadata": {
        "id": "oY6xw3LcLzH9"
      },
      "source": [
        "#### Sample Data"
      ]
    },
    {
      "cell_type": "code",
      "metadata": {
        "colab": {
          "base_uri": "https://localhost:8080/"
        },
        "id": "2QpH_w9MT9cr",
        "outputId": "8208bbea-d13b-43d8-cd61-b3687a5609cd"
      },
      "source": [
        "# Use sample data\n",
        "train_val_df = train_val_df.sample(frac=0.1); len(train_val_df)"
      ],
      "execution_count": 31,
      "outputs": [
        {
          "output_type": "execute_result",
          "data": {
            "text/plain": [
              "2114"
            ]
          },
          "metadata": {},
          "execution_count": 31
        }
      ]
    },
    {
      "cell_type": "markdown",
      "metadata": {
        "id": "Dn7LrvAnKBVn"
      },
      "source": [
        "### Using the Midlevel API "
      ]
    },
    {
      "cell_type": "markdown",
      "metadata": {
        "id": "zn8sR2wCFCrx"
      },
      "source": [
        ""
      ]
    },
    {
      "cell_type": "code",
      "metadata": {
        "colab": {
          "base_uri": "https://localhost:8080/",
          "height": 176,
          "referenced_widgets": [
            "a5649914011646fdbce1070f2c76489f",
            "ff68d3081b1444bcb87213f2f26a08b3",
            "167a49eb965f43d1ad97bd2645334e99",
            "9a03328ea3f4438c850c97bf2d5b8cdb",
            "7813f8692aff41209e59d64b6ce3ff2c",
            "e981d2f3f8db403da142bcb205206202",
            "ff048100e51740f7ae55cea426ad0cdd",
            "3f0eabf891f14b9abde4a93d815bafa1",
            "fe34394b849443258eccc33fba8b80d0",
            "bcd57bfe5e694367a2cf50e5121bba88",
            "dad2a0ee71294ab9ad8c580fd81feead",
            "90f7c5f5431943ccbab408769c270612",
            "b1cb7a3de86d435dbee22cae3804f134",
            "a3ed9f3c92b34f98baa02cdcfa083b61",
            "731e3d94f6c14a72b6bc611a025fd6f7",
            "5ce3486250674cbcae54131894ddb4a9",
            "1a52c31d80d64f85983182210fe7561a",
            "e4ec53bf95ce4ff59219dc5334868e32",
            "15a83fbdae604433bfabc4dca2fda229",
            "85a37bbaa92e425cbd2de6e97c413326",
            "551838f1e3c942e6be7d5bc5dbe57818",
            "81933d862c9941ae821d29270447262a",
            "d5a6dd207ea442b281546a0f12ac56b0",
            "86417827887d454fa928e60f90d4d0a8",
            "2b0056d1a4a948d0a8518dd7ba5a8f3e",
            "d2d31315536a461fb2e03a5270c53ea0",
            "8ffe668c141a41799b45d776c1521d3a",
            "989ceaad8e904cb4bf87cf7e9e3e3271",
            "b2f5a984a7184e50b397a35aae34055b",
            "190d4ea9e5a14e98b885d9cd7e85dc83",
            "28f9b183eddd4c0d9872ebcbc2f68511",
            "9f9b9b0d1d7242b0afce58b66872a30f",
            "1fc19537a82a4b5dbabfb1c0cc1d6ce2",
            "6fe57dff64b7443c85ae55238d6d35e7",
            "bb09cd06247f4451a092dc31cce91ba1",
            "0fbf44a517604ce4b77e5086e05994c9",
            "b8d483e389e1412398f0446158742442",
            "f79ad49a5ec649f1861d8a8ce9a17cb2",
            "bd0cb01e139b49e597e7b4ff8965d2ca",
            "4c9be81ea9a24d59874d2cca71eea01d",
            "fc2f2f4cdf694baea419c789b328eaa6",
            "3b3a83e7ebbb45839ea6d8ecbc699443",
            "be2d5d890b1f4770a9903d5a6381b6eb",
            "9331983d10834ab4a2b96e8189b3b941",
            "e71f644f58d84a9a8cfed9b5fb39442b",
            "b4f5230c7837446ba7763b7ddfbfb13c",
            "2f5d614f727545a6ac51dbc80b476665",
            "e368a52ac81446e68081eaa2dd8893e5",
            "a0d33240e0ef4be58e6c5947e6952be4",
            "fc4b976642a84312975a970c55e7cf36",
            "019d2585c873444b81c33ff9366b2229",
            "70114102e9a04cf6861241736ca94bda",
            "6f341e22fbd64160a7aa6a70f89d841d",
            "82cb796374954867b6554ce163508d81",
            "49d39e8f1c614472af8ea068770d0567"
          ]
        },
        "id": "dw3pJ1ReJllf",
        "outputId": "9b86a71a-a8c4-47c9-f751-7d1da0d75531"
      },
      "source": [
        "from transformers import AutoModelForSequenceClassification\n",
        "model_cls = AutoModelForSequenceClassification\n",
        "\n",
        "pretrained_model_name =  \"bert-base-uncased\" #\"distilroberta-base\" # \"distilbert-base-uncased\" \"bert-base-uncased\"\n",
        "hf_arch, hf_config, hf_tokenizer, hf_model = BLURR.get_hf_objects(pretrained_model_name, model_cls=model_cls)"
      ],
      "execution_count": 28,
      "outputs": [
        {
          "output_type": "display_data",
          "data": {
            "application/vnd.jupyter.widget-view+json": {
              "model_id": "a5649914011646fdbce1070f2c76489f",
              "version_minor": 0,
              "version_major": 2
            },
            "text/plain": [
              "Downloading:   0%|          | 0.00/570 [00:00<?, ?B/s]"
            ]
          },
          "metadata": {}
        },
        {
          "output_type": "display_data",
          "data": {
            "application/vnd.jupyter.widget-view+json": {
              "model_id": "90f7c5f5431943ccbab408769c270612",
              "version_minor": 0,
              "version_major": 2
            },
            "text/plain": [
              "Downloading:   0%|          | 0.00/28.0 [00:00<?, ?B/s]"
            ]
          },
          "metadata": {}
        },
        {
          "output_type": "display_data",
          "data": {
            "application/vnd.jupyter.widget-view+json": {
              "model_id": "d5a6dd207ea442b281546a0f12ac56b0",
              "version_minor": 0,
              "version_major": 2
            },
            "text/plain": [
              "Downloading:   0%|          | 0.00/232k [00:00<?, ?B/s]"
            ]
          },
          "metadata": {}
        },
        {
          "output_type": "display_data",
          "data": {
            "application/vnd.jupyter.widget-view+json": {
              "model_id": "6fe57dff64b7443c85ae55238d6d35e7",
              "version_minor": 0,
              "version_major": 2
            },
            "text/plain": [
              "Downloading:   0%|          | 0.00/466k [00:00<?, ?B/s]"
            ]
          },
          "metadata": {}
        },
        {
          "output_type": "display_data",
          "data": {
            "application/vnd.jupyter.widget-view+json": {
              "model_id": "e71f644f58d84a9a8cfed9b5fb39442b",
              "version_minor": 0,
              "version_major": 2
            },
            "text/plain": [
              "Downloading:   0%|          | 0.00/440M [00:00<?, ?B/s]"
            ]
          },
          "metadata": {}
        }
      ]
    },
    {
      "cell_type": "code",
      "metadata": {
        "id": "rm3Kmfu2Jrdu"
      },
      "source": [
        "# Set the number of labels \n",
        "hf_config.num_labels = df['Recommended IND'].nunique()"
      ],
      "execution_count": 29,
      "outputs": []
    },
    {
      "cell_type": "markdown",
      "metadata": {
        "id": "vacVZ39hKdnC"
      },
      "source": [
        "#### DataBlock and DataLoaders"
      ]
    },
    {
      "cell_type": "code",
      "metadata": {
        "id": "uSTT9Nx3K_ZV"
      },
      "source": [
        "blocks = (HF_TextBlock(hf_arch, hf_config, hf_tokenizer, hf_model), CategoryBlock)\n",
        "db = DataBlock(blocks=blocks, get_x=ColReader('Review Text'), get_y=ColReader('Recommended IND'), \n",
        "               splitter=RandomSplitter(valid_pct=0.1, seed=SEED))"
      ],
      "execution_count": 32,
      "outputs": []
    },
    {
      "cell_type": "code",
      "metadata": {
        "colab": {
          "base_uri": "https://localhost:8080/"
        },
        "id": "Z9GBQ4CUM1Kn",
        "outputId": "f39325e1-6073-4d21-81b7-c35bbc0b8b3b"
      },
      "source": [
        "train_val_df.dtypes"
      ],
      "execution_count": 33,
      "outputs": [
        {
          "output_type": "execute_result",
          "data": {
            "text/plain": [
              "Clothing ID                 int64\n",
              "Age                         int64\n",
              "Title                      object\n",
              "Review Text                object\n",
              "Rating                      int64\n",
              "Recommended IND             int64\n",
              "Positive Feedback Count     int64\n",
              "Division Name              object\n",
              "Department Name            object\n",
              "Class Name                 object\n",
              "dtype: object"
            ]
          },
          "metadata": {},
          "execution_count": 33
        }
      ]
    },
    {
      "cell_type": "code",
      "metadata": {
        "id": "AChay81VMpP9"
      },
      "source": [
        "#TfmdLists - Uncomment the summary to see the whole process\n",
        "#db.summary(train_val_df[:100])"
      ],
      "execution_count": 36,
      "outputs": []
    },
    {
      "cell_type": "code",
      "metadata": {
        "id": "fDZfcjrlMtO6"
      },
      "source": [
        "dls = db.dataloaders(train_val_df, bs=32)"
      ],
      "execution_count": 37,
      "outputs": []
    },
    {
      "cell_type": "code",
      "metadata": {
        "colab": {
          "base_uri": "https://localhost:8080/"
        },
        "id": "643n_HFUPf6r",
        "outputId": "90e14049-96e1-413d-ce21-9cc3bc3896a5"
      },
      "source": [
        "b = dls.one_batch(); len(b), len(b[0]['input_ids']), b[0]['input_ids'].shape, len(b[1])"
      ],
      "execution_count": 38,
      "outputs": [
        {
          "output_type": "execute_result",
          "data": {
            "text/plain": [
              "(2, 32, torch.Size([32, 152]), 32)"
            ]
          },
          "metadata": {},
          "execution_count": 38
        }
      ]
    },
    {
      "cell_type": "code",
      "metadata": {
        "colab": {
          "base_uri": "https://localhost:8080/"
        },
        "id": "QKGiP0ZZP_gJ",
        "outputId": "7d2937c6-d5db-4499-98d7-cd369ab28b46"
      },
      "source": [
        "explode_types(b)"
      ],
      "execution_count": 39,
      "outputs": [
        {
          "output_type": "execute_result",
          "data": {
            "text/plain": [
              "{tuple: [dict, fastai.torch_core.TensorCategory]}"
            ]
          },
          "metadata": {},
          "execution_count": 39
        }
      ]
    },
    {
      "cell_type": "code",
      "metadata": {
        "colab": {
          "base_uri": "https://localhost:8080/",
          "height": 210
        },
        "id": "jvAEVw2RQVwK",
        "outputId": "c6174138-4ae0-4025-9a0f-8b45dea922df"
      },
      "source": [
        "dls.show_batch(dataloaders=dls, max_n=2, trunc_at=500)"
      ],
      "execution_count": 40,
      "outputs": [
        {
          "output_type": "display_data",
          "data": {
            "text/html": [
              "<table border=\"1\" class=\"dataframe\">\n",
              "  <thead>\n",
              "    <tr style=\"text-align: right;\">\n",
              "      <th></th>\n",
              "      <th>text</th>\n",
              "      <th>target</th>\n",
              "    </tr>\n",
              "  </thead>\n",
              "  <tbody>\n",
              "    <tr>\n",
              "      <th>0</th>\n",
              "      <td>i just got this in the green and i'd say the color is deeper / darker than shown. more of a turquoise - green, or muted teal color. it's the densest, thickest cashmere ( it's 100 % cashmere ) i've felt in a while and it's so soft. but, it just doesn't look good on me. i'm 5'3 \" and about 105 lbs, and usually wear xspetite. i got this in the xs regular hoping it would be long enough for leggings. and i don't think it is in the back. plus it's just too bell shaped and i'm slightly pear - shaped al</td>\n",
              "      <td>1</td>\n",
              "    </tr>\n",
              "    <tr>\n",
              "      <th>1</th>\n",
              "      <td>this dress is indeed so lovely in person. i am so glad i ordered 2 sizes ( 0p and 2p ) based on the straighter - looking cut. i am 115 lbs, 5'1. 5 \", adn 30dd bra size. verdict, the 2p fit better. why, the cehst area is a little snug and hte buttons kept trying to open ( and did # i would have ahd to leave it pen and wear a tank under this dress... not an option with such a unique piece. other things : color : wow, very nice in person, i was afraid that the colr would wash me out, but no, i have</td>\n",
              "      <td>1</td>\n",
              "    </tr>\n",
              "  </tbody>\n",
              "</table>"
            ],
            "text/plain": [
              "<IPython.core.display.HTML object>"
            ]
          },
          "metadata": {}
        }
      ]
    },
    {
      "cell_type": "markdown",
      "metadata": {
        "id": "O9WM71VZQdXN"
      },
      "source": [
        "#### Training"
      ]
    },
    {
      "cell_type": "code",
      "metadata": {
        "id": "6DxMcUUERfyx"
      },
      "source": [
        "model = HF_BaseModelWrapper(hf_model)"
      ],
      "execution_count": 41,
      "outputs": []
    },
    {
      "cell_type": "code",
      "metadata": {
        "colab": {
          "base_uri": "https://localhost:8080/",
          "height": 187
        },
        "id": "E-3LspScRjfU",
        "outputId": "e7cab52a-28a4-4c85-e96e-6ae4204432a4"
      },
      "source": [
        "doc(Learner)"
      ],
      "execution_count": 42,
      "outputs": [
        {
          "output_type": "display_data",
          "data": {
            "text/html": [
              "<h2 id=\"Learner\" class=\"doc_header\"><code>class</code> <code>Learner</code><a href=\"https://github.com/fastai/fastai/tree/master/fastai/learner.py#L83\" class=\"source_link\" style=\"float:right\">[source]</a></h2><blockquote><p><code>Learner</code>(<strong><code>dls</code></strong>, <strong><code>model</code></strong>, <strong><code>loss_func</code></strong>=<em><code>None</code></em>, <strong><code>opt_func</code></strong>=<em><code>Adam</code></em>, <strong><code>lr</code></strong>=<em><code>0.001</code></em>, <strong><code>splitter</code></strong>=<em><code>trainable_params</code></em>, <strong><code>cbs</code></strong>=<em><code>None</code></em>, <strong><code>metrics</code></strong>=<em><code>None</code></em>, <strong><code>path</code></strong>=<em><code>None</code></em>, <strong><code>model_dir</code></strong>=<em><code>'models'</code></em>, <strong><code>wd</code></strong>=<em><code>None</code></em>, <strong><code>wd_bn_bias</code></strong>=<em><code>False</code></em>, <strong><code>train_bn</code></strong>=<em><code>True</code></em>, <strong><code>moms</code></strong>=<em><code>(0.95, 0.85, 0.95)</code></em>) :: <code>GetAttr</code></p>\n",
              "</blockquote>\n",
              "<p>Group together a <code>model</code>, some <code>dls</code> and a <code>loss_func</code> to handle training</p>\n",
              "<p><a href=\"https://docs.fast.ai/learner#Learner\" target=\"_blank\" rel=\"noreferrer noopener\">Show in docs</a></p>\n"
            ],
            "text/plain": [
              "<IPython.core.display.HTML object>"
            ]
          },
          "metadata": {}
        }
      ]
    },
    {
      "cell_type": "code",
      "metadata": {
        "id": "28cRlLtRR_PV"
      },
      "source": [
        "#TODO - Callback, why partial on the optimizer "
      ],
      "execution_count": null,
      "outputs": []
    },
    {
      "cell_type": "code",
      "metadata": {
        "id": "NsNuMaDPRlEE"
      },
      "source": [
        "learn = Learner(dls, model, loss_func=CrossEntropyLossFlat(), \n",
        "                opt_func=partial(OptimWrapper, opt=torch.optim.Adam),\n",
        "                metrics=accuracy, cbs=[HF_BaseModelCallback], splitter=hf_splitter).to_fp16()\n",
        "learn.freeze()"
      ],
      "execution_count": null,
      "outputs": []
    },
    {
      "cell_type": "code",
      "metadata": {
        "id": "iUZNgEHhSK3H"
      },
      "source": [
        "# Uncomment and see the architecture and learner details.\n",
        "# learn.summary()"
      ],
      "execution_count": null,
      "outputs": []
    },
    {
      "cell_type": "code",
      "metadata": {
        "colab": {
          "base_uri": "https://localhost:8080/"
        },
        "id": "eODj-I5pSS83",
        "outputId": "0c4511ce-6c3b-4997-af5a-9abe72e06ca3"
      },
      "source": [
        "print(len(learn.opt.param_groups))"
      ],
      "execution_count": null,
      "outputs": [
        {
          "output_type": "stream",
          "name": "stdout",
          "text": [
            "4\n"
          ]
        }
      ]
    },
    {
      "cell_type": "code",
      "metadata": {
        "colab": {
          "base_uri": "https://localhost:8080/",
          "height": 321
        },
        "id": "fRBV1wRkSji1",
        "outputId": "d7d9337b-bd5f-4e1b-a2ac-2811645e00bc"
      },
      "source": [
        "learn.lr_find(suggest_funcs=[minimum, steep, valley, slide])"
      ],
      "execution_count": null,
      "outputs": [
        {
          "output_type": "display_data",
          "data": {
            "text/html": [
              ""
            ],
            "text/plain": [
              "<IPython.core.display.HTML object>"
            ]
          },
          "metadata": {}
        },
        {
          "output_type": "execute_result",
          "data": {
            "text/plain": [
              "SuggestedLRs(minimum=9.12010818865383e-08, steep=6.309573450380412e-07, valley=0.00363078061491251, slide=0.0012022644514217973)"
            ]
          },
          "metadata": {},
          "execution_count": 136
        },
        {
          "output_type": "display_data",
          "data": {
            "image/png": "[encoded data removed]",
            "text/plain": [
              "<Figure size 432x288 with 1 Axes>"
            ]
          },
          "metadata": {
            "needs_background": "light"
          }
        }
      ]
    },
    {
      "cell_type": "code",
      "metadata": {
        "colab": {
          "base_uri": "https://localhost:8080/",
          "height": 78
        },
        "id": "NXVRPfb7SrNY",
        "outputId": "f583b350-6e06-44ca-abef-b7ff8e2b7fd4"
      },
      "source": [
        "learn.fit_one_cycle(1, lr_max=1e-6)"
      ],
      "execution_count": null,
      "outputs": [
        {
          "output_type": "display_data",
          "data": {
            "text/html": [
              "<table border=\"1\" class=\"dataframe\">\n",
              "  <thead>\n",
              "    <tr style=\"text-align: left;\">\n",
              "      <th>epoch</th>\n",
              "      <th>train_loss</th>\n",
              "      <th>valid_loss</th>\n",
              "      <th>accuracy</th>\n",
              "      <th>time</th>\n",
              "    </tr>\n",
              "  </thead>\n",
              "  <tbody>\n",
              "    <tr>\n",
              "      <td>0</td>\n",
              "      <td>0.437359</td>\n",
              "      <td>0.445859</td>\n",
              "      <td>0.838863</td>\n",
              "      <td>01:34</td>\n",
              "    </tr>\n",
              "  </tbody>\n",
              "</table>"
            ],
            "text/plain": [
              "<IPython.core.display.HTML object>"
            ]
          },
          "metadata": {}
        }
      ]
    },
    {
      "cell_type": "code",
      "metadata": {
        "id": "FO1My0xeTiq6"
      },
      "source": [
        "learn.unfreeze()"
      ],
      "execution_count": null,
      "outputs": []
    },
    {
      "cell_type": "code",
      "metadata": {
        "colab": {
          "base_uri": "https://localhost:8080/",
          "height": 301
        },
        "id": "qVRg6Ny8WXj0",
        "outputId": "7c49124c-ed53-449a-9f40-30c67c0a631f"
      },
      "source": [
        "learn.lr_find()"
      ],
      "execution_count": null,
      "outputs": [
        {
          "output_type": "display_data",
          "data": {
            "text/html": [
              ""
            ],
            "text/plain": [
              "<IPython.core.display.HTML object>"
            ]
          },
          "metadata": {}
        },
        {
          "output_type": "execute_result",
          "data": {
            "text/plain": [
              "SuggestedLRs(valley=0.00015848931798245758)"
            ]
          },
          "metadata": {},
          "execution_count": 139
        },
        {
          "output_type": "display_data",
          "data": {
            "image/png": "[encoded data removed]",
            "text/plain": [
              "<Figure size 432x288 with 1 Axes>"
            ]
          },
          "metadata": {
            "needs_background": "light"
          }
        }
      ]
    },
    {
      "cell_type": "code",
      "metadata": {
        "colab": {
          "base_uri": "https://localhost:8080/",
          "height": 78
        },
        "id": "1UvZeH3DWaaD",
        "outputId": "221dbdd0-a041-42be-e1df-abaf893a855d"
      },
      "source": [
        "learn.fit_one_cycle(1, lr_max=slice(1e-4))"
      ],
      "execution_count": null,
      "outputs": [
        {
          "output_type": "display_data",
          "data": {
            "text/html": [
              "<table border=\"1\" class=\"dataframe\">\n",
              "  <thead>\n",
              "    <tr style=\"text-align: left;\">\n",
              "      <th>epoch</th>\n",
              "      <th>train_loss</th>\n",
              "      <th>valid_loss</th>\n",
              "      <th>accuracy</th>\n",
              "      <th>time</th>\n",
              "    </tr>\n",
              "  </thead>\n",
              "  <tbody>\n",
              "    <tr>\n",
              "      <td>0</td>\n",
              "      <td>0.371937</td>\n",
              "      <td>0.309550</td>\n",
              "      <td>0.881517</td>\n",
              "      <td>01:54</td>\n",
              "    </tr>\n",
              "  </tbody>\n",
              "</table>"
            ],
            "text/plain": [
              "<IPython.core.display.HTML object>"
            ]
          },
          "metadata": {}
        }
      ]
    },
    {
      "cell_type": "code",
      "metadata": {
        "colab": {
          "base_uri": "https://localhost:8080/",
          "height": 141
        },
        "id": "GTMa0qSfXFsw",
        "outputId": "db5811b0-80a3-483a-de6b-fa5fd262fe77"
      },
      "source": [
        "learn.fit_one_cycle(3, lr_max = slice(1e-4))"
      ],
      "execution_count": null,
      "outputs": [
        {
          "output_type": "display_data",
          "data": {
            "text/html": [
              "<table border=\"1\" class=\"dataframe\">\n",
              "  <thead>\n",
              "    <tr style=\"text-align: left;\">\n",
              "      <th>epoch</th>\n",
              "      <th>train_loss</th>\n",
              "      <th>valid_loss</th>\n",
              "      <th>accuracy</th>\n",
              "      <th>time</th>\n",
              "    </tr>\n",
              "  </thead>\n",
              "  <tbody>\n",
              "    <tr>\n",
              "      <td>0</td>\n",
              "      <td>0.279243</td>\n",
              "      <td>0.232797</td>\n",
              "      <td>0.900474</td>\n",
              "      <td>01:54</td>\n",
              "    </tr>\n",
              "    <tr>\n",
              "      <td>1</td>\n",
              "      <td>0.199191</td>\n",
              "      <td>0.215759</td>\n",
              "      <td>0.914692</td>\n",
              "      <td>01:54</td>\n",
              "    </tr>\n",
              "    <tr>\n",
              "      <td>2</td>\n",
              "      <td>0.140689</td>\n",
              "      <td>0.220340</td>\n",
              "      <td>0.914692</td>\n",
              "      <td>01:54</td>\n",
              "    </tr>\n",
              "  </tbody>\n",
              "</table>"
            ],
            "text/plain": [
              "<IPython.core.display.HTML object>"
            ]
          },
          "metadata": {}
        }
      ]
    },
    {
      "cell_type": "markdown",
      "metadata": {
        "id": "Q3JyDN9bZb5z"
      },
      "source": [
        "We are getting 91% accuracy with just 10% of the data."
      ]
    },
    {
      "cell_type": "code",
      "metadata": {
        "id": "kM8JgglJZlCp",
        "colab": {
          "base_uri": "https://localhost:8080/",
          "height": 243
        },
        "outputId": "b8fb04d6-f644-48c4-f73e-a54ebd74920e"
      },
      "source": [
        "learn.show_results(learner=learn, max_n=2)"
      ],
      "execution_count": null,
      "outputs": [
        {
          "output_type": "display_data",
          "data": {
            "text/html": [
              ""
            ],
            "text/plain": [
              "<IPython.core.display.HTML object>"
            ]
          },
          "metadata": {}
        },
        {
          "output_type": "display_data",
          "data": {
            "text/html": [
              "<table border=\"1\" class=\"dataframe\">\n",
              "  <thead>\n",
              "    <tr style=\"text-align: right;\">\n",
              "      <th></th>\n",
              "      <th>text</th>\n",
              "      <th>target</th>\n",
              "      <th>prediction</th>\n",
              "    </tr>\n",
              "  </thead>\n",
              "  <tbody>\n",
              "    <tr>\n",
              "      <th>0</th>\n",
              "      <td>truly the only word that comes to mind when i think of this dress is dazzling! the pictures online just barely do it justice... if you have an retailer nearby, check to see if its available in store and go check it out in person. it does not disappoint! every year around this time, our beloved retailer seems to come out with this style of dress. in the years past they have all been different and beautiful, but i think they have truly outdone themselves this year. this dress is a deep emerald green...</td>\n",
              "      <td>1</td>\n",
              "      <td>1</td>\n",
              "    </tr>\n",
              "    <tr>\n",
              "      <th>1</th>\n",
              "      <td>this sweater sold out fast at my local retailer store. you know that stuffed animal that you owned when you were a kid, and you would never let it go because it was so soft and snuggly? yeah, it is like that for me. it's a bit pilly but that's what sweaters do. size petite s fit me perfectly ( i am 5ft2in, 34b, 26 waist, 36 hips ), hem falls 4 inches above my knees, sleeves fall right at my wrist, and it gives room for wearing a sweater or turtleneck under it. hood lays flat, horse print is so cute.</td>\n",
              "      <td>1</td>\n",
              "      <td>1</td>\n",
              "    </tr>\n",
              "  </tbody>\n",
              "</table>"
            ],
            "text/plain": [
              "<IPython.core.display.HTML object>"
            ]
          },
          "metadata": {}
        }
      ]
    },
    {
      "cell_type": "markdown",
      "metadata": {
        "id": "NVHMxeJEOKEw"
      },
      "source": [
        "### High Level API"
      ]
    },
    {
      "cell_type": "code",
      "metadata": {
        "colab": {
          "base_uri": "https://localhost:8080/",
          "height": 157
        },
        "id": "K7ul2GeENAxV",
        "outputId": "1b3d211f-d272-4fca-d1a8-cb512643eedc"
      },
      "source": [
        "doc(BlearnerForSequenceClassification.from_dataframe)"
      ],
      "execution_count": null,
      "outputs": [
        {
          "output_type": "display_data",
          "data": {
            "text/html": [
              "<h4 id=\"BlearnerForSequenceClassification.from_dataframe\" class=\"doc_header\"><code>BlearnerForSequenceClassification.from_dataframe</code><a href=\"https://github.com/ohmeow/blurr/tree/master/blurr/modeling/core.py#L327\" class=\"source_link\" style=\"float:right\">[source]</a></h4><blockquote><p><code>BlearnerForSequenceClassification.from_dataframe</code>(<strong><code>df</code></strong>:<code>DataFrame</code>, <strong><code>pretrained_model_name_or_path</code></strong>:<code>Union</code>[<code>str</code>, <code>PathLike</code>, <code>NoneType</code>], <strong><code>preprocess_func</code></strong>:<code>Callable</code>=<em><code>None</code></em>, <strong><code>text_attr</code></strong>:<code>str</code>=<em><code>'text'</code></em>, <strong><code>label_attr</code></strong>:<code>str</code>=<em><code>'label'</code></em>, <strong><code>n_labels</code></strong>:<code>int</code>=<em><code>None</code></em>, <strong><code>dblock_splitter</code></strong>:<code>Callable</code>=<em><code>_inner</code></em>, <strong><code>dl_kwargs</code></strong>=<em><code>{}</code></em>, <strong><code>learner_kwargs</code></strong>=<em><code>{}</code></em>)</p>\n",
              "</blockquote>\n",
              "<p><a href=\"https://ohmeow.github.io/blurr/modeling-core#BlearnerForSequenceClassification.from_dataframe\" target=\"_blank\" rel=\"noreferrer noopener\">Show in docs</a></p>\n"
            ],
            "text/plain": [
              "<IPython.core.display.HTML object>"
            ]
          },
          "metadata": {}
        }
      ]
    },
    {
      "cell_type": "code",
      "metadata": {
        "id": "Ci41PjZCMrYx"
      },
      "source": [
        "# Using Blearner\n",
        "learn = BlearnerForSequenceClassification.from_dataframe(train_val_df, \n",
        "                                                'bert-base-uncased',\n",
        "                                                 text_attr='Review Text',\n",
        "                                                 label_attr='Recommended IND',\n",
        "                                                 n_labels=2,\n",
        "                                                 dblock_splitter=RandomSplitter(valid_pct=0.1, seed=SEED))\n",
        "learn = learn.to_fp16()"
      ],
      "execution_count": 49,
      "outputs": []
    },
    {
      "cell_type": "code",
      "metadata": {
        "colab": {
          "base_uri": "https://localhost:8080/",
          "height": 285
        },
        "id": "1CD8tZUtOOmN",
        "outputId": "8cb5ef88-34f4-4941-9154-2777513bbe4d"
      },
      "source": [
        "learn.dls.show_batch(dataloaders=learn.dls, trunc_at=500, max_n=5)"
      ],
      "execution_count": 50,
      "outputs": [
        {
          "output_type": "display_data",
          "data": {
            "text/html": [
              "<table border=\"1\" class=\"dataframe\">\n",
              "  <thead>\n",
              "    <tr style=\"text-align: right;\">\n",
              "      <th></th>\n",
              "      <th>text</th>\n",
              "      <th>target</th>\n",
              "    </tr>\n",
              "  </thead>\n",
              "  <tbody>\n",
              "    <tr>\n",
              "      <th>0</th>\n",
              "      <td>i just got this in the green and i'd say the color is deeper / darker than shown. more of a turquoise - green, or muted teal color. it's the densest, thickest cashmere ( it's 100 % cashmere ) i've felt in a while and it's so soft. but, it just doesn't look good on me. i'm 5'3 \" and about 105 lbs, and usually wear xspetite. i got this in the xs regular hoping it would be long enough for leggings. and i don't think it is in the back. plus it's just too bell shaped and i'm slightly pear - shaped al</td>\n",
              "      <td>1</td>\n",
              "    </tr>\n",
              "    <tr>\n",
              "      <th>1</th>\n",
              "      <td>this dress is indeed so lovely in person. i am so glad i ordered 2 sizes ( 0p and 2p ) based on the straighter - looking cut. i am 115 lbs, 5'1. 5 \", adn 30dd bra size. verdict, the 2p fit better. why, the cehst area is a little snug and hte buttons kept trying to open ( and did # i would have ahd to leave it pen and wear a tank under this dress... not an option with such a unique piece. other things : color : wow, very nice in person, i was afraid that the colr would wash me out, but no, i have</td>\n",
              "      <td>1</td>\n",
              "    </tr>\n",
              "    <tr>\n",
              "      <th>2</th>\n",
              "      <td>for me, this top ran true to size. i'm so glad i ordered it in my normal size, because the spandex would have made the top way too clingy for me. i am normally a 8 / medium on top and 12 bottom. i ordered this in a medium, and don't find it large at all. if you are going for a fitted look, sizing down may be best, but i didn't want it tight. on me, it's a little looser than what is shown on the model, but it still fits very nice, and not sloppy. i am not a fan of baggy tops. i have no issues wit</td>\n",
              "      <td>1</td>\n",
              "    </tr>\n",
              "    <tr>\n",
              "      <th>3</th>\n",
              "      <td>let me talk about the fit. i am a size 6 petite. i weigh 120 and am 5'tall. i am curvy and have short legs. what little height i have is in my torso. that being said, i ordered the 6p and the 6. no doubt about it! the 6p fits like a 4p. the 6p was tight in the hips and thighs. the size 6 regular was a perfect fit. if you want the pant to have s cropped look like in the picture then order up a size and stay in petite. so i would have ordered a 8p i'd i wanted the cropped look like in the pic. bu</td>\n",
              "      <td>1</td>\n",
              "    </tr>\n",
              "    <tr>\n",
              "      <th>4</th>\n",
              "      <td>the label says 100 % linen, but it's so silky and drapey that it feels like silk and linen. it's not a scratchy linen at all. it's a very very fine knit, but the top is not sheer. i don't think you need a cami under it. i bought the xl and the fit is just as shown. it has a slight drape, but it's not really baggy at all. i bought the grey and it looks lighter on - line that it really is. it's a bit darker and has a silver essence also. i liked this so much, i just bought another one in mauve.</td>\n",
              "      <td>1</td>\n",
              "    </tr>\n",
              "  </tbody>\n",
              "</table>"
            ],
            "text/plain": [
              "<IPython.core.display.HTML object>"
            ]
          },
          "metadata": {}
        }
      ]
    },
    {
      "cell_type": "code",
      "metadata": {
        "colab": {
          "base_uri": "https://localhost:8080/"
        },
        "id": "BmPhgap6OXhk",
        "outputId": "87f314cb-0d95-4031-db9f-0b62f985765e"
      },
      "source": [
        "#learn.summary()\n",
        "learn.show_training_loop()"
      ],
      "execution_count": 51,
      "outputs": [
        {
          "output_type": "stream",
          "name": "stdout",
          "text": [
            "Start Fit\n",
            "   - before_fit     : [TrainEvalCallback, MixedPrecision, Recorder, ProgressCallback]\n",
            "  Start Epoch Loop\n",
            "     - before_epoch   : [Recorder, ProgressCallback]\n",
            "    Start Train\n",
            "       - before_train   : [TrainEvalCallback, Recorder, ProgressCallback]\n",
            "      Start Batch Loop\n",
            "         - before_batch   : [HF_BaseModelCallback, MixedPrecision]\n",
            "         - after_pred     : [HF_BaseModelCallback, MixedPrecision]\n",
            "         - after_loss     : [HF_BaseModelCallback, MixedPrecision]\n",
            "         - before_backward: [MixedPrecision]\n",
            "         - before_step    : [MixedPrecision]\n",
            "         - after_step     : [MixedPrecision]\n",
            "         - after_cancel_batch: []\n",
            "         - after_batch    : [TrainEvalCallback, Recorder, ProgressCallback]\n",
            "      End Batch Loop\n",
            "    End Train\n",
            "     - after_cancel_train: [Recorder]\n",
            "     - after_train    : [Recorder, ProgressCallback]\n",
            "    Start Valid\n",
            "       - before_validate: [TrainEvalCallback, Recorder, ProgressCallback]\n",
            "      Start Batch Loop\n",
            "         - **CBs same as train batch**: []\n",
            "      End Batch Loop\n",
            "    End Valid\n",
            "     - after_cancel_validate: [Recorder]\n",
            "     - after_validate : [Recorder, ProgressCallback]\n",
            "  End Epoch Loop\n",
            "   - after_cancel_epoch: []\n",
            "   - after_epoch    : [Recorder]\n",
            "End Fit\n",
            " - after_cancel_fit: []\n",
            " - after_fit      : [ProgressCallback]\n"
          ]
        }
      ]
    },
    {
      "cell_type": "code",
      "metadata": {
        "colab": {
          "base_uri": "https://localhost:8080/",
          "height": 321
        },
        "id": "GTaQtwCKOq8Z",
        "outputId": "c8249842-e11d-45f4-ab68-9b1d825c24cf"
      },
      "source": [
        "learn.lr_find(suggest_funcs=[minimum, steep, valley, slide])"
      ],
      "execution_count": 45,
      "outputs": [
        {
          "output_type": "display_data",
          "data": {
            "text/html": [
              ""
            ],
            "text/plain": [
              "<IPython.core.display.HTML object>"
            ]
          },
          "metadata": {}
        },
        {
          "output_type": "execute_result",
          "data": {
            "text/plain": [
              "SuggestedLRs(minimum=0.006918309628963471, steep=0.001737800776027143, valley=0.0008317637839354575, slide=0.005248074419796467)"
            ]
          },
          "metadata": {},
          "execution_count": 45
        },
        {
          "output_type": "display_data",
          "data": {
            "image/png": "[encoded data removed]",
            "text/plain": [
              "<Figure size 432x288 with 1 Axes>"
            ]
          },
          "metadata": {
            "needs_background": "light"
          }
        }
      ]
    },
    {
      "cell_type": "code",
      "metadata": {
        "colab": {
          "base_uri": "https://localhost:8080/",
          "height": 1000
        },
        "id": "XCmDrvgXj6ZN",
        "outputId": "a47c02c8-cb77-4039-af9f-ed561f4caed3"
      },
      "source": [
        "learn.summary()"
      ],
      "execution_count": 46,
      "outputs": [
        {
          "output_type": "display_data",
          "data": {
            "text/html": [
              ""
            ],
            "text/plain": [
              "<IPython.core.display.HTML object>"
            ]
          },
          "metadata": {}
        },
        {
          "output_type": "execute_result",
          "data": {
            "application/vnd.google.colaboratory.intrinsic+json": {
              "type": "string"
            },
            "text/plain": [
              "HF_BaseModelWrapper (Input shape: 64)\n",
              "============================================================================\n",
              "Layer (type)         Output Shape         Param #    Trainable \n",
              "============================================================================\n",
              "                     64 x 152 x 768      \n",
              "Embedding                                 23440896   False     \n",
              "Embedding                                 393216     False     \n",
              "Embedding                                 1536       False     \n",
              "LayerNorm                                 1536       True      \n",
              "Dropout                                                        \n",
              "Linear                                    590592     False     \n",
              "Linear                                    590592     False     \n",
              "Linear                                    590592     False     \n",
              "Dropout                                                        \n",
              "Linear                                    590592     False     \n",
              "LayerNorm                                 1536       True      \n",
              "Dropout                                                        \n",
              "____________________________________________________________________________\n",
              "                     64 x 152 x 3072     \n",
              "Linear                                    2362368    False     \n",
              "____________________________________________________________________________\n",
              "                     64 x 152 x 768      \n",
              "Linear                                    2360064    False     \n",
              "LayerNorm                                 1536       True      \n",
              "Dropout                                                        \n",
              "Linear                                    590592     False     \n",
              "Linear                                    590592     False     \n",
              "Linear                                    590592     False     \n",
              "Dropout                                                        \n",
              "Linear                                    590592     False     \n",
              "LayerNorm                                 1536       True      \n",
              "Dropout                                                        \n",
              "____________________________________________________________________________\n",
              "                     64 x 152 x 3072     \n",
              "Linear                                    2362368    False     \n",
              "____________________________________________________________________________\n",
              "                     64 x 152 x 768      \n",
              "Linear                                    2360064    False     \n",
              "LayerNorm                                 1536       True      \n",
              "Dropout                                                        \n",
              "Linear                                    590592     False     \n",
              "Linear                                    590592     False     \n",
              "Linear                                    590592     False     \n",
              "Dropout                                                        \n",
              "Linear                                    590592     False     \n",
              "LayerNorm                                 1536       True      \n",
              "Dropout                                                        \n",
              "____________________________________________________________________________\n",
              "                     64 x 152 x 3072     \n",
              "Linear                                    2362368    False     \n",
              "____________________________________________________________________________\n",
              "                     64 x 152 x 768      \n",
              "Linear                                    2360064    False     \n",
              "LayerNorm                                 1536       True      \n",
              "Dropout                                                        \n",
              "Linear                                    590592     False     \n",
              "Linear                                    590592     False     \n",
              "Linear                                    590592     False     \n",
              "Dropout                                                        \n",
              "Linear                                    590592     False     \n",
              "LayerNorm                                 1536       True      \n",
              "Dropout                                                        \n",
              "____________________________________________________________________________\n",
              "                     64 x 152 x 3072     \n",
              "Linear                                    2362368    False     \n",
              "____________________________________________________________________________\n",
              "                     64 x 152 x 768      \n",
              "Linear                                    2360064    False     \n",
              "LayerNorm                                 1536       True      \n",
              "Dropout                                                        \n",
              "Linear                                    590592     False     \n",
              "Linear                                    590592     False     \n",
              "Linear                                    590592     False     \n",
              "Dropout                                                        \n",
              "Linear                                    590592     False     \n",
              "LayerNorm                                 1536       True      \n",
              "Dropout                                                        \n",
              "____________________________________________________________________________\n",
              "                     64 x 152 x 3072     \n",
              "Linear                                    2362368    False     \n",
              "____________________________________________________________________________\n",
              "                     64 x 152 x 768      \n",
              "Linear                                    2360064    False     \n",
              "LayerNorm                                 1536       True      \n",
              "Dropout                                                        \n",
              "Linear                                    590592     False     \n",
              "Linear                                    590592     False     \n",
              "Linear                                    590592     False     \n",
              "Dropout                                                        \n",
              "Linear                                    590592     False     \n",
              "LayerNorm                                 1536       True      \n",
              "Dropout                                                        \n",
              "____________________________________________________________________________\n",
              "                     64 x 152 x 3072     \n",
              "Linear                                    2362368    False     \n",
              "____________________________________________________________________________\n",
              "                     64 x 152 x 768      \n",
              "Linear                                    2360064    False     \n",
              "LayerNorm                                 1536       True      \n",
              "Dropout                                                        \n",
              "Linear                                    590592     False     \n",
              "Linear                                    590592     False     \n",
              "Linear                                    590592     False     \n",
              "Dropout                                                        \n",
              "Linear                                    590592     False     \n",
              "LayerNorm                                 1536       True      \n",
              "Dropout                                                        \n",
              "____________________________________________________________________________\n",
              "                     64 x 152 x 3072     \n",
              "Linear                                    2362368    False     \n",
              "____________________________________________________________________________\n",
              "                     64 x 152 x 768      \n",
              "Linear                                    2360064    False     \n",
              "LayerNorm                                 1536       True      \n",
              "Dropout                                                        \n",
              "Linear                                    590592     False     \n",
              "Linear                                    590592     False     \n",
              "Linear                                    590592     False     \n",
              "Dropout                                                        \n",
              "Linear                                    590592     False     \n",
              "LayerNorm                                 1536       True      \n",
              "Dropout                                                        \n",
              "____________________________________________________________________________\n",
              "                     64 x 152 x 3072     \n",
              "Linear                                    2362368    False     \n",
              "____________________________________________________________________________\n",
              "                     64 x 152 x 768      \n",
              "Linear                                    2360064    False     \n",
              "LayerNorm                                 1536       True      \n",
              "Dropout                                                        \n",
              "Linear                                    590592     False     \n",
              "Linear                                    590592     False     \n",
              "Linear                                    590592     False     \n",
              "Dropout                                                        \n",
              "Linear                                    590592     False     \n",
              "LayerNorm                                 1536       True      \n",
              "Dropout                                                        \n",
              "____________________________________________________________________________\n",
              "                     64 x 152 x 3072     \n",
              "Linear                                    2362368    False     \n",
              "____________________________________________________________________________\n",
              "                     64 x 152 x 768      \n",
              "Linear                                    2360064    False     \n",
              "LayerNorm                                 1536       True      \n",
              "Dropout                                                        \n",
              "Linear                                    590592     False     \n",
              "Linear                                    590592     False     \n",
              "Linear                                    590592     False     \n",
              "Dropout                                                        \n",
              "Linear                                    590592     False     \n",
              "LayerNorm                                 1536       True      \n",
              "Dropout                                                        \n",
              "____________________________________________________________________________\n",
              "                     64 x 152 x 3072     \n",
              "Linear                                    2362368    False     \n",
              "____________________________________________________________________________\n",
              "                     64 x 152 x 768      \n",
              "Linear                                    2360064    False     \n",
              "LayerNorm                                 1536       True      \n",
              "Dropout                                                        \n",
              "Linear                                    590592     False     \n",
              "Linear                                    590592     False     \n",
              "Linear                                    590592     False     \n",
              "Dropout                                                        \n",
              "Linear                                    590592     False     \n",
              "LayerNorm                                 1536       True      \n",
              "Dropout                                                        \n",
              "____________________________________________________________________________\n",
              "                     64 x 152 x 3072     \n",
              "Linear                                    2362368    False     \n",
              "____________________________________________________________________________\n",
              "                     64 x 152 x 768      \n",
              "Linear                                    2360064    False     \n",
              "LayerNorm                                 1536       True      \n",
              "Dropout                                                        \n",
              "Linear                                    590592     False     \n",
              "Linear                                    590592     False     \n",
              "Linear                                    590592     False     \n",
              "Dropout                                                        \n",
              "Linear                                    590592     False     \n",
              "LayerNorm                                 1536       True      \n",
              "Dropout                                                        \n",
              "____________________________________________________________________________\n",
              "                     64 x 152 x 3072     \n",
              "Linear                                    2362368    False     \n",
              "____________________________________________________________________________\n",
              "                     64 x 152 x 768      \n",
              "Linear                                    2360064    False     \n",
              "LayerNorm                                 1536       True      \n",
              "Dropout                                                        \n",
              "Linear                                    590592     False     \n",
              "Tanh                                                           \n",
              "Dropout                                                        \n",
              "____________________________________________________________________________\n",
              "                     64 x 2              \n",
              "Linear                                    1538       True      \n",
              "____________________________________________________________________________\n",
              "\n",
              "Total params: 109,483,778\n",
              "Total trainable params: 39,938\n",
              "Total non-trainable params: 109,443,840\n",
              "\n",
              "Optimizer used: <function Adam at 0x7f06b57b0680>\n",
              "Loss function: FlattenedLoss of CrossEntropyLoss()\n",
              "\n",
              "Model frozen up to parameter group #3\n",
              "\n",
              "Callbacks:\n",
              "  - TrainEvalCallback\n",
              "  - HF_BaseModelCallback\n",
              "  - MixedPrecision\n",
              "  - Recorder\n",
              "  - ProgressCallback"
            ]
          },
          "metadata": {},
          "execution_count": 46
        }
      ]
    },
    {
      "cell_type": "code",
      "metadata": {
        "colab": {
          "base_uri": "https://localhost:8080/",
          "height": 203
        },
        "id": "-z38P3kWkQls",
        "outputId": "d4616b3a-2597-42a9-c09b-afd36bfc8c8a"
      },
      "source": [
        "learn.fine_tune(3, base_lr=5e-3)"
      ],
      "execution_count": 47,
      "outputs": [
        {
          "output_type": "display_data",
          "data": {
            "text/html": [
              "<table border=\"1\" class=\"dataframe\">\n",
              "  <thead>\n",
              "    <tr style=\"text-align: left;\">\n",
              "      <th>epoch</th>\n",
              "      <th>train_loss</th>\n",
              "      <th>valid_loss</th>\n",
              "      <th>f1_score</th>\n",
              "      <th>accuracy</th>\n",
              "      <th>time</th>\n",
              "    </tr>\n",
              "  </thead>\n",
              "  <tbody>\n",
              "    <tr>\n",
              "      <td>0</td>\n",
              "      <td>0.517784</td>\n",
              "      <td>0.455757</td>\n",
              "      <td>0.908136</td>\n",
              "      <td>0.834123</td>\n",
              "      <td>01:36</td>\n",
              "    </tr>\n",
              "  </tbody>\n",
              "</table>"
            ],
            "text/plain": [
              "<IPython.core.display.HTML object>"
            ]
          },
          "metadata": {}
        },
        {
          "output_type": "display_data",
          "data": {
            "text/html": [
              "<table border=\"1\" class=\"dataframe\">\n",
              "  <thead>\n",
              "    <tr style=\"text-align: left;\">\n",
              "      <th>epoch</th>\n",
              "      <th>train_loss</th>\n",
              "      <th>valid_loss</th>\n",
              "      <th>f1_score</th>\n",
              "      <th>accuracy</th>\n",
              "      <th>time</th>\n",
              "    </tr>\n",
              "  </thead>\n",
              "  <tbody>\n",
              "    <tr>\n",
              "      <td>0</td>\n",
              "      <td>0.323233</td>\n",
              "      <td>0.215455</td>\n",
              "      <td>0.948571</td>\n",
              "      <td>0.914692</td>\n",
              "      <td>01:57</td>\n",
              "    </tr>\n",
              "    <tr>\n",
              "      <td>1</td>\n",
              "      <td>0.264858</td>\n",
              "      <td>0.257258</td>\n",
              "      <td>0.932945</td>\n",
              "      <td>0.890995</td>\n",
              "      <td>01:57</td>\n",
              "    </tr>\n",
              "    <tr>\n",
              "      <td>2</td>\n",
              "      <td>0.172162</td>\n",
              "      <td>0.289080</td>\n",
              "      <td>0.920455</td>\n",
              "      <td>0.867299</td>\n",
              "      <td>01:57</td>\n",
              "    </tr>\n",
              "  </tbody>\n",
              "</table>"
            ],
            "text/plain": [
              "<IPython.core.display.HTML object>"
            ]
          },
          "metadata": {}
        }
      ]
    },
    {
      "cell_type": "code",
      "metadata": {
        "colab": {
          "base_uri": "https://localhost:8080/",
          "height": 78
        },
        "id": "yT2OCk8vnpRB",
        "outputId": "13924eb8-b5ab-4f65-e5c4-6581797e8a77"
      },
      "source": [
        "learn.fit_one_cycle(1, lr_max=5e-3)"
      ],
      "execution_count": 53,
      "outputs": [
        {
          "output_type": "display_data",
          "data": {
            "text/html": [
              "<table border=\"1\" class=\"dataframe\">\n",
              "  <thead>\n",
              "    <tr style=\"text-align: left;\">\n",
              "      <th>epoch</th>\n",
              "      <th>train_loss</th>\n",
              "      <th>valid_loss</th>\n",
              "      <th>f1_score</th>\n",
              "      <th>accuracy</th>\n",
              "      <th>time</th>\n",
              "    </tr>\n",
              "  </thead>\n",
              "  <tbody>\n",
              "    <tr>\n",
              "      <td>0</td>\n",
              "      <td>0.454338</td>\n",
              "      <td>0.393269</td>\n",
              "      <td>0.906736</td>\n",
              "      <td>0.829384</td>\n",
              "      <td>01:36</td>\n",
              "    </tr>\n",
              "  </tbody>\n",
              "</table>"
            ],
            "text/plain": [
              "<IPython.core.display.HTML object>"
            ]
          },
          "metadata": {}
        }
      ]
    },
    {
      "cell_type": "markdown",
      "metadata": {
        "id": "KlimhO44poe4"
      },
      "source": [
        "Before unfreeze (learning rate finder)"
      ]
    },
    {
      "cell_type": "code",
      "metadata": {
        "colab": {
          "base_uri": "https://localhost:8080/",
          "height": 323
        },
        "id": "cb6n8FUQn7tl",
        "outputId": "c197aee4-e80f-462c-aabf-f8303705cc0d"
      },
      "source": [
        "learn.lr_find(suggest_funcs=[minimum, steep, valley, slide])"
      ],
      "execution_count": 54,
      "outputs": [
        {
          "output_type": "display_data",
          "data": {
            "text/html": [
              ""
            ],
            "text/plain": [
              "<IPython.core.display.HTML object>"
            ]
          },
          "metadata": {}
        },
        {
          "output_type": "execute_result",
          "data": {
            "text/plain": [
              "SuggestedLRs(minimum=0.00036307806149125097, steep=5.754399353463668e-06, valley=0.0005754399462603033, slide=0.0014454397605732083)"
            ]
          },
          "metadata": {},
          "execution_count": 54
        },
        {
          "output_type": "display_data",
          "data": {
            "image/png": "[encoded data removed]",
            "text/plain": [
              "<Figure size 432x288 with 1 Axes>"
            ]
          },
          "metadata": {
            "needs_background": "light"
          }
        }
      ]
    },
    {
      "cell_type": "code",
      "metadata": {
        "id": "0CACY-cZpiUa"
      },
      "source": [
        "learn.unfreeze()"
      ],
      "execution_count": 55,
      "outputs": []
    },
    {
      "cell_type": "markdown",
      "metadata": {
        "id": "yL0qUMvWqGnP"
      },
      "source": [
        "After unfreezing (learning rate finder)"
      ]
    },
    {
      "cell_type": "code",
      "metadata": {
        "colab": {
          "base_uri": "https://localhost:8080/",
          "height": 321
        },
        "id": "9SOQNEiVpkU2",
        "outputId": "ddf0b35e-6b1b-4dfb-8d35-79de8619a6f2"
      },
      "source": [
        "learn.lr_find(suggest_funcs=[minimum, steep, valley, slide])"
      ],
      "execution_count": 56,
      "outputs": [
        {
          "output_type": "display_data",
          "data": {
            "text/html": [
              ""
            ],
            "text/plain": [
              "<IPython.core.display.HTML object>"
            ]
          },
          "metadata": {}
        },
        {
          "output_type": "execute_result",
          "data": {
            "text/plain": [
              "SuggestedLRs(minimum=1.0964782268274575e-05, steep=2.75422871709452e-06, valley=2.511886486900039e-05, slide=0.005248074419796467)"
            ]
          },
          "metadata": {},
          "execution_count": 56
        },
        {
          "output_type": "display_data",
          "data": {
            "image/png": "[encoded data removed]",
            "text/plain": [
              "<Figure size 432x288 with 1 Axes>"
            ]
          },
          "metadata": {
            "needs_background": "light"
          }
        }
      ]
    },
    {
      "cell_type": "code",
      "metadata": {
        "colab": {
          "base_uri": "https://localhost:8080/",
          "height": 110
        },
        "id": "e2feFlfkqUBs",
        "outputId": "4124e4b2-0f21-41f9-a972-eb75edb9d5ed"
      },
      "source": [
        "learn.fit_one_cycle(2, lr_max=slice(2.5e-5))"
      ],
      "execution_count": 57,
      "outputs": [
        {
          "output_type": "display_data",
          "data": {
            "text/html": [
              "<table border=\"1\" class=\"dataframe\">\n",
              "  <thead>\n",
              "    <tr style=\"text-align: left;\">\n",
              "      <th>epoch</th>\n",
              "      <th>train_loss</th>\n",
              "      <th>valid_loss</th>\n",
              "      <th>f1_score</th>\n",
              "      <th>accuracy</th>\n",
              "      <th>time</th>\n",
              "    </tr>\n",
              "  </thead>\n",
              "  <tbody>\n",
              "    <tr>\n",
              "      <td>0</td>\n",
              "      <td>0.388074</td>\n",
              "      <td>0.356095</td>\n",
              "      <td>0.906736</td>\n",
              "      <td>0.829384</td>\n",
              "      <td>01:57</td>\n",
              "    </tr>\n",
              "    <tr>\n",
              "      <td>1</td>\n",
              "      <td>0.369915</td>\n",
              "      <td>0.336681</td>\n",
              "      <td>0.906736</td>\n",
              "      <td>0.829384</td>\n",
              "      <td>01:57</td>\n",
              "    </tr>\n",
              "  </tbody>\n",
              "</table>"
            ],
            "text/plain": [
              "<IPython.core.display.HTML object>"
            ]
          },
          "metadata": {}
        }
      ]
    },
    {
      "cell_type": "markdown",
      "metadata": {
        "id": "z0qfH8pHqY5p"
      },
      "source": [
        "### Low Level API\n",
        "\n",
        "1. GPU & Transformers Setup\n",
        "2. Create Datasets\n",
        "3. Create DataLoaders\n",
        "4. Trainer API or Pytorch training loop."
      ]
    },
    {
      "cell_type": "markdown",
      "metadata": {
        "id": "Km_PU3A2tZco"
      },
      "source": [
        "GPU & Transformers Setup"
      ]
    },
    {
      "cell_type": "code",
      "metadata": {
        "colab": {
          "base_uri": "https://localhost:8080/"
        },
        "id": "krJPMH14sxSR",
        "outputId": "9666ec26-e5a7-47a1-ad9f-1c9cde98d352"
      },
      "source": [
        "import torch\n",
        "\n",
        "# if GPU is available inform pytorch to use GPU as the device else use CPU\n",
        "if torch.cuda.is_available():\n",
        "  device = torch.device('cuda')\n",
        "\n",
        "  print(f'There are {torch.cuda.device_count()} GPU(s) available')\n",
        "  print(f'We will use the GPU: {torch.cuda.get_device_name(0)}')\n",
        "else:\n",
        "  print('No GPU available, using the CPU instead.')\n",
        "  device = torch.device('cpu')"
      ],
      "execution_count": 61,
      "outputs": [
        {
          "output_type": "stream",
          "name": "stdout",
          "text": [
            "There are 1 GPU(s) available\n",
            "We will use the GPU: Tesla K80\n"
          ]
        }
      ]
    },
    {
      "cell_type": "markdown",
      "metadata": {
        "id": "pZqLpwW2uaTy"
      },
      "source": [
        "Load the tokenizer"
      ]
    },
    {
      "cell_type": "code",
      "metadata": {
        "colab": {
          "base_uri": "https://localhost:8080/"
        },
        "id": "gE4_WabftuYC",
        "outputId": "617e618c-97f3-426f-c5a9-0de9195e9bc0"
      },
      "source": [
        "from transformers import BertTokenizerFast\n",
        "# Load tokenizer\n",
        "print('Load BERT tokenizer')\n",
        "tokenizer = BertTokenizerFast.from_pretrained('bert-base-uncased', do_lower_case=True)"
      ],
      "execution_count": 62,
      "outputs": [
        {
          "output_type": "stream",
          "name": "stdout",
          "text": [
            "Load BERT tokenizer\n"
          ]
        }
      ]
    },
    {
      "cell_type": "markdown",
      "metadata": {
        "id": "Ks0ox4N_ugJy"
      },
      "source": [
        "Load the BERT Classification model"
      ]
    },
    {
      "cell_type": "code",
      "metadata": {
        "id": "XWLAAbfhuj4G"
      },
      "source": [
        "from transformers import BertForSequenceClassification"
      ],
      "execution_count": 63,
      "outputs": []
    },
    {
      "cell_type": "code",
      "metadata": {
        "id": "igJs-WGYurPY"
      },
      "source": [
        "model = BertForSequenceClassification.from_pretrained(\n",
        "    'bert-base-uncased',\n",
        "    num_labels=2\n",
        ")\n",
        "#Inform pytorch to run the model on GPU\n",
        "desc = model.cuda()"
      ],
      "execution_count": 64,
      "outputs": []
    },
    {
      "cell_type": "markdown",
      "metadata": {
        "id": "GG5D04ZZvC1z"
      },
      "source": [
        "Training Parameters"
      ]
    },
    {
      "cell_type": "code",
      "metadata": {
        "id": "VP0Jj5FRvIOm"
      },
      "source": [
        "# Larger batch sizes tend to be better, and we can fit this in memory.\n",
        "batch_size = 32\n",
        "\n",
        "# I used a smaller learning rate to combat over-fitting that I was seeing in the\n",
        "# validation loss. I could probably try even smaller.\n",
        "learning_rate = 1e-5\n",
        "\n",
        "# Number of training epochs. \n",
        "epochs = 4"
      ],
      "execution_count": 65,
      "outputs": []
    },
    {
      "cell_type": "markdown",
      "metadata": {
        "id": "J2ITnUFxvQRc"
      },
      "source": [
        "Maximum Sequence Length is another keyparameter which will a) truncate or b) pad all of samples to. Setting higher value of max seq len will increase memory & increase the training time. \n",
        "\n",
        "Let's determine this by passing over the dataset to find the longest sequence & we will choose it based on this."
      ]
    },
    {
      "cell_type": "code",
      "metadata": {
        "id": "8hh3zgqlvtG3"
      },
      "source": [
        "df"
      ],
      "execution_count": null,
      "outputs": []
    },
    {
      "cell_type": "markdown",
      "metadata": {
        "id": "VPbdOSZbZpKx"
      },
      "source": [
        "## BERT with All Features (Sample Data)"
      ]
    },
    {
      "cell_type": "code",
      "metadata": {
        "colab": {
          "base_uri": "https://localhost:8080/"
        },
        "id": "fbiOw5TOdE1P",
        "outputId": "81362790-5d66-4b70-dc34-575cdfc8f76e"
      },
      "source": [
        "df.columns"
      ],
      "execution_count": null,
      "outputs": [
        {
          "output_type": "execute_result",
          "data": {
            "text/plain": [
              "Index(['Clothing ID', 'Age', 'Title', 'Review Text', 'Rating',\n",
              "       'Recommended IND', 'Positive Feedback Count', 'Division Name',\n",
              "       'Department Name', 'Class Name'],\n",
              "      dtype='object')"
            ]
          },
          "metadata": {},
          "execution_count": 60
        }
      ]
    },
    {
      "cell_type": "code",
      "metadata": {
        "id": "E6D5tVvEbO81"
      },
      "source": [
        "def get_x(row):\n",
        "  combined = \"\"\n",
        "\n",
        "  combined = f\"{combined} [SEP] {row['Age']} [SEP] {row['Rating']} [SEP] {row['Positive Feedback Count']} [SEP] {row['Division Name']} [SEP] {row['Department Name']} [SEP] {row['Class Name']} [SEP] \"\n",
        "  if row['Title']:\n",
        "    combined = f\"{combined} {row['Title']} [SEP] \"\n",
        "  \n",
        "  return f\"{combined} {row['Review Text']}\""
      ],
      "execution_count": null,
      "outputs": []
    },
    {
      "cell_type": "code",
      "metadata": {
        "id": "pm74TEXCo4bw"
      },
      "source": [
        "def _join_texts(df, mark_fields=False, cols):\n",
        "    \"Join texts in row `idx` of `df`, marking each field with `FLD` if `mark_fields=True`\"\n",
        "    text_col = (f'{FLD} {1} ' if mark_fields else '' ) + df.iloc[:,0].astype(str)\n",
        "    for i in range(1,len(df.columns)):\n",
        "        text_col += (f' {FLD} {i+1} ' if mark_fields else ' ') + df.iloc[:,i].astype(str)\n",
        "    return text_col.values\n"
      ],
      "execution_count": null,
      "outputs": []
    },
    {
      "cell_type": "code",
      "metadata": {
        "id": "OaXVuJjSoOTj"
      },
      "source": [
        "def updated_get_x(row):\n",
        "  combined = \"\"\n",
        "\n",
        "  combined = f\"{combined} [SEP] {row['Age']} [SEP] {row['Rating']} [SEP] {row['Positive Feedback Count']} [SEP] {row['Division Name']} [SEP] {row['Department Name']} [SEP] {row['Class Name']} [SEP] \"\n",
        "  if row['Title']:\n",
        "    combined = f\"{combined} {row['Title']} [SEP] \"\n",
        "  \n",
        "  return f\"{combined} {row['Review Text']}\""
      ],
      "execution_count": null,
      "outputs": []
    },
    {
      "cell_type": "code",
      "metadata": {
        "id": "01MhOnMIoKPm"
      },
      "source": [
        "from transformers import AutoModelForSequenceClassification\n",
        "model_cls = AutoModelForSequenceClassification\n",
        "\n",
        "pretrained_model_name =  \"bert-base-uncased\" #\"distilroberta-base\" # \"distilbert-base-uncased\" \"bert-base-uncased\"\n",
        "hf_arch, hf_config, hf_tokenizer, hf_model = BLURR.get_hf_objects(pretrained_model_name, model_cls=model_cls)\n"
      ],
      "execution_count": null,
      "outputs": []
    },
    {
      "cell_type": "code",
      "metadata": {
        "colab": {
          "base_uri": "https://localhost:8080/"
        },
        "id": "posiscjDrgRs",
        "outputId": "8bf8e422-706c-4efb-ed58-1d770607bb91"
      },
      "source": [
        "hf_tokenizer.special_tokens_map"
      ],
      "execution_count": null,
      "outputs": [
        {
          "output_type": "execute_result",
          "data": {
            "text/plain": [
              "{'cls_token': '[CLS]',\n",
              " 'mask_token': '[MASK]',\n",
              " 'pad_token': '[PAD]',\n",
              " 'sep_token': '[SEP]',\n",
              " 'unk_token': '[UNK]'}"
            ]
          },
          "metadata": {},
          "execution_count": 96
        }
      ]
    },
    {
      "cell_type": "code",
      "metadata": {
        "colab": {
          "base_uri": "https://localhost:8080/"
        },
        "id": "hZmNk5yUrrlb",
        "outputId": "9555c4a1-96bb-4e3f-dd5c-92f5e7ff31a8"
      },
      "source": [
        "hf_tokenizer.add_special_tokens({'additional_special_tokens':['[CAT]', '[CONT]']})"
      ],
      "execution_count": null,
      "outputs": [
        {
          "output_type": "execute_result",
          "data": {
            "text/plain": [
              "2"
            ]
          },
          "metadata": {},
          "execution_count": 98
        }
      ]
    },
    {
      "cell_type": "code",
      "metadata": {
        "colab": {
          "base_uri": "https://localhost:8080/"
        },
        "id": "BqCx7RrlsDf1",
        "outputId": "b0380dbf-e7ce-4e2d-f03d-591f7414efdd"
      },
      "source": [
        "hf_tokenizer.special_tokens_map_extended"
      ],
      "execution_count": null,
      "outputs": [
        {
          "output_type": "execute_result",
          "data": {
            "text/plain": [
              "{'additional_special_tokens': ['[CAT]', '[CONT]'],\n",
              " 'cls_token': '[CLS]',\n",
              " 'mask_token': '[MASK]',\n",
              " 'pad_token': '[PAD]',\n",
              " 'sep_token': '[SEP]',\n",
              " 'unk_token': '[UNK]'}"
            ]
          },
          "metadata": {},
          "execution_count": 99
        }
      ]
    },
    {
      "cell_type": "code",
      "metadata": {
        "colab": {
          "base_uri": "https://localhost:8080/",
          "height": 211
        },
        "id": "9M9ihhhEtrYS",
        "outputId": "372f56fd-0537-4e6d-dc38-89563805c14e"
      },
      "source": [
        "hf_model.resize_token_embeddings"
      ],
      "execution_count": null,
      "outputs": [
        {
          "output_type": "display_data",
          "data": {
            "text/html": [
              "<h4 id=\"PreTrainedModel.resize_token_embeddings\" class=\"doc_header\"><code>PreTrainedModel.resize_token_embeddings</code><a href=\"transformers/modeling_utils.py#L694\" class=\"source_link\" style=\"float:right\">[source]</a></h4><blockquote><p><code>PreTrainedModel.resize_token_embeddings</code>(<strong><code>new_num_tokens</code></strong>:<code>Optional</code>[<code>int</code>]=<em><code>None</code></em>)</p>\n",
              "</blockquote>\n",
              "<p>Resizes input token embeddings matrix of the model if :obj:<code>new_num_tokens != config.vocab_size</code>.</p>\n",
              "<p>Takes care of tying weights embeddings afterwards if the model class has a :obj:<code>tie_weights()</code> method.</p>\n",
              "<p>Arguments:\n",
              "    new_num_tokens (:obj:<code>int</code>, <code>optional</code>):\n",
              "        The number of new tokens in the embedding matrix. Increasing the size will add newly initialized\n",
              "        vectors at the end. Reducing the size will remove vectors from the end. If not provided or :obj:<code>None</code>,\n",
              "        just returns a pointer to the input tokens :obj:<code>torch.nn.Embedding</code> module of the model without doing\n",
              "        anything.</p>\n",
              "<p>Return:\n",
              "    :obj:<code>torch.nn.Embedding</code>: Pointer to the input tokens Embeddings Module of the model.</p>\n"
            ],
            "text/plain": [
              "<IPython.core.display.HTML object>"
            ]
          },
          "metadata": {}
        }
      ]
    },
    {
      "cell_type": "code",
      "metadata": {
        "id": "pRPxOF-JMjCe"
      },
      "source": [
        "blocks = (HF_TextBlock(hf_arch, hf_config, hf_tokenizer, hf_model), CategoryBlock)\n",
        "db = DataBlock(blocks=blocks, get_x=get_x, get_y=ColReader('Recommended IND'), \n",
        "               splitter=RandomSplitter(valid_pct=0.1, seed=SEED),\n",
        "               )\n",
        "dls = db.dataloaders(train_val_df, bs=32)"
      ],
      "execution_count": null,
      "outputs": []
    },
    {
      "cell_type": "code",
      "metadata": {
        "id": "gerhRmKIbNuf"
      },
      "source": [
        "#db.summary(train_val_df[:100])"
      ],
      "execution_count": null,
      "outputs": []
    },
    {
      "cell_type": "code",
      "metadata": {
        "colab": {
          "base_uri": "https://localhost:8080/"
        },
        "id": "i2ysDQ39udFt",
        "outputId": "b5380119-bd06-4163-b7e4-52de0174fbbb"
      },
      "source": [
        "dls[0].vocab"
      ],
      "execution_count": null,
      "outputs": [
        {
          "output_type": "execute_result",
          "data": {
            "text/plain": [
              "[0, 1]"
            ]
          },
          "metadata": {},
          "execution_count": 110
        }
      ]
    },
    {
      "cell_type": "code",
      "metadata": {
        "id": "qbPkCkf1cl4H"
      },
      "source": [
        "model = HF_BaseModelWrapper(hf_model)\n",
        "learn = Learner(dls, model, loss_func=CrossEntropyLossFlat(), \n",
        "                opt_func=partial(OptimWrapper, opt=torch.optim.Adam),\n",
        "                metrics=accuracy, cbs=[HF_BaseModelCallback], splitter=hf_splitter).to_fp16()\n",
        "learn.freeze()"
      ],
      "execution_count": null,
      "outputs": []
    },
    {
      "cell_type": "code",
      "metadata": {
        "colab": {
          "base_uri": "https://localhost:8080/",
          "height": 303
        },
        "id": "u_ZxMqf1iUZA",
        "outputId": "2e2c954e-6249-4f15-c852-16af80e861d3"
      },
      "source": [
        "learn.lr_find(suggest_funcs=[minimum, steep, valley,])"
      ],
      "execution_count": null,
      "outputs": [
        {
          "output_type": "display_data",
          "data": {
            "text/html": [
              ""
            ],
            "text/plain": [
              "<IPython.core.display.HTML object>"
            ]
          },
          "metadata": {}
        },
        {
          "output_type": "execute_result",
          "data": {
            "text/plain": [
              "SuggestedLRs(minimum=0.33113112449646, steep=0.033113110810518265, valley=0.010964781977236271, slide=0.2089296132326126)"
            ]
          },
          "metadata": {},
          "execution_count": 68
        },
        {
          "output_type": "display_data",
          "data": {
            "image/png": "[encoded data removed]",
            "text/plain": [
              "<Figure size 432x288 with 1 Axes>"
            ]
          },
          "metadata": {
            "needs_background": "light"
          }
        }
      ]
    },
    {
      "cell_type": "code",
      "metadata": {
        "colab": {
          "base_uri": "https://localhost:8080/",
          "height": 78
        },
        "id": "ZdGkgFaEioqA",
        "outputId": "4ac50a43-57ea-451f-842b-df1e60565bd4"
      },
      "source": [
        "learn.fit_one_cycle(1, 1e-1)"
      ],
      "execution_count": null,
      "outputs": [
        {
          "output_type": "display_data",
          "data": {
            "text/html": [
              "<table border=\"1\" class=\"dataframe\">\n",
              "  <thead>\n",
              "    <tr style=\"text-align: left;\">\n",
              "      <th>epoch</th>\n",
              "      <th>train_loss</th>\n",
              "      <th>valid_loss</th>\n",
              "      <th>accuracy</th>\n",
              "      <th>time</th>\n",
              "    </tr>\n",
              "  </thead>\n",
              "  <tbody>\n",
              "    <tr>\n",
              "      <td>0</td>\n",
              "      <td>0.486233</td>\n",
              "      <td>0.468122</td>\n",
              "      <td>0.824645</td>\n",
              "      <td>01:52</td>\n",
              "    </tr>\n",
              "  </tbody>\n",
              "</table>"
            ],
            "text/plain": [
              "<IPython.core.display.HTML object>"
            ]
          },
          "metadata": {}
        }
      ]
    },
    {
      "cell_type": "code",
      "metadata": {
        "id": "BlFUJk93j1pP"
      },
      "source": [
        "learn.unfreeze()"
      ],
      "execution_count": null,
      "outputs": []
    },
    {
      "cell_type": "code",
      "metadata": {
        "colab": {
          "base_uri": "https://localhost:8080/",
          "height": 301
        },
        "id": "h1Jgb-SbkT1o",
        "outputId": "2d902186-b737-442d-d211-a1ec7ce8cacd"
      },
      "source": [
        "learn.lr_find()"
      ],
      "execution_count": null,
      "outputs": [
        {
          "output_type": "display_data",
          "data": {
            "text/html": [
              ""
            ],
            "text/plain": [
              "<IPython.core.display.HTML object>"
            ]
          },
          "metadata": {}
        },
        {
          "output_type": "execute_result",
          "data": {
            "text/plain": [
              "SuggestedLRs(valley=0.013182567432522774)"
            ]
          },
          "metadata": {},
          "execution_count": 71
        },
        {
          "output_type": "display_data",
          "data": {
            "image/png": "[encoded data removed]",
            "text/plain": [
              "<Figure size 432x288 with 1 Axes>"
            ]
          },
          "metadata": {
            "needs_background": "light"
          }
        }
      ]
    },
    {
      "cell_type": "code",
      "metadata": {
        "colab": {
          "base_uri": "https://localhost:8080/",
          "height": 141
        },
        "id": "gq3CXncJkVb4",
        "outputId": "86c05fa4-ac87-4d20-bee6-fc5ea3fd69b9"
      },
      "source": [
        "learn.fit_one_cycle(3, slice(1e-2))"
      ],
      "execution_count": null,
      "outputs": [
        {
          "output_type": "display_data",
          "data": {
            "text/html": [
              "<table border=\"1\" class=\"dataframe\">\n",
              "  <thead>\n",
              "    <tr style=\"text-align: left;\">\n",
              "      <th>epoch</th>\n",
              "      <th>train_loss</th>\n",
              "      <th>valid_loss</th>\n",
              "      <th>accuracy</th>\n",
              "      <th>time</th>\n",
              "    </tr>\n",
              "  </thead>\n",
              "  <tbody>\n",
              "    <tr>\n",
              "      <td>0</td>\n",
              "      <td>0.463354</td>\n",
              "      <td>0.439704</td>\n",
              "      <td>0.824645</td>\n",
              "      <td>02:23</td>\n",
              "    </tr>\n",
              "    <tr>\n",
              "      <td>1</td>\n",
              "      <td>0.406408</td>\n",
              "      <td>0.337517</td>\n",
              "      <td>0.824645</td>\n",
              "      <td>02:25</td>\n",
              "    </tr>\n",
              "    <tr>\n",
              "      <td>2</td>\n",
              "      <td>0.352726</td>\n",
              "      <td>0.317878</td>\n",
              "      <td>0.824645</td>\n",
              "      <td>02:23</td>\n",
              "    </tr>\n",
              "  </tbody>\n",
              "</table>"
            ],
            "text/plain": [
              "<IPython.core.display.HTML object>"
            ]
          },
          "metadata": {}
        }
      ]
    },
    {
      "cell_type": "code",
      "metadata": {
        "id": "8LWOChtylxzA"
      },
      "source": [
        ""
      ],
      "execution_count": null,
      "outputs": []
    }
  ]
}