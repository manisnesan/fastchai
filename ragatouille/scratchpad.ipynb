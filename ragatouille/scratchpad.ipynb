{
 "cells": [
  {
   "cell_type": "code",
   "execution_count": 1,
   "metadata": {},
   "outputs": [],
   "source": [
    "## Basic indexing and search\n",
    "\n",
    "# pip install ragatouille\n",
    "# pip install rich\n",
    "# Source: https://github.com/bclavie/RAGatouille/blob/main/examples/01-basic_indexing_and_search.ipynb"
   ]
  },
  {
   "cell_type": "code",
   "execution_count": 31,
   "metadata": {},
   "outputs": [
    {
     "name": "stderr",
     "output_type": "stream",
     "text": [
      "/home/msivanes/miniconda3/envs/ragatouille/lib/python3.10/site-packages/torch/cuda/amp/grad_scaler.py:125: UserWarning: torch.cuda.amp.GradScaler is enabled, but CUDA is not available.  Disabling.\n",
      "  warnings.warn(\n"
     ]
    }
   ],
   "source": [
    "from ragatouille import RAGPretrainedModel, RAGTrainer\n",
    "from ragatouille.data import CorpusProcessor, llama_index_sentence_splitter\n",
    "from rich import inspect as rinspect\n",
    "\n",
    "model_name = \"colbert-ir/colbertv2.0\"\n",
    "RAG = RAGPretrainedModel.from_pretrained(model_name) # load a colBERT pretrained model from a checkpoint"
   ]
  },
  {
   "cell_type": "code",
   "execution_count": 11,
   "metadata": {},
   "outputs": [
    {
     "name": "stdout",
     "output_type": "stream",
     "text": [
      "Length of the doc : 45093\n"
     ]
    }
   ],
   "source": [
    "# Get a wikipedia page using requests module with title of the wikipedia page and return the full text context of page as raw string\n",
    "import requests\n",
    "\n",
    "def get_wikipedia_page(title):\n",
    "    url = f\"https://en.wikipedia.org/w/api.php\"\n",
    "    params = dict(action=\"query\", prop=\"extracts\", format=\"json\", titles=title, explaintext=True)\n",
    "    headers = {\"User-Agent\": \"RAG example (manisnesan@users.noreply.github.com)\"}\n",
    "    r = requests.get(url, params=params, headers=headers)\n",
    "    data = r.json()\n",
    "    page = next(iter(data[\"query\"][\"pages\"].values()))\n",
    "    return page[\"extract\"] if \"extract\" in page else \"\"\n",
    "\n",
    "title = \"Hayao_Miyazaki\"\n",
    "full_doc = get_wikipedia_page(title)\n",
    "print(f\"Length of the doc : {len(full_doc)}\")"
   ]
  },
  {
   "cell_type": "code",
   "execution_count": 18,
   "metadata": {},
   "outputs": [
    {
     "name": "stdout",
     "output_type": "stream",
     "text": [
      "\n",
      "\n",
      "[Jan 15, 20:14:44] #> Creating directory .ragatouille/colbert/indexes/Hayao_Miyazaki \n",
      "\n",
      "\n",
      "[Jan 15, 20:14:45] [0] \t\t #> Encoding 81 passages..\n"
     ]
    },
    {
     "name": "stderr",
     "output_type": "stream",
     "text": [
      "/home/msivanes/miniconda3/envs/ragatouille/lib/python3.10/site-packages/torch/cuda/amp/grad_scaler.py:125: UserWarning: torch.cuda.amp.GradScaler is enabled, but CUDA is not available.  Disabling.\n",
      "  warnings.warn(\n",
      "  0%|          | 0/2 [00:00<?, ?it/s]/home/msivanes/miniconda3/envs/ragatouille/lib/python3.10/site-packages/torch/amp/autocast_mode.py:250: UserWarning: User provided device_type of 'cuda', but CUDA is not available. Disabling\n",
      "  warnings.warn(\n",
      " 50%|█████     | 1/2 [00:29<00:29, 29.94s/it]/home/msivanes/miniconda3/envs/ragatouille/lib/python3.10/site-packages/torch/amp/autocast_mode.py:250: UserWarning: User provided device_type of 'cuda', but CUDA is not available. Disabling\n",
      "  warnings.warn(\n",
      "100%|██████████| 2/2 [00:38<00:00, 19.43s/it]"
     ]
    },
    {
     "name": "stdout",
     "output_type": "stream",
     "text": [
      "[Jan 15, 20:15:24] [0] \t\t avg_doclen_est = 129.9629669189453 \t len(local_sample) = 81\n",
      "[Jan 15, 20:15:24] [0] \t\t Creating 1,024 partitions.\n",
      "[Jan 15, 20:15:24] [0] \t\t *Estimated* 10,527 embeddings.\n",
      "[Jan 15, 20:15:24] [0] \t\t #> Saving the indexing plan to .ragatouille/colbert/indexes/Hayao_Miyazaki/plan.json ..\n"
     ]
    },
    {
     "name": "stderr",
     "output_type": "stream",
     "text": [
      "\n",
      "WARNING clustering 10001 points to 1024 centroids: please provide at least 39936 training points\n"
     ]
    },
    {
     "name": "stdout",
     "output_type": "stream",
     "text": [
      "Clustering 10001 points in 128D to 1024 clusters, redo 1 times, 20 iterations\n",
      "  Preprocessing in 0.00 s\n",
      "  Iteration 19 (2.47 s, search 2.38 s): objective=2113.62 imbalance=1.408 nsplit=0       \n",
      "[0.037, 0.039, 0.038, 0.033, 0.033, 0.036, 0.034, 0.036, 0.034, 0.032, 0.03, 0.036, 0.034, 0.037, 0.034, 0.034, 0.033, 0.032, 0.032, 0.036, 0.035, 0.033, 0.035, 0.037, 0.034, 0.033, 0.037, 0.034, 0.035, 0.037, 0.034, 0.034, 0.039, 0.034, 0.033, 0.033, 0.034, 0.034, 0.035, 0.04, 0.036, 0.034, 0.032, 0.034, 0.036, 0.032, 0.035, 0.036, 0.037, 0.033, 0.033, 0.034, 0.033, 0.038, 0.035, 0.035, 0.037, 0.036, 0.038, 0.03, 0.032, 0.034, 0.033, 0.034, 0.038, 0.035, 0.034, 0.035, 0.032, 0.032, 0.036, 0.034, 0.033, 0.033, 0.035, 0.034, 0.034, 0.037, 0.034, 0.034, 0.035, 0.039, 0.032, 0.039, 0.029, 0.034, 0.037, 0.036, 0.034, 0.041, 0.035, 0.035, 0.034, 0.036, 0.034, 0.036, 0.038, 0.034, 0.036, 0.034, 0.039, 0.037, 0.035, 0.034, 0.038, 0.034, 0.037, 0.032, 0.034, 0.034, 0.035, 0.035, 0.036, 0.031, 0.034, 0.036, 0.033, 0.036, 0.036, 0.035, 0.033, 0.031, 0.031, 0.037, 0.031, 0.04, 0.036, 0.035]\n"
     ]
    },
    {
     "name": "stderr",
     "output_type": "stream",
     "text": [
      "0it [00:00, ?it/s]"
     ]
    },
    {
     "name": "stdout",
     "output_type": "stream",
     "text": [
      "[Jan 15, 20:15:27] [0] \t\t #> Encoding 81 passages..\n"
     ]
    },
    {
     "name": "stderr",
     "output_type": "stream",
     "text": [
      "100%|██████████| 2/2 [00:37<00:00, 18.97s/it]\n",
      "1it [00:38, 38.21s/it]\n",
      "100%|██████████| 1/1 [00:00<00:00, 688.15it/s]"
     ]
    },
    {
     "name": "stdout",
     "output_type": "stream",
     "text": [
      "[Jan 15, 20:16:05] #> Optimizing IVF to store map from centroids to list of pids..\n",
      "[Jan 15, 20:16:05] #> Building the emb2pid mapping..\n",
      "[Jan 15, 20:16:05] len(emb2pid) = 10527\n"
     ]
    },
    {
     "name": "stderr",
     "output_type": "stream",
     "text": [
      "\n",
      "100%|██████████| 1024/1024 [00:00<00:00, 29982.53it/s]\n"
     ]
    },
    {
     "name": "stdout",
     "output_type": "stream",
     "text": [
      "[Jan 15, 20:16:05] #> Saved optimized IVF to .ragatouille/colbert/indexes/Hayao_Miyazaki/ivf.pid.pt\n",
      "Done indexing!\n"
     ]
    }
   ],
   "source": [
    "# Index the document into a collection with the title as the index name and max_document_length as 180, split the document into chunks of 180 tokens\n",
    "# splitting the document into chunks of 180 tokens is the default behaviour of RAG \n",
    "RAG.index(collection=[full_doc], index_name=title, max_document_length=180) "
   ]
  },
  {
   "cell_type": "code",
   "execution_count": 23,
   "metadata": {},
   "outputs": [
    {
     "name": "stdout",
     "output_type": "stream",
     "text": [
      "New index_name received! Updating current index_name (Hayao_Miyazaki) to Hayao_Miyazaki\n",
      "Loading searcher for index Hayao_Miyazaki for the first time... This may take a few seconds\n",
      "[Jan 15, 20:22:09] #> Loading codec...\n",
      "[Jan 15, 20:22:09] #> Loading IVF...\n",
      "[Jan 15, 20:22:10] Loading segmented_lookup_cpp extension (set COLBERT_LOAD_TORCH_EXTENSION_VERBOSE=True for more info)...\n"
     ]
    },
    {
     "name": "stderr",
     "output_type": "stream",
     "text": [
      "/home/msivanes/miniconda3/envs/ragatouille/lib/python3.10/site-packages/torch/cuda/amp/grad_scaler.py:125: UserWarning: torch.cuda.amp.GradScaler is enabled, but CUDA is not available.  Disabling.\n",
      "  warnings.warn(\n"
     ]
    },
    {
     "name": "stdout",
     "output_type": "stream",
     "text": [
      "[Jan 15, 20:23:02] #> Loading doclens...\n"
     ]
    },
    {
     "name": "stderr",
     "output_type": "stream",
     "text": [
      "100%|██████████| 1/1 [00:00<00:00, 1249.79it/s]"
     ]
    },
    {
     "name": "stdout",
     "output_type": "stream",
     "text": [
      "[Jan 15, 20:23:02] #> Loading codes and residuals...\n"
     ]
    },
    {
     "name": "stderr",
     "output_type": "stream",
     "text": [
      "\n",
      "100%|██████████| 1/1 [00:00<00:00, 113.34it/s]"
     ]
    },
    {
     "name": "stdout",
     "output_type": "stream",
     "text": [
      "[Jan 15, 20:23:02] Loading filter_pids_cpp extension (set COLBERT_LOAD_TORCH_EXTENSION_VERBOSE=True for more info)...\n"
     ]
    },
    {
     "name": "stderr",
     "output_type": "stream",
     "text": [
      "\n"
     ]
    },
    {
     "name": "stdout",
     "output_type": "stream",
     "text": [
      "[Jan 15, 20:23:51] Loading decompress_residuals_cpp extension (set COLBERT_LOAD_TORCH_EXTENSION_VERBOSE=True for more info)...\n",
      "Searcher loaded!\n",
      "\n",
      "#> QueryTokenizer.tensorize(batch_text[0], batch_background[0], bsize) ==\n",
      "#> Input: . What animation studio did Miyazaki found?, \t\t True, \t\t None\n",
      "#> Output IDs: torch.Size([32]), tensor([  101,     1,  2054,  7284,  2996,  2106,  2771,  3148, 18637,  2179,\n",
      "         1029,   102,   103,   103,   103,   103,   103,   103,   103,   103,\n",
      "          103,   103,   103,   103,   103,   103,   103,   103,   103,   103,\n",
      "          103,   103])\n",
      "#> Output Mask: torch.Size([32]), tensor([1, 1, 1, 1, 1, 1, 1, 1, 1, 1, 1, 1, 0, 0, 0, 0, 0, 0, 0, 0, 0, 0, 0, 0,\n",
      "        0, 0, 0, 0, 0, 0, 0, 0])\n",
      "\n"
     ]
    },
    {
     "name": "stderr",
     "output_type": "stream",
     "text": [
      "/home/msivanes/miniconda3/envs/ragatouille/lib/python3.10/site-packages/torch/amp/autocast_mode.py:250: UserWarning: User provided device_type of 'cuda', but CUDA is not available. Disabling\n",
      "  warnings.warn(\n"
     ]
    },
    {
     "data": {
      "text/plain": [
       "[{'content': 'In April 1984, Miyazaki opened his own office in Suginami Ward, naming it Nibariki.\\n\\n\\n=== Studio Ghibli ===\\n\\n\\n==== Early films (1985–1996) ====\\nIn June 1985, Miyazaki, Takahata, Tokuma and Suzuki founded the animation production company Studio Ghibli, with funding from Tokuma Shoten. Studio Ghibli\\'s first film, Laputa: Castle in the Sky (1986), employed the same production crew of Nausicaä. Miyazaki\\'s designs for the film\\'s setting were inspired by Greek architecture and \"European urbanistic templates\".',\n",
       "  'score': 25.90499496459961,\n",
       "  'rank': 1},\n",
       " {'content': 'Hayao Miyazaki (宮崎 駿 or 宮﨑 駿, Miyazaki Hayao, [mijaꜜzaki hajao]; born January 5, 1941) is a Japanese animator, filmmaker, and manga artist. A co-founder of Studio Ghibli, he has attained international acclaim as a masterful storyteller and creator of Japanese animated feature films, and is widely regarded as one of the most accomplished filmmakers in the history of animation.\\nBorn in Tokyo City in the Empire of Japan, Miyazaki expressed interest in manga and animation from an early age, and he joined Toei Animation in 1963. During his early years at Toei Animation he worked as an in-between artist and later collaborated with director Isao Takahata.',\n",
       "  'score': 25.475666046142578,\n",
       "  'rank': 2},\n",
       " {'content': 'Glen Keane said Miyazaki is a \"huge influence\" on Walt Disney Animation Studios and has been \"part of our heritage\" ever since The Rescuers Down Under (1990). The Disney Renaissance era was also prompted by competition with the development of Miyazaki\\'s films. Artists from Pixar and Aardman Studios signed a tribute stating, \"You\\'re our inspiration, Miyazaki-san!\"',\n",
       "  'score': 24.844501495361328,\n",
       "  'rank': 3}]"
      ]
     },
     "execution_count": 23,
     "metadata": {},
     "output_type": "execute_result"
    }
   ],
   "source": [
    "k = 3\n",
    "results = RAG.search(query=\"What animation studio did Miyazaki found?\", k=k, index_name=title)\n",
    "results"
   ]
  },
  {
   "cell_type": "code",
   "execution_count": 25,
   "metadata": {},
   "outputs": [
    {
     "name": "stderr",
     "output_type": "stream",
     "text": [
      "/home/msivanes/miniconda3/envs/ragatouille/lib/python3.10/site-packages/torch/amp/autocast_mode.py:250: UserWarning: User provided device_type of 'cuda', but CUDA is not available. Disabling\n",
      "  warnings.warn(\n"
     ]
    },
    {
     "data": {
      "text/plain": [
       "[{'content': 'Hayao Miyazaki (宮崎 駿 or 宮﨑 駿, Miyazaki Hayao, [mijaꜜzaki hajao]; born January 5, 1941) is a Japanese animator, filmmaker, and manga artist. A co-founder of Studio Ghibli, he has attained international acclaim as a masterful storyteller and creator of Japanese animated feature films, and is widely regarded as one of the most accomplished filmmakers in the history of animation.\\nBorn in Tokyo City in the Empire of Japan, Miyazaki expressed interest in manga and animation from an early age, and he joined Toei Animation in 1963. During his early years at Toei Animation he worked as an in-between artist and later collaborated with director Isao Takahata.',\n",
       "  'score': 28.410186767578125,\n",
       "  'rank': 1},\n",
       " {'content': 'Paste\\'s Toussaint Egan described Miyazaki as \"one of anime\\'s great auteurs\", whose \"stories of such singular thematic vision and unmistakable aesthetic\" captured viewers otherwise unfamiliar with anime. Miyazaki became the subject of an exhibit at the Academy Museum of Motion Pictures in Los Angeles in 2021, featuring over 400 objects from his films.Miyazaki has frequently been cited as an inspiration to numerous animators, directors and writers around the world, including Wes Anderson, James Cameron, Dean DeBlois, Guillermo del Toro, Pete Docter, Mamoru Hosoda, Bong Joon-Ho, Travis Knight, John Lasseter, Nick Park, Henry Selick, Makoto Shinkai, and Steven Spielberg.',\n",
       "  'score': 26.265317916870117,\n",
       "  'rank': 2},\n",
       " {'content': 'Richard James Havis of South China Morning Post called him a \"genius ... who sets exacting standards for himself, his peers and studio staff\". Paste\\'s Toussaint Egan described Miyazaki as \"one of anime\\'s great auteurs\", whose \"stories of such singular thematic vision and unmistakable aesthetic\" captured viewers otherwise unfamiliar with anime.',\n",
       "  'score': 26.000980377197266,\n",
       "  'rank': 3}]"
      ]
     },
     "execution_count": 25,
     "metadata": {},
     "output_type": "execute_result"
    }
   ],
   "source": [
    "results = RAG.search(query=\"Who is Miyazaki?\", k=k, index_name=title)\n",
    "results"
   ]
  },
  {
   "cell_type": "code",
   "execution_count": 27,
   "metadata": {},
   "outputs": [
    {
     "name": "stderr",
     "output_type": "stream",
     "text": [
      "/home/msivanes/miniconda3/envs/ragatouille/lib/python3.10/site-packages/torch/amp/autocast_mode.py:250: UserWarning: User provided device_type of 'cuda', but CUDA is not available. Disabling\n",
      "  warnings.warn(\n"
     ]
    },
    {
     "data": {
      "text/plain": [
       "[{'content': \"The protagonists of his films are often strong girls or young women, and several of his films present morally ambiguous antagonists with redeeming qualities. Miyazaki's works have been highly praised and awarded; he was named a Person of Cultural Merit for outstanding cultural contributions in November 2012, and received the Academy Honorary Award for his impact on animation and cinema in November 2014. Miyazaki has frequently been cited as an inspiration for numerous animators, directors, and writers.\\n\\n\\n== Early life ==\\nHayao Miyazaki was born on January 5, 1941, in Tokyo City, Empire of Japan, the second of four sons.\",\n",
       "  'score': 24.584861755371094,\n",
       "  'rank': 1},\n",
       " {'content': \"During his early years at Toei Animation he worked as an in-between artist and later collaborated with director Isao Takahata. Notable films to which Miyazaki contributed at Toei include Doggie March and Gulliver's Travels Beyond the Moon. He provided key animation to other films at Toei, such as Puss in Boots and Animal Treasure Island, before moving to A-Pro in 1971, where he co-directed Lupin the Third Part I alongside Takahata. After moving to Zuiyō Eizō (later known as Nippon Animation) in 1973, Miyazaki worked as an animator on World Masterpiece Theater, and directed the television series Future Boy Conan (1978).\",\n",
       "  'score': 23.91107177734375,\n",
       "  'rank': 2},\n",
       " {'content': 'Hayao Miyazaki (宮崎 駿 or 宮﨑 駿, Miyazaki Hayao, [mijaꜜzaki hajao]; born January 5, 1941) is a Japanese animator, filmmaker, and manga artist. A co-founder of Studio Ghibli, he has attained international acclaim as a masterful storyteller and creator of Japanese animated feature films, and is widely regarded as one of the most accomplished filmmakers in the history of animation.\\nBorn in Tokyo City in the Empire of Japan, Miyazaki expressed interest in manga and animation from an early age, and he joined Toei Animation in 1963. During his early years at Toei Animation he worked as an in-between artist and later collaborated with director Isao Takahata.',\n",
       "  'score': 23.004398345947266,\n",
       "  'rank': 3}]"
      ]
     },
     "execution_count": 27,
     "metadata": {},
     "output_type": "execute_result"
    }
   ],
   "source": [
    "results = RAG.search(query=\"What are Miyazaki contributions?\", k=k, index_name=title)\n",
    "results\n"
   ]
  },
  {
   "cell_type": "code",
   "execution_count": 29,
   "metadata": {},
   "outputs": [
    {
     "name": "stderr",
     "output_type": "stream",
     "text": [
      "/home/msivanes/miniconda3/envs/ragatouille/lib/python3.10/site-packages/torch/cuda/amp/grad_scaler.py:125: UserWarning: torch.cuda.amp.GradScaler is enabled, but CUDA is not available.  Disabling.\n",
      "  warnings.warn(\n"
     ]
    }
   ],
   "source": [
    "# load an already created index\n",
    "path_to_index=f\".ragatouille/colbert/indexes/{title}/\"\n",
    "RAG = RAGPretrainedModel.from_index(path_to_index)"
   ]
  },
  {
   "cell_type": "code",
   "execution_count": 22,
   "metadata": {},
   "outputs": [
    {
     "data": {
      "text/html": [
       "<pre style=\"white-space:pre;overflow-x:auto;line-height:normal;font-family:Menlo,'DejaVu Sans Mono',consolas,'Courier New',monospace\"><span style=\"color: #000080; text-decoration-color: #000080\">╭─ </span><span style=\"color: #000080; text-decoration-color: #000080; font-weight: bold\">&lt;</span><span style=\"color: #ff00ff; text-decoration-color: #ff00ff; font-weight: bold\">bound</span><span style=\"color: #000000; text-decoration-color: #000000\"> method RAGPretrainedModel.search of &lt;ragatouille.RAGPretrainedModel.RAGPretrainedModel object at </span><span style=\"color: #008080; text-decoration-color: #008080; font-weight: bold\">0x7f9f</span><span style=\"color: #000080; text-decoration-color: #000080\">─╮</span>\n",
       "<span style=\"color: #000080; text-decoration-color: #000080\">│</span> <span style=\"color: #00ffff; text-decoration-color: #00ffff; font-style: italic\">def </span><span style=\"color: #800000; text-decoration-color: #800000; font-weight: bold\">RAGPretrainedModel.search</span><span style=\"font-weight: bold\">(</span>query: Union<span style=\"font-weight: bold\">[</span>str, list<span style=\"font-weight: bold\">[</span>str<span style=\"font-weight: bold\">]]</span>, index_name: Optional<span style=\"font-weight: bold\">[</span><span style=\"color: #800080; text-decoration-color: #800080; font-weight: bold\">ForwardRef</span><span style=\"font-weight: bold\">(</span><span style=\"color: #008000; text-decoration-color: #008000\">'str'</span><span style=\"font-weight: bold\">)]</span> = <span style=\"color: #800080; text-decoration-color: #800080; font-style: italic\">None</span>, k:  <span style=\"color: #000080; text-decoration-color: #000080\">│</span>\n",
       "<span style=\"color: #000080; text-decoration-color: #000080\">│</span> int = <span style=\"color: #008080; text-decoration-color: #008080; font-weight: bold\">10</span>, force_fast: bool = <span style=\"color: #ff0000; text-decoration-color: #ff0000; font-style: italic\">False</span>, zero_index_ranks: bool = <span style=\"color: #ff0000; text-decoration-color: #ff0000; font-style: italic\">False</span>, **kwargs<span style=\"font-weight: bold\">)</span>:                                  <span style=\"color: #000080; text-decoration-color: #000080\">│</span>\n",
       "<span style=\"color: #000080; text-decoration-color: #000080\">│</span>                                                                                                                 <span style=\"color: #000080; text-decoration-color: #000080\">│</span>\n",
       "<span style=\"color: #000080; text-decoration-color: #000080\">│</span> <span style=\"color: #008080; text-decoration-color: #008080\">Query an index.</span>                                                                                                 <span style=\"color: #000080; text-decoration-color: #000080\">│</span>\n",
       "<span style=\"color: #000080; text-decoration-color: #000080\">│</span>                                                                                                                 <span style=\"color: #000080; text-decoration-color: #000080\">│</span>\n",
       "<span style=\"color: #000080; text-decoration-color: #000080\">│</span> <span style=\"color: #008080; text-decoration-color: #008080; font-weight: bold\">27</span><span style=\"font-style: italic\"> attribute(s) not shown.</span> Run <span style=\"color: #800080; text-decoration-color: #800080; font-weight: bold\">inspect</span><span style=\"font-weight: bold\">(</span>inspect<span style=\"font-weight: bold\">)</span> for options.                                                    <span style=\"color: #000080; text-decoration-color: #000080\">│</span>\n",
       "<span style=\"color: #000080; text-decoration-color: #000080\">╰─────────────────────────────────────────────────────────────────────────────────────────────────────────────────╯</span>\n",
       "</pre>\n"
      ],
      "text/plain": [
       "\u001b[34m╭─\u001b[0m\u001b[34m \u001b[0m\u001b[1;34m<\u001b[0m\u001b[1;95mbound\u001b[0m\u001b[39m method RAGPretrainedModel.search of <ragatouille.RAGPretrainedModel.RAGPretrainedModel object at \u001b[0m\u001b[1;36m0x7f9f\u001b[0m\u001b[34m─╮\u001b[0m\n",
       "\u001b[34m│\u001b[0m \u001b[3;96mdef \u001b[0m\u001b[1;31mRAGPretrainedModel.search\u001b[0m\u001b[1m(\u001b[0mquery: Union\u001b[1m[\u001b[0mstr, list\u001b[1m[\u001b[0mstr\u001b[1m]\u001b[0m\u001b[1m]\u001b[0m, index_name: Optional\u001b[1m[\u001b[0m\u001b[1;35mForwardRef\u001b[0m\u001b[1m(\u001b[0m\u001b[32m'str'\u001b[0m\u001b[1m)\u001b[0m\u001b[1m]\u001b[0m = \u001b[3;35mNone\u001b[0m, k:  \u001b[34m│\u001b[0m\n",
       "\u001b[34m│\u001b[0m int = \u001b[1;36m10\u001b[0m, force_fast: bool = \u001b[3;91mFalse\u001b[0m, zero_index_ranks: bool = \u001b[3;91mFalse\u001b[0m, **kwargs\u001b[1m)\u001b[0m:                                  \u001b[34m│\u001b[0m\n",
       "\u001b[34m│\u001b[0m                                                                                                                 \u001b[34m│\u001b[0m\n",
       "\u001b[34m│\u001b[0m \u001b[36mQuery an index.\u001b[0m                                                                                                 \u001b[34m│\u001b[0m\n",
       "\u001b[34m│\u001b[0m                                                                                                                 \u001b[34m│\u001b[0m\n",
       "\u001b[34m│\u001b[0m \u001b[1;36m27\u001b[0m\u001b[3m attribute(s) not shown.\u001b[0m Run \u001b[1;35minspect\u001b[0m\u001b[1m(\u001b[0minspect\u001b[1m)\u001b[0m for options.                                                    \u001b[34m│\u001b[0m\n",
       "\u001b[34m╰─────────────────────────────────────────────────────────────────────────────────────────────────────────────────╯\u001b[0m\n"
      ]
     },
     "metadata": {},
     "output_type": "display_data"
    }
   ],
   "source": [
    "rinspect(RAG.search) "
   ]
  },
  {
   "cell_type": "code",
   "execution_count": 17,
   "metadata": {},
   "outputs": [
    {
     "data": {
      "text/html": [
       "<pre style=\"white-space:pre;overflow-x:auto;line-height:normal;font-family:Menlo,'DejaVu Sans Mono',consolas,'Courier New',monospace\"><span style=\"color: #000080; text-decoration-color: #000080\">╭─ </span><span style=\"color: #000080; text-decoration-color: #000080; font-weight: bold\">&lt;</span><span style=\"color: #ff00ff; text-decoration-color: #ff00ff; font-weight: bold\">bound</span><span style=\"color: #000000; text-decoration-color: #000000\"> method RAGPretrainedModel.index of &lt;ragatouille.RAGPretrainedModel.RAGPretrainedModel object at </span><span style=\"color: #008080; text-decoration-color: #008080; font-weight: bold\">0x7f9f5</span><span style=\"color: #000080; text-decoration-color: #000080\">─╮</span>\n",
       "<span style=\"color: #000080; text-decoration-color: #000080\">│</span> <span style=\"color: #00ffff; text-decoration-color: #00ffff; font-style: italic\">def </span><span style=\"color: #800000; text-decoration-color: #800000; font-weight: bold\">RAGPretrainedModel.index</span><span style=\"font-weight: bold\">(</span>collection: list<span style=\"font-weight: bold\">[</span>str<span style=\"font-weight: bold\">]</span>, index_name: str = <span style=\"color: #800080; text-decoration-color: #800080; font-style: italic\">None</span>, overwrite_index: bool = <span style=\"color: #00ff00; text-decoration-color: #00ff00; font-style: italic\">True</span>,       <span style=\"color: #000080; text-decoration-color: #000080\">│</span>\n",
       "<span style=\"color: #000080; text-decoration-color: #000080\">│</span> max_document_length: int = <span style=\"color: #008080; text-decoration-color: #008080; font-weight: bold\">256</span>, split_documents: bool = <span style=\"color: #00ff00; text-decoration-color: #00ff00; font-style: italic\">True</span>, document_splitter_fn: Optional<span style=\"font-weight: bold\">[</span>Callable<span style=\"font-weight: bold\">]</span> =        <span style=\"color: #000080; text-decoration-color: #000080\">│</span>\n",
       "<span style=\"color: #000080; text-decoration-color: #000080\">│</span> <span style=\"font-weight: bold\">&lt;</span><span style=\"color: #ff00ff; text-decoration-color: #ff00ff; font-weight: bold\">function</span><span style=\"color: #000000; text-decoration-color: #000000\"> llama_index_sentence_splitter at </span><span style=\"color: #008080; text-decoration-color: #008080; font-weight: bold\">0x7fa02a5b6200</span><span style=\"font-weight: bold\">&gt;</span>, preprocessing_fn: Union<span style=\"font-weight: bold\">[</span>Callable, list<span style=\"font-weight: bold\">[</span>Callable<span style=\"font-weight: bold\">]</span>,   <span style=\"color: #000080; text-decoration-color: #000080\">│</span>\n",
       "<span style=\"color: #000080; text-decoration-color: #000080\">│</span> NoneType<span style=\"font-weight: bold\">]</span> = <span style=\"color: #800080; text-decoration-color: #800080; font-style: italic\">None</span><span style=\"font-weight: bold\">)</span>:                                                                                              <span style=\"color: #000080; text-decoration-color: #000080\">│</span>\n",
       "<span style=\"color: #000080; text-decoration-color: #000080\">│</span>                                                                                                                 <span style=\"color: #000080; text-decoration-color: #000080\">│</span>\n",
       "<span style=\"color: #000080; text-decoration-color: #000080\">│</span> <span style=\"color: #008080; text-decoration-color: #008080\">Build an index from a collection of documents.</span>                                                                  <span style=\"color: #000080; text-decoration-color: #000080\">│</span>\n",
       "<span style=\"color: #000080; text-decoration-color: #000080\">│</span>                                                                                                                 <span style=\"color: #000080; text-decoration-color: #000080\">│</span>\n",
       "<span style=\"color: #000080; text-decoration-color: #000080\">│</span> <span style=\"color: #008080; text-decoration-color: #008080; font-weight: bold\">27</span><span style=\"font-style: italic\"> attribute(s) not shown.</span> Run <span style=\"color: #800080; text-decoration-color: #800080; font-weight: bold\">inspect</span><span style=\"font-weight: bold\">(</span>inspect<span style=\"font-weight: bold\">)</span> for options.                                                    <span style=\"color: #000080; text-decoration-color: #000080\">│</span>\n",
       "<span style=\"color: #000080; text-decoration-color: #000080\">╰─────────────────────────────────────────────────────────────────────────────────────────────────────────────────╯</span>\n",
       "</pre>\n"
      ],
      "text/plain": [
       "\u001b[34m╭─\u001b[0m\u001b[34m \u001b[0m\u001b[1;34m<\u001b[0m\u001b[1;95mbound\u001b[0m\u001b[39m method RAGPretrainedModel.index of <ragatouille.RAGPretrainedModel.RAGPretrainedModel object at \u001b[0m\u001b[1;36m0x7f9f5\u001b[0m\u001b[34m─╮\u001b[0m\n",
       "\u001b[34m│\u001b[0m \u001b[3;96mdef \u001b[0m\u001b[1;31mRAGPretrainedModel.index\u001b[0m\u001b[1m(\u001b[0mcollection: list\u001b[1m[\u001b[0mstr\u001b[1m]\u001b[0m, index_name: str = \u001b[3;35mNone\u001b[0m, overwrite_index: bool = \u001b[3;92mTrue\u001b[0m,       \u001b[34m│\u001b[0m\n",
       "\u001b[34m│\u001b[0m max_document_length: int = \u001b[1;36m256\u001b[0m, split_documents: bool = \u001b[3;92mTrue\u001b[0m, document_splitter_fn: Optional\u001b[1m[\u001b[0mCallable\u001b[1m]\u001b[0m =        \u001b[34m│\u001b[0m\n",
       "\u001b[34m│\u001b[0m \u001b[1m<\u001b[0m\u001b[1;95mfunction\u001b[0m\u001b[39m llama_index_sentence_splitter at \u001b[0m\u001b[1;36m0x7fa02a5b6200\u001b[0m\u001b[1m>\u001b[0m, preprocessing_fn: Union\u001b[1m[\u001b[0mCallable, list\u001b[1m[\u001b[0mCallable\u001b[1m]\u001b[0m,   \u001b[34m│\u001b[0m\n",
       "\u001b[34m│\u001b[0m NoneType\u001b[1m]\u001b[0m = \u001b[3;35mNone\u001b[0m\u001b[1m)\u001b[0m:                                                                                              \u001b[34m│\u001b[0m\n",
       "\u001b[34m│\u001b[0m                                                                                                                 \u001b[34m│\u001b[0m\n",
       "\u001b[34m│\u001b[0m \u001b[36mBuild an index from a collection of documents.\u001b[0m                                                                  \u001b[34m│\u001b[0m\n",
       "\u001b[34m│\u001b[0m                                                                                                                 \u001b[34m│\u001b[0m\n",
       "\u001b[34m│\u001b[0m \u001b[1;36m27\u001b[0m\u001b[3m attribute(s) not shown.\u001b[0m Run \u001b[1;35minspect\u001b[0m\u001b[1m(\u001b[0minspect\u001b[1m)\u001b[0m for options.                                                    \u001b[34m│\u001b[0m\n",
       "\u001b[34m╰─────────────────────────────────────────────────────────────────────────────────────────────────────────────────╯\u001b[0m\n"
      ]
     },
     "metadata": {},
     "output_type": "display_data"
    }
   ],
   "source": [
    "rinspect(RAG.index)"
   ]
  },
  {
   "cell_type": "code",
   "execution_count": 14,
   "metadata": {},
   "outputs": [
    {
     "data": {
      "text/html": [
       "<pre style=\"white-space:pre;overflow-x:auto;line-height:normal;font-family:Menlo,'DejaVu Sans Mono',consolas,'Courier New',monospace\"><span style=\"color: #000080; text-decoration-color: #000080\">╭────────────────────────── </span><span style=\"color: #000080; text-decoration-color: #000080; font-weight: bold\">&lt;</span><span style=\"color: #ff00ff; text-decoration-color: #ff00ff; font-weight: bold\">class</span><span style=\"color: #000000; text-decoration-color: #000000\"> </span><span style=\"color: #008000; text-decoration-color: #008000\">'ragatouille.RAGPretrainedModel.RAGPretrainedModel'</span><span style=\"color: #000080; text-decoration-color: #000080; font-weight: bold\">&gt;</span><span style=\"color: #000080; text-decoration-color: #000080\"> ──────────────────────────╮</span>\n",
       "<span style=\"color: #000080; text-decoration-color: #000080\">│</span> <span style=\"color: #008080; text-decoration-color: #008080\">Wrapper class for a pretrained RAG late-interaction model, and all the associated utilities.</span>                    <span style=\"color: #000080; text-decoration-color: #000080\">│</span>\n",
       "<span style=\"color: #000080; text-decoration-color: #000080\">│</span> <span style=\"color: #008080; text-decoration-color: #008080\">Allows you to load a pretrained model from disk or from the hub, build or query an index.</span>                       <span style=\"color: #000080; text-decoration-color: #000080\">│</span>\n",
       "<span style=\"color: #000080; text-decoration-color: #000080\">│</span>                                                                                                                 <span style=\"color: #000080; text-decoration-color: #000080\">│</span>\n",
       "<span style=\"color: #000080; text-decoration-color: #000080\">│</span> <span style=\"color: #008000; text-decoration-color: #008000\">╭─────────────────────────────────────────────────────────────────────────────────────────────────────────────╮</span> <span style=\"color: #000080; text-decoration-color: #000080\">│</span>\n",
       "<span style=\"color: #000080; text-decoration-color: #000080\">│</span> <span style=\"color: #008000; text-decoration-color: #008000\">│</span> <span style=\"font-weight: bold\">&lt;</span><span style=\"color: #ff00ff; text-decoration-color: #ff00ff; font-weight: bold\">ragatouille.RAGPretrainedModel.RAGPretrainedModel</span><span style=\"color: #000000; text-decoration-color: #000000\"> object at </span><span style=\"color: #008080; text-decoration-color: #008080; font-weight: bold\">0x7f9f56b903a0</span><span style=\"font-weight: bold\">&gt;</span>                                <span style=\"color: #008000; text-decoration-color: #008000\">│</span> <span style=\"color: #000080; text-decoration-color: #000080\">│</span>\n",
       "<span style=\"color: #000080; text-decoration-color: #000080\">│</span> <span style=\"color: #008000; text-decoration-color: #008000\">╰─────────────────────────────────────────────────────────────────────────────────────────────────────────────╯</span> <span style=\"color: #000080; text-decoration-color: #000080\">│</span>\n",
       "<span style=\"color: #000080; text-decoration-color: #000080\">│</span>                                                                                                                 <span style=\"color: #000080; text-decoration-color: #000080\">│</span>\n",
       "<span style=\"color: #000080; text-decoration-color: #000080\">│</span>                 <span style=\"color: #808000; text-decoration-color: #808000; font-style: italic\">corpus_processor</span> = <span style=\"color: #800080; text-decoration-color: #800080; font-style: italic\">None</span>                                                                         <span style=\"color: #000080; text-decoration-color: #000080\">│</span>\n",
       "<span style=\"color: #000080; text-decoration-color: #000080\">│</span>                            <span style=\"color: #808000; text-decoration-color: #808000; font-style: italic\">model</span> = <span style=\"font-weight: bold\">&lt;</span><span style=\"color: #ff00ff; text-decoration-color: #ff00ff; font-weight: bold\">ragatouille.models.colbert.ColBERT</span><span style=\"color: #000000; text-decoration-color: #000000\"> object at </span><span style=\"color: #008080; text-decoration-color: #008080; font-weight: bold\">0x7f9f56b910f0</span><span style=\"font-weight: bold\">&gt;</span>                <span style=\"color: #000080; text-decoration-color: #000080\">│</span>\n",
       "<span style=\"color: #000080; text-decoration-color: #000080\">│</span>                       <span style=\"color: #808000; text-decoration-color: #808000; font-style: italic\">model_name</span> = <span style=\"color: #800080; text-decoration-color: #800080; font-style: italic\">None</span>                                                                         <span style=\"color: #000080; text-decoration-color: #000080\">│</span>\n",
       "<span style=\"color: #000080; text-decoration-color: #000080\">│</span>                     <span style=\"color: #808000; text-decoration-color: #808000; font-style: italic\">add_to_index</span> = <span style=\"color: #00ffff; text-decoration-color: #00ffff; font-style: italic\">def </span><span style=\"color: #800000; text-decoration-color: #800000; font-weight: bold\">add_to_index</span><span style=\"font-weight: bold\">(</span>new_documents: list<span style=\"font-weight: bold\">[</span>str<span style=\"font-weight: bold\">]</span>, index_name: Optional<span style=\"font-weight: bold\">[</span>str<span style=\"font-weight: bold\">]</span> = <span style=\"color: #800080; text-decoration-color: #800080; font-style: italic\">None</span>, <span style=\"color: #000080; text-decoration-color: #000080\">│</span>\n",
       "<span style=\"color: #000080; text-decoration-color: #000080\">│</span>                                    split_documents: bool = <span style=\"color: #00ff00; text-decoration-color: #00ff00; font-style: italic\">True</span>, document_splitter_fn: Optional<span style=\"font-weight: bold\">[</span>Callable<span style=\"font-weight: bold\">]</span> =     <span style=\"color: #000080; text-decoration-color: #000080\">│</span>\n",
       "<span style=\"color: #000080; text-decoration-color: #000080\">│</span>                                    <span style=\"font-weight: bold\">&lt;</span><span style=\"color: #ff00ff; text-decoration-color: #ff00ff; font-weight: bold\">function</span><span style=\"color: #000000; text-decoration-color: #000000\"> llama_index_sentence_splitter at </span><span style=\"color: #008080; text-decoration-color: #008080; font-weight: bold\">0x7fa02a5b6200</span><span style=\"font-weight: bold\">&gt;</span>,                  <span style=\"color: #000080; text-decoration-color: #000080\">│</span>\n",
       "<span style=\"color: #000080; text-decoration-color: #000080\">│</span>                                    preprocessing_fn: Union<span style=\"font-weight: bold\">[</span>Callable, list<span style=\"font-weight: bold\">[</span>Callable<span style=\"font-weight: bold\">]</span>, NoneType<span style=\"font-weight: bold\">]</span> = <span style=\"color: #800080; text-decoration-color: #800080; font-style: italic\">None</span><span style=\"font-weight: bold\">)</span>: <span style=\"color: #7f7f7f; text-decoration-color: #7f7f7f\">Add </span>    <span style=\"color: #000080; text-decoration-color: #000080\">│</span>\n",
       "<span style=\"color: #000080; text-decoration-color: #000080\">│</span>                                    <span style=\"color: #7f7f7f; text-decoration-color: #7f7f7f\">documents to an existing index.</span>                                              <span style=\"color: #000080; text-decoration-color: #000080\">│</span>\n",
       "<span style=\"color: #000080; text-decoration-color: #000080\">│</span> <span style=\"color: #808000; text-decoration-color: #808000; font-style: italic\">as_langchain_document_compressor</span> = <span style=\"color: #00ffff; text-decoration-color: #00ffff; font-style: italic\">def </span><span style=\"color: #800000; text-decoration-color: #800000; font-weight: bold\">as_langchain_document_compressor</span><span style=\"font-weight: bold\">(</span>k: int = <span style=\"color: #008080; text-decoration-color: #008080; font-weight: bold\">5</span>, **kwargs: Any<span style=\"font-weight: bold\">)</span> -&gt;           <span style=\"color: #000080; text-decoration-color: #000080\">│</span>\n",
       "<span style=\"color: #000080; text-decoration-color: #000080\">│</span>                                    langchain.retrievers.document_compressors.base.BaseDocumentCompressor:       <span style=\"color: #000080; text-decoration-color: #000080\">│</span>\n",
       "<span style=\"color: #000080; text-decoration-color: #000080\">│</span>           <span style=\"color: #808000; text-decoration-color: #808000; font-style: italic\">as_langchain_retriever</span> = <span style=\"color: #00ffff; text-decoration-color: #00ffff; font-style: italic\">def </span><span style=\"color: #800000; text-decoration-color: #800000; font-weight: bold\">as_langchain_retriever</span><span style=\"font-weight: bold\">(</span>**kwargs: Any<span style=\"font-weight: bold\">)</span> -&gt;                                 <span style=\"color: #000080; text-decoration-color: #000080\">│</span>\n",
       "<span style=\"color: #000080; text-decoration-color: #000080\">│</span>                                    langchain_core.retrievers.BaseRetriever:                                     <span style=\"color: #000080; text-decoration-color: #000080\">│</span>\n",
       "<span style=\"color: #000080; text-decoration-color: #000080\">│</span>                       <span style=\"color: #808000; text-decoration-color: #808000; font-style: italic\">from_index</span> = <span style=\"color: #00ffff; text-decoration-color: #00ffff; font-style: italic\">def </span><span style=\"color: #800000; text-decoration-color: #800000; font-weight: bold\">from_index</span><span style=\"font-weight: bold\">(</span>index_path: Union<span style=\"font-weight: bold\">[</span>str, pathlib.Path<span style=\"font-weight: bold\">]</span>, n_gpu: int = <span style=\"color: #008080; text-decoration-color: #008080; font-weight: bold\">-1</span>,        <span style=\"color: #000080; text-decoration-color: #000080\">│</span>\n",
       "<span style=\"color: #000080; text-decoration-color: #000080\">│</span>                                    verbose: int = <span style=\"color: #008080; text-decoration-color: #008080; font-weight: bold\">1</span><span style=\"font-weight: bold\">)</span>: <span style=\"color: #7f7f7f; text-decoration-color: #7f7f7f\">Load an Index and the associated ColBERT encoder from an </span> <span style=\"color: #000080; text-decoration-color: #000080\">│</span>\n",
       "<span style=\"color: #000080; text-decoration-color: #000080\">│</span>                                    <span style=\"color: #7f7f7f; text-decoration-color: #7f7f7f\">existing document index.</span>                                                     <span style=\"color: #000080; text-decoration-color: #000080\">│</span>\n",
       "<span style=\"color: #000080; text-decoration-color: #000080\">│</span>                  <span style=\"color: #808000; text-decoration-color: #808000; font-style: italic\">from_pretrained</span> = <span style=\"color: #00ffff; text-decoration-color: #00ffff; font-style: italic\">def </span><span style=\"color: #800000; text-decoration-color: #800000; font-weight: bold\">from_pretrained</span><span style=\"font-weight: bold\">(</span>pretrained_model_name_or_path: Union<span style=\"font-weight: bold\">[</span>str, pathlib.Path<span style=\"font-weight: bold\">]</span>, <span style=\"color: #000080; text-decoration-color: #000080\">│</span>\n",
       "<span style=\"color: #000080; text-decoration-color: #000080\">│</span>                                    n_gpu: int = <span style=\"color: #008080; text-decoration-color: #008080; font-weight: bold\">-1</span>, verbose: int = <span style=\"color: #008080; text-decoration-color: #008080; font-weight: bold\">1</span><span style=\"font-weight: bold\">)</span>: <span style=\"color: #7f7f7f; text-decoration-color: #7f7f7f\">Load a ColBERT model from a pre-trained </span> <span style=\"color: #000080; text-decoration-color: #000080\">│</span>\n",
       "<span style=\"color: #000080; text-decoration-color: #000080\">│</span>                                    <span style=\"color: #7f7f7f; text-decoration-color: #7f7f7f\">checkpoint.</span>                                                                  <span style=\"color: #000080; text-decoration-color: #000080\">│</span>\n",
       "<span style=\"color: #000080; text-decoration-color: #000080\">│</span>                            <span style=\"color: #808000; text-decoration-color: #808000; font-style: italic\">index</span> = <span style=\"color: #00ffff; text-decoration-color: #00ffff; font-style: italic\">def </span><span style=\"color: #800000; text-decoration-color: #800000; font-weight: bold\">index</span><span style=\"font-weight: bold\">(</span>collection: list<span style=\"font-weight: bold\">[</span>str<span style=\"font-weight: bold\">]</span>, index_name: str = <span style=\"color: #800080; text-decoration-color: #800080; font-style: italic\">None</span>, overwrite_index:    <span style=\"color: #000080; text-decoration-color: #000080\">│</span>\n",
       "<span style=\"color: #000080; text-decoration-color: #000080\">│</span>                                    bool = <span style=\"color: #00ff00; text-decoration-color: #00ff00; font-style: italic\">True</span>, max_document_length: int = <span style=\"color: #008080; text-decoration-color: #008080; font-weight: bold\">256</span>, split_documents: bool = <span style=\"color: #00ff00; text-decoration-color: #00ff00; font-style: italic\">True</span>,   <span style=\"color: #000080; text-decoration-color: #000080\">│</span>\n",
       "<span style=\"color: #000080; text-decoration-color: #000080\">│</span>                                    document_splitter_fn: Optional<span style=\"font-weight: bold\">[</span>Callable<span style=\"font-weight: bold\">]</span> = <span style=\"font-weight: bold\">&lt;</span><span style=\"color: #ff00ff; text-decoration-color: #ff00ff; font-weight: bold\">function</span><span style=\"color: #000000; text-decoration-color: #000000\"> </span>                        <span style=\"color: #000080; text-decoration-color: #000080\">│</span>\n",
       "<span style=\"color: #000080; text-decoration-color: #000080\">│</span>                                    <span style=\"color: #000000; text-decoration-color: #000000\">llama_index_sentence_splitter at </span><span style=\"color: #008080; text-decoration-color: #008080; font-weight: bold\">0x7fa02a5b6200</span><span style=\"font-weight: bold\">&gt;</span>, preprocessing_fn:          <span style=\"color: #000080; text-decoration-color: #000080\">│</span>\n",
       "<span style=\"color: #000080; text-decoration-color: #000080\">│</span>                                    Union<span style=\"font-weight: bold\">[</span>Callable, list<span style=\"font-weight: bold\">[</span>Callable<span style=\"font-weight: bold\">]</span>, NoneType<span style=\"font-weight: bold\">]</span> = <span style=\"color: #800080; text-decoration-color: #800080; font-style: italic\">None</span><span style=\"font-weight: bold\">)</span>: <span style=\"color: #7f7f7f; text-decoration-color: #7f7f7f\">Build an index from a </span>    <span style=\"color: #000080; text-decoration-color: #000080\">│</span>\n",
       "<span style=\"color: #000080; text-decoration-color: #000080\">│</span>                                    <span style=\"color: #7f7f7f; text-decoration-color: #7f7f7f\">collection of documents.</span>                                                     <span style=\"color: #000080; text-decoration-color: #000080\">│</span>\n",
       "<span style=\"color: #000080; text-decoration-color: #000080\">│</span>                           <span style=\"color: #808000; text-decoration-color: #808000; font-style: italic\">rerank</span> = <span style=\"color: #00ffff; text-decoration-color: #00ffff; font-style: italic\">def </span><span style=\"color: #800000; text-decoration-color: #800000; font-weight: bold\">rerank</span><span style=\"font-weight: bold\">(</span>query: Union<span style=\"font-weight: bold\">[</span>str, list<span style=\"font-weight: bold\">[</span>str<span style=\"font-weight: bold\">]]</span>, documents: list<span style=\"font-weight: bold\">[</span>str<span style=\"font-weight: bold\">]</span>, k: int = <span style=\"color: #008080; text-decoration-color: #008080; font-weight: bold\">10</span>,  <span style=\"color: #000080; text-decoration-color: #000080\">│</span>\n",
       "<span style=\"color: #000080; text-decoration-color: #000080\">│</span>                                    zero_index_ranks: bool = <span style=\"color: #ff0000; text-decoration-color: #ff0000; font-style: italic\">False</span>, bsize: int = <span style=\"color: #008080; text-decoration-color: #008080; font-weight: bold\">64</span><span style=\"font-weight: bold\">)</span>: <span style=\"color: #7f7f7f; text-decoration-color: #7f7f7f\">Encode documents and </span>      <span style=\"color: #000080; text-decoration-color: #000080\">│</span>\n",
       "<span style=\"color: #000080; text-decoration-color: #000080\">│</span>                                    <span style=\"color: #7f7f7f; text-decoration-color: #7f7f7f\">rerank them in-memory. Performance degrades rapidly with more documents.</span>     <span style=\"color: #000080; text-decoration-color: #000080\">│</span>\n",
       "<span style=\"color: #000080; text-decoration-color: #000080\">│</span>                           <span style=\"color: #808000; text-decoration-color: #808000; font-style: italic\">search</span> = <span style=\"color: #00ffff; text-decoration-color: #00ffff; font-style: italic\">def </span><span style=\"color: #800000; text-decoration-color: #800000; font-weight: bold\">search</span><span style=\"font-weight: bold\">(</span>query: Union<span style=\"font-weight: bold\">[</span>str, list<span style=\"font-weight: bold\">[</span>str<span style=\"font-weight: bold\">]]</span>, index_name:                         <span style=\"color: #000080; text-decoration-color: #000080\">│</span>\n",
       "<span style=\"color: #000080; text-decoration-color: #000080\">│</span>                                    Optional<span style=\"font-weight: bold\">[</span><span style=\"color: #800080; text-decoration-color: #800080; font-weight: bold\">ForwardRef</span><span style=\"font-weight: bold\">(</span><span style=\"color: #008000; text-decoration-color: #008000\">'str'</span><span style=\"font-weight: bold\">)]</span> = <span style=\"color: #800080; text-decoration-color: #800080; font-style: italic\">None</span>, k: int = <span style=\"color: #008080; text-decoration-color: #008080; font-weight: bold\">10</span>, force_fast: bool = <span style=\"color: #ff0000; text-decoration-color: #ff0000; font-style: italic\">False</span>,   <span style=\"color: #000080; text-decoration-color: #000080\">│</span>\n",
       "<span style=\"color: #000080; text-decoration-color: #000080\">│</span>                                    zero_index_ranks: bool = <span style=\"color: #ff0000; text-decoration-color: #ff0000; font-style: italic\">False</span>, **kwargs<span style=\"font-weight: bold\">)</span>: <span style=\"color: #7f7f7f; text-decoration-color: #7f7f7f\">Query an index.</span>                   <span style=\"color: #000080; text-decoration-color: #000080\">│</span>\n",
       "<span style=\"color: #000080; text-decoration-color: #000080\">╰─────────────────────────────────────────────────────────────────────────────────────────────────────────────────╯</span>\n",
       "</pre>\n"
      ],
      "text/plain": [
       "\u001b[34m╭─\u001b[0m\u001b[34m─────────────────────────\u001b[0m\u001b[34m \u001b[0m\u001b[1;34m<\u001b[0m\u001b[1;95mclass\u001b[0m\u001b[39m \u001b[0m\u001b[32m'ragatouille.RAGPretrainedModel.RAGPretrainedModel'\u001b[0m\u001b[1;34m>\u001b[0m\u001b[34m \u001b[0m\u001b[34m─────────────────────────\u001b[0m\u001b[34m─╮\u001b[0m\n",
       "\u001b[34m│\u001b[0m \u001b[36mWrapper class for a pretrained RAG late-interaction model, and all the associated utilities.\u001b[0m                    \u001b[34m│\u001b[0m\n",
       "\u001b[34m│\u001b[0m \u001b[36mAllows you to load a pretrained model from disk or from the hub, build or query an index.\u001b[0m                       \u001b[34m│\u001b[0m\n",
       "\u001b[34m│\u001b[0m                                                                                                                 \u001b[34m│\u001b[0m\n",
       "\u001b[34m│\u001b[0m \u001b[32m╭─────────────────────────────────────────────────────────────────────────────────────────────────────────────╮\u001b[0m \u001b[34m│\u001b[0m\n",
       "\u001b[34m│\u001b[0m \u001b[32m│\u001b[0m \u001b[1m<\u001b[0m\u001b[1;95mragatouille.RAGPretrainedModel.RAGPretrainedModel\u001b[0m\u001b[39m object at \u001b[0m\u001b[1;36m0x7f9f56b903a0\u001b[0m\u001b[1m>\u001b[0m                                \u001b[32m│\u001b[0m \u001b[34m│\u001b[0m\n",
       "\u001b[34m│\u001b[0m \u001b[32m╰─────────────────────────────────────────────────────────────────────────────────────────────────────────────╯\u001b[0m \u001b[34m│\u001b[0m\n",
       "\u001b[34m│\u001b[0m                                                                                                                 \u001b[34m│\u001b[0m\n",
       "\u001b[34m│\u001b[0m                 \u001b[3;33mcorpus_processor\u001b[0m = \u001b[3;35mNone\u001b[0m                                                                         \u001b[34m│\u001b[0m\n",
       "\u001b[34m│\u001b[0m                            \u001b[3;33mmodel\u001b[0m = \u001b[1m<\u001b[0m\u001b[1;95mragatouille.models.colbert.ColBERT\u001b[0m\u001b[39m object at \u001b[0m\u001b[1;36m0x7f9f56b910f0\u001b[0m\u001b[1m>\u001b[0m                \u001b[34m│\u001b[0m\n",
       "\u001b[34m│\u001b[0m                       \u001b[3;33mmodel_name\u001b[0m = \u001b[3;35mNone\u001b[0m                                                                         \u001b[34m│\u001b[0m\n",
       "\u001b[34m│\u001b[0m                     \u001b[3;33madd_to_index\u001b[0m = \u001b[3;96mdef \u001b[0m\u001b[1;31madd_to_index\u001b[0m\u001b[1m(\u001b[0mnew_documents: list\u001b[1m[\u001b[0mstr\u001b[1m]\u001b[0m, index_name: Optional\u001b[1m[\u001b[0mstr\u001b[1m]\u001b[0m = \u001b[3;35mNone\u001b[0m, \u001b[34m│\u001b[0m\n",
       "\u001b[34m│\u001b[0m                                    split_documents: bool = \u001b[3;92mTrue\u001b[0m, document_splitter_fn: Optional\u001b[1m[\u001b[0mCallable\u001b[1m]\u001b[0m =     \u001b[34m│\u001b[0m\n",
       "\u001b[34m│\u001b[0m                                    \u001b[1m<\u001b[0m\u001b[1;95mfunction\u001b[0m\u001b[39m llama_index_sentence_splitter at \u001b[0m\u001b[1;36m0x7fa02a5b6200\u001b[0m\u001b[1m>\u001b[0m,                  \u001b[34m│\u001b[0m\n",
       "\u001b[34m│\u001b[0m                                    preprocessing_fn: Union\u001b[1m[\u001b[0mCallable, list\u001b[1m[\u001b[0mCallable\u001b[1m]\u001b[0m, NoneType\u001b[1m]\u001b[0m = \u001b[3;35mNone\u001b[0m\u001b[1m)\u001b[0m: \u001b[2mAdd \u001b[0m    \u001b[34m│\u001b[0m\n",
       "\u001b[34m│\u001b[0m                                    \u001b[2mdocuments to an existing index.\u001b[0m                                              \u001b[34m│\u001b[0m\n",
       "\u001b[34m│\u001b[0m \u001b[3;33mas_langchain_document_compressor\u001b[0m = \u001b[3;96mdef \u001b[0m\u001b[1;31mas_langchain_document_compressor\u001b[0m\u001b[1m(\u001b[0mk: int = \u001b[1;36m5\u001b[0m, **kwargs: Any\u001b[1m)\u001b[0m ->           \u001b[34m│\u001b[0m\n",
       "\u001b[34m│\u001b[0m                                    langchain.retrievers.document_compressors.base.BaseDocumentCompressor:       \u001b[34m│\u001b[0m\n",
       "\u001b[34m│\u001b[0m           \u001b[3;33mas_langchain_retriever\u001b[0m = \u001b[3;96mdef \u001b[0m\u001b[1;31mas_langchain_retriever\u001b[0m\u001b[1m(\u001b[0m**kwargs: Any\u001b[1m)\u001b[0m ->                                 \u001b[34m│\u001b[0m\n",
       "\u001b[34m│\u001b[0m                                    langchain_core.retrievers.BaseRetriever:                                     \u001b[34m│\u001b[0m\n",
       "\u001b[34m│\u001b[0m                       \u001b[3;33mfrom_index\u001b[0m = \u001b[3;96mdef \u001b[0m\u001b[1;31mfrom_index\u001b[0m\u001b[1m(\u001b[0mindex_path: Union\u001b[1m[\u001b[0mstr, pathlib.Path\u001b[1m]\u001b[0m, n_gpu: int = \u001b[1;36m-1\u001b[0m,        \u001b[34m│\u001b[0m\n",
       "\u001b[34m│\u001b[0m                                    verbose: int = \u001b[1;36m1\u001b[0m\u001b[1m)\u001b[0m: \u001b[2mLoad an Index and the associated ColBERT encoder from an \u001b[0m \u001b[34m│\u001b[0m\n",
       "\u001b[34m│\u001b[0m                                    \u001b[2mexisting document index.\u001b[0m                                                     \u001b[34m│\u001b[0m\n",
       "\u001b[34m│\u001b[0m                  \u001b[3;33mfrom_pretrained\u001b[0m = \u001b[3;96mdef \u001b[0m\u001b[1;31mfrom_pretrained\u001b[0m\u001b[1m(\u001b[0mpretrained_model_name_or_path: Union\u001b[1m[\u001b[0mstr, pathlib.Path\u001b[1m]\u001b[0m, \u001b[34m│\u001b[0m\n",
       "\u001b[34m│\u001b[0m                                    n_gpu: int = \u001b[1;36m-1\u001b[0m, verbose: int = \u001b[1;36m1\u001b[0m\u001b[1m)\u001b[0m: \u001b[2mLoad a ColBERT model from a pre-trained \u001b[0m \u001b[34m│\u001b[0m\n",
       "\u001b[34m│\u001b[0m                                    \u001b[2mcheckpoint.\u001b[0m                                                                  \u001b[34m│\u001b[0m\n",
       "\u001b[34m│\u001b[0m                            \u001b[3;33mindex\u001b[0m = \u001b[3;96mdef \u001b[0m\u001b[1;31mindex\u001b[0m\u001b[1m(\u001b[0mcollection: list\u001b[1m[\u001b[0mstr\u001b[1m]\u001b[0m, index_name: str = \u001b[3;35mNone\u001b[0m, overwrite_index:    \u001b[34m│\u001b[0m\n",
       "\u001b[34m│\u001b[0m                                    bool = \u001b[3;92mTrue\u001b[0m, max_document_length: int = \u001b[1;36m256\u001b[0m, split_documents: bool = \u001b[3;92mTrue\u001b[0m,   \u001b[34m│\u001b[0m\n",
       "\u001b[34m│\u001b[0m                                    document_splitter_fn: Optional\u001b[1m[\u001b[0mCallable\u001b[1m]\u001b[0m = \u001b[1m<\u001b[0m\u001b[1;95mfunction\u001b[0m\u001b[39m \u001b[0m                        \u001b[34m│\u001b[0m\n",
       "\u001b[34m│\u001b[0m                                    \u001b[39mllama_index_sentence_splitter at \u001b[0m\u001b[1;36m0x7fa02a5b6200\u001b[0m\u001b[1m>\u001b[0m, preprocessing_fn:          \u001b[34m│\u001b[0m\n",
       "\u001b[34m│\u001b[0m                                    Union\u001b[1m[\u001b[0mCallable, list\u001b[1m[\u001b[0mCallable\u001b[1m]\u001b[0m, NoneType\u001b[1m]\u001b[0m = \u001b[3;35mNone\u001b[0m\u001b[1m)\u001b[0m: \u001b[2mBuild an index from a \u001b[0m    \u001b[34m│\u001b[0m\n",
       "\u001b[34m│\u001b[0m                                    \u001b[2mcollection of documents.\u001b[0m                                                     \u001b[34m│\u001b[0m\n",
       "\u001b[34m│\u001b[0m                           \u001b[3;33mrerank\u001b[0m = \u001b[3;96mdef \u001b[0m\u001b[1;31mrerank\u001b[0m\u001b[1m(\u001b[0mquery: Union\u001b[1m[\u001b[0mstr, list\u001b[1m[\u001b[0mstr\u001b[1m]\u001b[0m\u001b[1m]\u001b[0m, documents: list\u001b[1m[\u001b[0mstr\u001b[1m]\u001b[0m, k: int = \u001b[1;36m10\u001b[0m,  \u001b[34m│\u001b[0m\n",
       "\u001b[34m│\u001b[0m                                    zero_index_ranks: bool = \u001b[3;91mFalse\u001b[0m, bsize: int = \u001b[1;36m64\u001b[0m\u001b[1m)\u001b[0m: \u001b[2mEncode documents and \u001b[0m      \u001b[34m│\u001b[0m\n",
       "\u001b[34m│\u001b[0m                                    \u001b[2mrerank them in-memory. Performance degrades rapidly with more documents.\u001b[0m     \u001b[34m│\u001b[0m\n",
       "\u001b[34m│\u001b[0m                           \u001b[3;33msearch\u001b[0m = \u001b[3;96mdef \u001b[0m\u001b[1;31msearch\u001b[0m\u001b[1m(\u001b[0mquery: Union\u001b[1m[\u001b[0mstr, list\u001b[1m[\u001b[0mstr\u001b[1m]\u001b[0m\u001b[1m]\u001b[0m, index_name:                         \u001b[34m│\u001b[0m\n",
       "\u001b[34m│\u001b[0m                                    Optional\u001b[1m[\u001b[0m\u001b[1;35mForwardRef\u001b[0m\u001b[1m(\u001b[0m\u001b[32m'str'\u001b[0m\u001b[1m)\u001b[0m\u001b[1m]\u001b[0m = \u001b[3;35mNone\u001b[0m, k: int = \u001b[1;36m10\u001b[0m, force_fast: bool = \u001b[3;91mFalse\u001b[0m,   \u001b[34m│\u001b[0m\n",
       "\u001b[34m│\u001b[0m                                    zero_index_ranks: bool = \u001b[3;91mFalse\u001b[0m, **kwargs\u001b[1m)\u001b[0m: \u001b[2mQuery an index.\u001b[0m                   \u001b[34m│\u001b[0m\n",
       "\u001b[34m╰─────────────────────────────────────────────────────────────────────────────────────────────────────────────────╯\u001b[0m\n"
      ]
     },
     "metadata": {},
     "output_type": "display_data"
    }
   ],
   "source": [
    "rinspect(RAG, methods=True, docs=True, private=True)"
   ]
  },
  {
   "cell_type": "code",
   "execution_count": null,
   "metadata": {},
   "outputs": [],
   "source": []
  }
 ],
 "metadata": {
  "kernelspec": {
   "display_name": "ragatouille",
   "language": "python",
   "name": "python3"
  },
  "language_info": {
   "codemirror_mode": {
    "name": "ipython",
    "version": 3
   },
   "file_extension": ".py",
   "mimetype": "text/x-python",
   "name": "python",
   "nbconvert_exporter": "python",
   "pygments_lexer": "ipython3",
   "version": "3.10.13"
  }
 },
 "nbformat": 4,
 "nbformat_minor": 2
}
